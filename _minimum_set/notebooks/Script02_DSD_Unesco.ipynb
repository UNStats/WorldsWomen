{
 "cells": [
  {
   "cell_type": "markdown",
   "metadata": {},
   "source": [
    "# Data from UNESCO\n",
    "\n",
    "Download csvs from UNESCO's SDMX API. "
   ]
  },
  {
   "cell_type": "markdown",
   "metadata": {},
   "source": [
    "## Load required libraries"
   ]
  },
  {
   "cell_type": "code",
   "execution_count": 1,
   "metadata": {},
   "outputs": [],
   "source": [
    "import xmltodict\n",
    "import json\n",
    "import requests \n",
    "import os\n",
    "from bs4 import BeautifulSoup\n",
    "import re\n",
    "import pandas as pd\n",
    "\n",
    "import io"
   ]
  },
  {
   "cell_type": "markdown",
   "metadata": {},
   "source": [
    "## Interactive shell"
   ]
  },
  {
   "cell_type": "code",
   "execution_count": 2,
   "metadata": {},
   "outputs": [],
   "source": [
    "# https://volderette.de/jupyter-notebook-tip-multiple-outputs/\n",
    "from IPython.core.interactiveshell import InteractiveShell\n",
    "InteractiveShell.ast_node_interactivity = \"all\""
   ]
  },
  {
   "cell_type": "markdown",
   "metadata": {},
   "source": [
    "## Use indicator mapping and dictionary to create new indicators"
   ]
  },
  {
   "cell_type": "code",
   "execution_count": 3,
   "metadata": {},
   "outputs": [
    {
     "data": {
      "text/html": [
       "<div>\n",
       "<style scoped>\n",
       "    .dataframe tbody tr th:only-of-type {\n",
       "        vertical-align: middle;\n",
       "    }\n",
       "\n",
       "    .dataframe tbody tr th {\n",
       "        vertical-align: top;\n",
       "    }\n",
       "\n",
       "    .dataframe thead th {\n",
       "        text-align: right;\n",
       "    }\n",
       "</style>\n",
       "<table border=\"1\" class=\"dataframe\">\n",
       "  <thead>\n",
       "    <tr style=\"text-align: right;\">\n",
       "      <th></th>\n",
       "      <th>Series</th>\n",
       "      <th>IndicatorDesc</th>\n",
       "      <th>Disaggregation</th>\n",
       "      <th>Code</th>\n",
       "    </tr>\n",
       "  </thead>\n",
       "  <tbody>\n",
       "    <tr>\n",
       "      <th>0</th>\n",
       "      <td>20</td>\n",
       "      <td>Youth literacy rate of persons (15-24 years), ...</td>\n",
       "      <td>Both_sexes</td>\n",
       "      <td>LR_Ag15t24</td>\n",
       "    </tr>\n",
       "    <tr>\n",
       "      <th>1</th>\n",
       "      <td>20</td>\n",
       "      <td>Youth literacy rate of persons (15-24 years), ...</td>\n",
       "      <td>Female</td>\n",
       "      <td>LR_Ag15t24_F</td>\n",
       "    </tr>\n",
       "    <tr>\n",
       "      <th>2</th>\n",
       "      <td>20</td>\n",
       "      <td>Youth literacy rate of persons (15-24 years), ...</td>\n",
       "      <td>Male</td>\n",
       "      <td>LR_Ag15t24_M</td>\n",
       "    </tr>\n",
       "    <tr>\n",
       "      <th>3</th>\n",
       "      <td>20gpi</td>\n",
       "      <td>Gender partity index of youth literacy rate of...</td>\n",
       "      <td>GPI</td>\n",
       "      <td>LR_Ag15t24_gpi</td>\n",
       "    </tr>\n",
       "    <tr>\n",
       "      <th>4</th>\n",
       "      <td>21</td>\n",
       "      <td>Adjusted net enrolment rate in primary educati...</td>\n",
       "      <td>Both_sexes</td>\n",
       "      <td>NERA_1_cp</td>\n",
       "    </tr>\n",
       "  </tbody>\n",
       "</table>\n",
       "</div>"
      ],
      "text/plain": [
       "  Series                                      IndicatorDesc Disaggregation  \\\n",
       "0     20  Youth literacy rate of persons (15-24 years), ...     Both_sexes   \n",
       "1     20  Youth literacy rate of persons (15-24 years), ...         Female   \n",
       "2     20  Youth literacy rate of persons (15-24 years), ...           Male   \n",
       "3  20gpi  Gender partity index of youth literacy rate of...            GPI   \n",
       "4     21  Adjusted net enrolment rate in primary educati...     Both_sexes   \n",
       "\n",
       "             Code  \n",
       "0      LR_Ag15t24  \n",
       "1    LR_Ag15t24_F  \n",
       "2    LR_Ag15t24_M  \n",
       "3  LR_Ag15t24_gpi  \n",
       "4       NERA_1_cp  "
      ]
     },
     "execution_count": 3,
     "metadata": {},
     "output_type": "execute_result"
    }
   ],
   "source": [
    "unesco_data_dictionary = pd.read_excel('..\\\\data\\\\UNESCO_UIS_indicators\\\\uis-data-dictionary-education-statistics.xlsx',\n",
    "                                       sheet_name = 'Students and Teachers')\n",
    "\n",
    "indicator_mapping = pd.read_excel('..\\\\data\\\\UNESCO_UIS_indicators\\\\MGSI - unesco.xlsx')\n",
    "indicator_mapping.head(5)\n"
   ]
  },
  {
   "cell_type": "markdown",
   "metadata": {},
   "source": [
    "## Query builder for selected indicators and disaggregations"
   ]
  },
  {
   "cell_type": "code",
   "execution_count": 4,
   "metadata": {},
   "outputs": [
    {
     "data": {
      "text/html": [
       "<div>\n",
       "<style scoped>\n",
       "    .dataframe tbody tr th:only-of-type {\n",
       "        vertical-align: middle;\n",
       "    }\n",
       "\n",
       "    .dataframe tbody tr th {\n",
       "        vertical-align: top;\n",
       "    }\n",
       "\n",
       "    .dataframe thead th {\n",
       "        text-align: right;\n",
       "    }\n",
       "</style>\n",
       "<table border=\"1\" class=\"dataframe\">\n",
       "  <thead>\n",
       "    <tr style=\"text-align: right;\">\n",
       "      <th></th>\n",
       "      <th>Series</th>\n",
       "      <th>IndicatorDesc</th>\n",
       "      <th>Disaggregation</th>\n",
       "      <th>Code</th>\n",
       "    </tr>\n",
       "  </thead>\n",
       "  <tbody>\n",
       "    <tr>\n",
       "      <th>0</th>\n",
       "      <td>20</td>\n",
       "      <td>Youth literacy rate of persons (15-24 years), ...</td>\n",
       "      <td>Both_sexes</td>\n",
       "      <td>lr.ag15t24</td>\n",
       "    </tr>\n",
       "    <tr>\n",
       "      <th>1</th>\n",
       "      <td>20</td>\n",
       "      <td>Youth literacy rate of persons (15-24 years), ...</td>\n",
       "      <td>Female</td>\n",
       "      <td>lr.ag15t24.f</td>\n",
       "    </tr>\n",
       "    <tr>\n",
       "      <th>2</th>\n",
       "      <td>20</td>\n",
       "      <td>Youth literacy rate of persons (15-24 years), ...</td>\n",
       "      <td>Male</td>\n",
       "      <td>lr.ag15t24.m</td>\n",
       "    </tr>\n",
       "    <tr>\n",
       "      <th>3</th>\n",
       "      <td>20gpi</td>\n",
       "      <td>Gender partity index of youth literacy rate of...</td>\n",
       "      <td>GPI</td>\n",
       "      <td>lr.ag15t24.gpi</td>\n",
       "    </tr>\n",
       "    <tr>\n",
       "      <th>4</th>\n",
       "      <td>21</td>\n",
       "      <td>Adjusted net enrolment rate in primary educati...</td>\n",
       "      <td>Both_sexes</td>\n",
       "      <td>nera.1.cp</td>\n",
       "    </tr>\n",
       "  </tbody>\n",
       "</table>\n",
       "</div>"
      ],
      "text/plain": [
       "  Series                                      IndicatorDesc Disaggregation  \\\n",
       "0     20  Youth literacy rate of persons (15-24 years), ...     Both_sexes   \n",
       "1     20  Youth literacy rate of persons (15-24 years), ...         Female   \n",
       "2     20  Youth literacy rate of persons (15-24 years), ...           Male   \n",
       "3  20gpi  Gender partity index of youth literacy rate of...            GPI   \n",
       "4     21  Adjusted net enrolment rate in primary educati...     Both_sexes   \n",
       "\n",
       "             Code  \n",
       "0      lr.ag15t24  \n",
       "1    lr.ag15t24.f  \n",
       "2    lr.ag15t24.m  \n",
       "3  lr.ag15t24.gpi  \n",
       "4       nera.1.cp  "
      ]
     },
     "execution_count": 4,
     "metadata": {},
     "output_type": "execute_result"
    },
    {
     "name": "stdout",
     "output_type": "stream",
     "text": [
      "--This will be the query parameters:\n"
     ]
    },
    {
     "data": {
      "text/plain": [
       "Index(['Statistical unit', 'Unit of measure', 'Level of education',\n",
       "       'Orientation', 'Sex', 'Age', 'Grade', 'Type of institution',\n",
       "       'Level of educational attainment', 'Wealth quintile', 'Location',\n",
       "       'Type of education', 'Field of education', 'School subject',\n",
       "       'Infrastructure', 'Socioeconomic background', 'Teaching experience',\n",
       "       'Type of contract', 'Country/Region of origin', 'Destination region',\n",
       "       'Immigration status'],\n",
       "      dtype='object')"
      ]
     },
     "execution_count": 4,
     "metadata": {},
     "output_type": "execute_result"
    },
    {
     "name": "stdout",
     "output_type": "stream",
     "text": [
      "--This is an example of a query construction:\n"
     ]
    },
    {
     "data": {
      "text/plain": [
       "'UNESCO,EDU_NON_FINANCE,3.0/LR.PT._Z._Z._T.Y15T24._Z._Z._Z._Z._T._Z._Z._Z._Z._Z._Z._Z.W00.W00._Z.'"
      ]
     },
     "execution_count": 4,
     "metadata": {},
     "output_type": "execute_result"
    }
   ],
   "source": [
    "indicator_mapping.Code = [i.replace('_','.') for i in indicator_mapping.Code]\n",
    "indicator_mapping.Code = indicator_mapping['Code'].str.lower()\n",
    "indicator_mapping.head(5)\n",
    "\n",
    "indicator_id = unesco_data_dictionary['Indicator ID'].str.lower()\n",
    "\n",
    "New_list = []\n",
    "\n",
    "print('--This will be the query parameters:')\n",
    "unesco_data_dictionary.columns[6:-2]\n",
    "\n",
    "for i in indicator_mapping.Code:\n",
    "    \n",
    "    a = 'UNESCO,EDU_NON_FINANCE,3.0/'\n",
    "    \n",
    "    query_parameters = unesco_data_dictionary[indicator_id == i].iloc[0,6:-2]\n",
    "    \n",
    "    for s in query_parameters:\n",
    "        a = a  + str(s) +'.'\n",
    "    \n",
    "    New_list.append(a)\n",
    "\n",
    "indicator_mapping['Query'] = New_list\n",
    "\n",
    "print('--This is an example of a query construction:')\n",
    "indicator_mapping['Query'][0]\n"
   ]
  },
  {
   "cell_type": "markdown",
   "metadata": {},
   "source": [
    "## Input API key"
   ]
  },
  {
   "cell_type": "code",
   "execution_count": 5,
   "metadata": {},
   "outputs": [],
   "source": [
    "key = 'eacdf60587ba47a092eaf020b4bd42f5'\n",
    "headers ={'Ocp-Apim-Subscription-key': key}"
   ]
  },
  {
   "cell_type": "markdown",
   "metadata": {},
   "source": [
    "### 1. Get `EDU_NON_FINANCE` data structure definition from API endpoint, save as xml file on disk, and parse using `xmltodict.parse`"
   ]
  },
  {
   "cell_type": "code",
   "execution_count": 6,
   "metadata": {},
   "outputs": [],
   "source": [
    "def get_dsd(dataflow, headers):\n",
    "\n",
    "    baseURL = 'https://api.uis.unesco.org/sdmx/datastructure/UNESCO/'\n",
    "    # url of API endpoint returning all the dissemination dataflows (i.e. indicators) with data available\n",
    "    url = baseURL + dataflow + '/latest/?format=sdmx-2.1&detail=full&references=all&locale=en' # \n",
    "\n",
    "    # creating HTTP response object from given url \n",
    "    resp = requests.get(url, headers = headers) \n",
    "\n",
    "    # saving the xml message into an xml file \n",
    "    with open('DSD__'+dataflow+'.xml', 'wb') as f: \n",
    "        f.write(resp.content) \n",
    "        \n",
    "    with open('DSD__'+dataflow+'.xml', encoding=\"utf-8\") as fd:\n",
    "        doc = xmltodict.parse(fd.read())\n",
    "\n",
    "    return doc"
   ]
  },
  {
   "cell_type": "code",
   "execution_count": 7,
   "metadata": {},
   "outputs": [],
   "source": [
    "dsd = get_dsd('EDU_NON_FINANCE', headers)"
   ]
  },
  {
   "cell_type": "markdown",
   "metadata": {},
   "source": [
    "#### Explore the contents of the first levels of the xml file"
   ]
  },
  {
   "cell_type": "code",
   "execution_count": 8,
   "metadata": {},
   "outputs": [
    {
     "data": {
      "text/plain": [
       "odict_keys(['mes:Structure'])"
      ]
     },
     "execution_count": 8,
     "metadata": {},
     "output_type": "execute_result"
    }
   ],
   "source": [
    "dsd.keys()"
   ]
  },
  {
   "cell_type": "code",
   "execution_count": 9,
   "metadata": {},
   "outputs": [
    {
     "data": {
      "text/plain": [
       "odict_keys(['@xmlns:xsi', '@xmlns:xml', '@xmlns:mes', '@xmlns:str', '@xmlns:com', 'mes:Header', 'mes:Structures'])"
      ]
     },
     "execution_count": 9,
     "metadata": {},
     "output_type": "execute_result"
    }
   ],
   "source": [
    "dsd['mes:Structure'].keys()"
   ]
  },
  {
   "cell_type": "code",
   "execution_count": 10,
   "metadata": {},
   "outputs": [
    {
     "data": {
      "text/plain": [
       "odict_keys(['str:OrganisationSchemes', 'str:Dataflows', 'str:Codelists', 'str:Concepts', 'str:DataStructures'])"
      ]
     },
     "execution_count": 10,
     "metadata": {},
     "output_type": "execute_result"
    }
   ],
   "source": [
    "dsd['mes:Structure']['mes:Structures'].keys()"
   ]
  },
  {
   "cell_type": "code",
   "execution_count": 11,
   "metadata": {},
   "outputs": [
    {
     "data": {
      "text/plain": [
       "odict_keys(['str:DataStructure'])"
      ]
     },
     "execution_count": 11,
     "metadata": {},
     "output_type": "execute_result"
    }
   ],
   "source": [
    "dsd['mes:Structure']['mes:Structures']['str:DataStructures'].keys()"
   ]
  },
  {
   "cell_type": "code",
   "execution_count": 12,
   "metadata": {},
   "outputs": [
    {
     "data": {
      "text/plain": [
       "odict_keys(['@urn', '@isExternalReference', '@agencyID', '@id', '@isFinal', '@version', 'com:Name', 'str:DataStructureComponents'])"
      ]
     },
     "execution_count": 12,
     "metadata": {},
     "output_type": "execute_result"
    }
   ],
   "source": [
    "dsd['mes:Structure']['mes:Structures']['str:DataStructures']['str:DataStructure'].keys()"
   ]
  },
  {
   "cell_type": "markdown",
   "metadata": {},
   "source": [
    "### 2. Get the data pertaining to the dataflow"
   ]
  },
  {
   "cell_type": "code",
   "execution_count": 13,
   "metadata": {},
   "outputs": [],
   "source": [
    "def dataflow_info(dsd):\n",
    "\n",
    "    dataflow = dsd['mes:Structure']['mes:Structures']['str:Dataflows']['str:Dataflow']\n",
    "    \n",
    "    dataflow_id = dataflow['@id']\n",
    "    dataflow_agencyID = dataflow['@agencyID']\n",
    "    dataflow_name = dataflow['com:Name']['#text']\n",
    "\n",
    "\n",
    "    return {'dataflow_id': dataflow_id,\n",
    "            'dataflow_agencyID' : dataflow_agencyID,\n",
    "            'dataflow_name': dataflow_name}"
   ]
  },
  {
   "cell_type": "code",
   "execution_count": 14,
   "metadata": {},
   "outputs": [
    {
     "data": {
      "text/plain": [
       "{'dataflow_id': 'EDU_NON_FINANCE',\n",
       " 'dataflow_agencyID': 'UNESCO',\n",
       " 'dataflow_name': 'Education: Students and Teachers'}"
      ]
     },
     "execution_count": 14,
     "metadata": {},
     "output_type": "execute_result"
    }
   ],
   "source": [
    "dataflow_info(get_dsd('EDU_NON_FINANCE', headers))"
   ]
  },
  {
   "cell_type": "markdown",
   "metadata": {},
   "source": [
    "### 3. Get the code lists pertaining to the dataflow"
   ]
  },
  {
   "cell_type": "code",
   "execution_count": 15,
   "metadata": {},
   "outputs": [
    {
     "data": {
      "text/plain": [
       "odict_keys(['@urn', '@isExternalReference', '@agencyID', '@id', '@isFinal', '@version', 'com:Name', 'com:Description', 'str:Code'])"
      ]
     },
     "execution_count": 15,
     "metadata": {},
     "output_type": "execute_result"
    }
   ],
   "source": [
    "dsd['mes:Structure']['mes:Structures']['str:Codelists']['str:Codelist'][0].keys()\n"
   ]
  },
  {
   "cell_type": "code",
   "execution_count": null,
   "metadata": {},
   "outputs": [],
   "source": [
    "def codelists(dsd):\n",
    "\n",
    "    codelists = []\n",
    "\n",
    "    for cl in dsd['mes:Structure']['mes:Structures']['str:Codelists']['str:Codelist']:\n",
    "        if cl['@agencyID'] != 'UNESCO':\n",
    "            continue\n",
    "        codelist = {}\n",
    "        codelist_agency = cl['@agencyID']\n",
    "        codelist_id = cl['@id']\n",
    "        codelist_name = cl['com:Name']['#text']\n",
    "        if 'com:Description' in cl.keys():\n",
    "            codelist_desc = cl['com:Description']['#text']\n",
    "        else:\n",
    "            codelist_desc = None\n",
    "\n",
    "        codelist['id'] = codelist_id\n",
    "        codelist['agency'] = codelist_agency\n",
    "        codelist['name'] = codelist_name\n",
    "        codelist['desc'] = codelist_desc\n",
    "        codelist['codes'] = []\n",
    "\n",
    "        # Some code lists have only one code; in this case, they are returned as a single dictionary. Other code\n",
    "        # lists have many codes, and in this case they are returned as lists of dictionaries. \n",
    "\n",
    "        if isinstance(cl['str:Code'], list):\n",
    "            for c in cl['str:Code']:\n",
    "                code_desc =  c['com:Name']['#text']\n",
    "\n",
    "                codelist['codes'].append({'code' : c['@id'], 'description' : code_desc})\n",
    "        else:\n",
    "            code_desc =  cl['structure:Code']['common:Name']['#text']\n",
    "\n",
    "            codelist['codes'].append({'code': cl['structure:Code']['@id'], 'description' : code_desc})\n",
    "\n",
    "        codelists.append(codelist)\n",
    "\n",
    "    # Display first four code lists\n",
    "    return codelists\n"
   ]
  },
  {
   "cell_type": "code",
   "execution_count": null,
   "metadata": {},
   "outputs": [],
   "source": [
    "codelists(dsd)[0].keys()"
   ]
  },
  {
   "cell_type": "markdown",
   "metadata": {},
   "source": [
    "### Get data from API endpoint"
   ]
  },
  {
   "cell_type": "code",
   "execution_count": null,
   "metadata": {},
   "outputs": [],
   "source": [
    "def buildUrl(indicatorCode, start = '2000', end = '2018'):\n",
    "    baseURL = 'https://api.uis.unesco.org/sdmx/data/'\n",
    "    url = baseURL +  indicatorCode + '?startPeriod='+start+'&endPeriod='+end+'2018&format=csv&locale=en'  # \n",
    "    return url"
   ]
  },
  {
   "cell_type": "code",
   "execution_count": null,
   "metadata": {},
   "outputs": [],
   "source": [
    "def getcsv (url, file):\n",
    "    # creating HTTP response object from given url \n",
    "    resp = requests.get(url, headers = headers) \n",
    "    return resp\n",
    "#    file_loc = '..\\\\data\\\\UNESCO_UIS_indicators\\\\' + file\n",
    "#    # saving the xml message into an xml file \n",
    "#    with open(file_loc, 'wb') as f: \n",
    "#        f.write(resp.content) \n",
    "#    display('finished downloading ' + file)\n",
    "        "
   ]
  },
  {
   "cell_type": "code",
   "execution_count": null,
   "metadata": {},
   "outputs": [],
   "source": [
    "def parse_data(indicatorCode, start = '2000', end = '2018'):\n",
    "    \n",
    "    baseURL = 'https://api.uis.unesco.org/sdmx/data/'\n",
    "    url = baseURL +  indicatorCode + '?startPeriod='+start+'&endPeriod='+end+'&format=csv&locale=en' \n",
    "    \n",
    "    s=requests.get(url, headers = headers).content\n",
    "    \n",
    "    c=pd.read_csv(io.StringIO(s.decode('utf-8')))\n",
    "    \n",
    "    #c['FREE_TEXT_NOTE'] = c['FREE_TEXT_NOTE'].astype(str)\n",
    "    \n",
    "    return c"
   ]
  },
  {
   "cell_type": "code",
   "execution_count": null,
   "metadata": {},
   "outputs": [],
   "source": [
    "ic = indicator_mapping['Query'][0]\n",
    "\n",
    "parse_data(ic).head(5)"
   ]
  },
  {
   "cell_type": "code",
   "execution_count": null,
   "metadata": {},
   "outputs": [],
   "source": []
  },
  {
   "cell_type": "raw",
   "metadata": {},
   "source": [
    "idctr.shape"
   ]
  }
 ],
 "metadata": {
  "kernelspec": {
   "display_name": "Python 3",
   "language": "python",
   "name": "python3"
  },
  "language_info": {
   "codemirror_mode": {
    "name": "ipython",
    "version": 3
   },
   "file_extension": ".py",
   "mimetype": "text/x-python",
   "name": "python",
   "nbconvert_exporter": "python",
   "pygments_lexer": "ipython3",
   "version": "3.6.8"
  }
 },
 "nbformat": 4,
 "nbformat_minor": 2
}
