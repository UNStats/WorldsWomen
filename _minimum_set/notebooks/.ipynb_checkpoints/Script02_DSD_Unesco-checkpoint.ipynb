{
 "cells": [
  {
   "cell_type": "markdown",
   "metadata": {},
   "source": [
    "# Data from UNESCO\n",
    "\n",
    "Download csvs from UNESCO's SDMX API. "
   ]
  },
  {
   "cell_type": "markdown",
   "metadata": {},
   "source": [
    "## Load required libraries"
   ]
  },
  {
   "cell_type": "code",
   "execution_count": 38,
   "metadata": {},
   "outputs": [],
   "source": [
    "import xmltodict\n",
    "import json\n",
    "import requests \n",
    "import os\n",
    "from bs4 import BeautifulSoup\n",
    "import re\n",
    "import pandas as pd\n",
    "\n",
    "import io"
   ]
  },
  {
   "cell_type": "markdown",
   "metadata": {},
   "source": [
    "## Interactive shell"
   ]
  },
  {
   "cell_type": "code",
   "execution_count": 2,
   "metadata": {},
   "outputs": [],
   "source": [
    "# https://volderette.de/jupyter-notebook-tip-multiple-outputs/\n",
    "from IPython.core.interactiveshell import InteractiveShell\n",
    "InteractiveShell.ast_node_interactivity = \"all\""
   ]
  },
  {
   "cell_type": "markdown",
   "metadata": {},
   "source": [
    "## Use indicator mapping and dictionary to create new indicators"
   ]
  },
  {
   "cell_type": "code",
   "execution_count": 3,
   "metadata": {},
   "outputs": [
    {
     "data": {
      "text/html": [
       "<div>\n",
       "<style scoped>\n",
       "    .dataframe tbody tr th:only-of-type {\n",
       "        vertical-align: middle;\n",
       "    }\n",
       "\n",
       "    .dataframe tbody tr th {\n",
       "        vertical-align: top;\n",
       "    }\n",
       "\n",
       "    .dataframe thead th {\n",
       "        text-align: right;\n",
       "    }\n",
       "</style>\n",
       "<table border=\"1\" class=\"dataframe\">\n",
       "  <thead>\n",
       "    <tr style=\"text-align: right;\">\n",
       "      <th></th>\n",
       "      <th>Series</th>\n",
       "      <th>IndicatorDesc</th>\n",
       "      <th>Disaggregation</th>\n",
       "      <th>Code</th>\n",
       "    </tr>\n",
       "  </thead>\n",
       "  <tbody>\n",
       "    <tr>\n",
       "      <th>0</th>\n",
       "      <td>20</td>\n",
       "      <td>Youth literacy rate of persons (15-24 years), ...</td>\n",
       "      <td>Both_sexes</td>\n",
       "      <td>LR_Ag15t24</td>\n",
       "    </tr>\n",
       "    <tr>\n",
       "      <th>1</th>\n",
       "      <td>20</td>\n",
       "      <td>Youth literacy rate of persons (15-24 years), ...</td>\n",
       "      <td>Female</td>\n",
       "      <td>LR_Ag15t24_F</td>\n",
       "    </tr>\n",
       "    <tr>\n",
       "      <th>2</th>\n",
       "      <td>20</td>\n",
       "      <td>Youth literacy rate of persons (15-24 years), ...</td>\n",
       "      <td>Male</td>\n",
       "      <td>LR_Ag15t24_M</td>\n",
       "    </tr>\n",
       "    <tr>\n",
       "      <th>3</th>\n",
       "      <td>20gpi</td>\n",
       "      <td>Gender partity index of youth literacy rate of...</td>\n",
       "      <td>GPI</td>\n",
       "      <td>LR_Ag15t24_gpi</td>\n",
       "    </tr>\n",
       "    <tr>\n",
       "      <th>4</th>\n",
       "      <td>21</td>\n",
       "      <td>Adjusted net enrolment rate in primary educati...</td>\n",
       "      <td>Both_sexes</td>\n",
       "      <td>NERA_1_cp</td>\n",
       "    </tr>\n",
       "  </tbody>\n",
       "</table>\n",
       "</div>"
      ],
      "text/plain": [
       "  Series                                      IndicatorDesc Disaggregation  \\\n",
       "0     20  Youth literacy rate of persons (15-24 years), ...     Both_sexes   \n",
       "1     20  Youth literacy rate of persons (15-24 years), ...         Female   \n",
       "2     20  Youth literacy rate of persons (15-24 years), ...           Male   \n",
       "3  20gpi  Gender partity index of youth literacy rate of...            GPI   \n",
       "4     21  Adjusted net enrolment rate in primary educati...     Both_sexes   \n",
       "\n",
       "             Code  \n",
       "0      LR_Ag15t24  \n",
       "1    LR_Ag15t24_F  \n",
       "2    LR_Ag15t24_M  \n",
       "3  LR_Ag15t24_gpi  \n",
       "4       NERA_1_cp  "
      ]
     },
     "execution_count": 3,
     "metadata": {},
     "output_type": "execute_result"
    }
   ],
   "source": [
    "unesco_data_dictionary = pd.read_excel('..\\\\data\\\\UNESCO_UIS_indicators\\\\uis-data-dictionary-education-statistics.xlsx',\n",
    "                                       sheet_name = 'Students and Teachers')\n",
    "\n",
    "indicator_mapping = pd.read_excel('..\\\\data\\\\UNESCO_UIS_indicators\\\\MGSI - unesco.xlsx')\n",
    "indicator_mapping.head(5)\n"
   ]
  },
  {
   "cell_type": "markdown",
   "metadata": {},
   "source": [
    "## Query builder for selected indicators and disaggregations"
   ]
  },
  {
   "cell_type": "code",
   "execution_count": 4,
   "metadata": {},
   "outputs": [
    {
     "data": {
      "text/html": [
       "<div>\n",
       "<style scoped>\n",
       "    .dataframe tbody tr th:only-of-type {\n",
       "        vertical-align: middle;\n",
       "    }\n",
       "\n",
       "    .dataframe tbody tr th {\n",
       "        vertical-align: top;\n",
       "    }\n",
       "\n",
       "    .dataframe thead th {\n",
       "        text-align: right;\n",
       "    }\n",
       "</style>\n",
       "<table border=\"1\" class=\"dataframe\">\n",
       "  <thead>\n",
       "    <tr style=\"text-align: right;\">\n",
       "      <th></th>\n",
       "      <th>Series</th>\n",
       "      <th>IndicatorDesc</th>\n",
       "      <th>Disaggregation</th>\n",
       "      <th>Code</th>\n",
       "    </tr>\n",
       "  </thead>\n",
       "  <tbody>\n",
       "    <tr>\n",
       "      <th>0</th>\n",
       "      <td>20</td>\n",
       "      <td>Youth literacy rate of persons (15-24 years), ...</td>\n",
       "      <td>Both_sexes</td>\n",
       "      <td>lr.ag15t24</td>\n",
       "    </tr>\n",
       "    <tr>\n",
       "      <th>1</th>\n",
       "      <td>20</td>\n",
       "      <td>Youth literacy rate of persons (15-24 years), ...</td>\n",
       "      <td>Female</td>\n",
       "      <td>lr.ag15t24.f</td>\n",
       "    </tr>\n",
       "    <tr>\n",
       "      <th>2</th>\n",
       "      <td>20</td>\n",
       "      <td>Youth literacy rate of persons (15-24 years), ...</td>\n",
       "      <td>Male</td>\n",
       "      <td>lr.ag15t24.m</td>\n",
       "    </tr>\n",
       "    <tr>\n",
       "      <th>3</th>\n",
       "      <td>20gpi</td>\n",
       "      <td>Gender partity index of youth literacy rate of...</td>\n",
       "      <td>GPI</td>\n",
       "      <td>lr.ag15t24.gpi</td>\n",
       "    </tr>\n",
       "    <tr>\n",
       "      <th>4</th>\n",
       "      <td>21</td>\n",
       "      <td>Adjusted net enrolment rate in primary educati...</td>\n",
       "      <td>Both_sexes</td>\n",
       "      <td>nera.1.cp</td>\n",
       "    </tr>\n",
       "  </tbody>\n",
       "</table>\n",
       "</div>"
      ],
      "text/plain": [
       "  Series                                      IndicatorDesc Disaggregation  \\\n",
       "0     20  Youth literacy rate of persons (15-24 years), ...     Both_sexes   \n",
       "1     20  Youth literacy rate of persons (15-24 years), ...         Female   \n",
       "2     20  Youth literacy rate of persons (15-24 years), ...           Male   \n",
       "3  20gpi  Gender partity index of youth literacy rate of...            GPI   \n",
       "4     21  Adjusted net enrolment rate in primary educati...     Both_sexes   \n",
       "\n",
       "             Code  \n",
       "0      lr.ag15t24  \n",
       "1    lr.ag15t24.f  \n",
       "2    lr.ag15t24.m  \n",
       "3  lr.ag15t24.gpi  \n",
       "4       nera.1.cp  "
      ]
     },
     "execution_count": 4,
     "metadata": {},
     "output_type": "execute_result"
    },
    {
     "name": "stdout",
     "output_type": "stream",
     "text": [
      "--This will be the query parameters:\n"
     ]
    },
    {
     "data": {
      "text/plain": [
       "Index(['Statistical unit', 'Unit of measure', 'Level of education',\n",
       "       'Orientation', 'Sex', 'Age', 'Grade', 'Type of institution',\n",
       "       'Level of educational attainment', 'Wealth quintile', 'Location',\n",
       "       'Type of education', 'Field of education', 'School subject',\n",
       "       'Infrastructure', 'Socioeconomic background', 'Teaching experience',\n",
       "       'Type of contract', 'Country/Region of origin', 'Destination region',\n",
       "       'Immigration status'],\n",
       "      dtype='object')"
      ]
     },
     "execution_count": 4,
     "metadata": {},
     "output_type": "execute_result"
    },
    {
     "name": "stdout",
     "output_type": "stream",
     "text": [
      "--This is an example of a query construction:\n"
     ]
    },
    {
     "data": {
      "text/plain": [
       "'UNESCO,EDU_NON_FINANCE,3.0/LR.PT._Z._Z._T.Y15T24._Z._Z._Z._Z._T._Z._Z._Z._Z._Z._Z._Z.W00.W00._Z.'"
      ]
     },
     "execution_count": 4,
     "metadata": {},
     "output_type": "execute_result"
    }
   ],
   "source": [
    "indicator_mapping.Code = [i.replace('_','.') for i in indicator_mapping.Code]\n",
    "indicator_mapping.Code = indicator_mapping['Code'].str.lower()\n",
    "indicator_mapping.head(5)\n",
    "\n",
    "indicator_id = unesco_data_dictionary['Indicator ID'].str.lower()\n",
    "\n",
    "New_list = []\n",
    "\n",
    "print('--This will be the query parameters:')\n",
    "unesco_data_dictionary.columns[6:-2]\n",
    "\n",
    "for i in indicator_mapping.Code:\n",
    "    \n",
    "    a = 'UNESCO,EDU_NON_FINANCE,3.0/'\n",
    "    \n",
    "    query_parameters = unesco_data_dictionary[indicator_id == i].iloc[0,6:-2]\n",
    "    \n",
    "    for s in query_parameters:\n",
    "        a = a  + str(s) +'.'\n",
    "    \n",
    "    New_list.append(a)\n",
    "\n",
    "indicator_mapping['Query'] = New_list\n",
    "\n",
    "print('--This is an example of a query construction:')\n",
    "indicator_mapping['Query'][0]\n"
   ]
  },
  {
   "cell_type": "markdown",
   "metadata": {},
   "source": [
    "## Input API key"
   ]
  },
  {
   "cell_type": "code",
   "execution_count": 5,
   "metadata": {},
   "outputs": [],
   "source": [
    "key = 'eacdf60587ba47a092eaf020b4bd42f5'\n",
    "headers ={'Ocp-Apim-Subscription-key': key}"
   ]
  },
  {
   "cell_type": "markdown",
   "metadata": {},
   "source": [
    "### 1. Get `EDU_NON_FINANCE` data structure definition from API endpoint, save as xml file on disk, and parse using `xmltodict.parse`"
   ]
  },
  {
   "cell_type": "code",
   "execution_count": 83,
   "metadata": {},
   "outputs": [],
   "source": [
    "def get_dsd(dataflow, headers):\n",
    "\n",
    "    baseURL = 'https://api.uis.unesco.org/sdmx/datastructure/UNESCO/'\n",
    "    # url of API endpoint returning all the dissemination dataflows (i.e. indicators) with data available\n",
    "    url = baseURL + dataflow + '/latest/?format=sdmx-2.1&detail=full&references=all&locale=en' # \n",
    "\n",
    "    # creating HTTP response object from given url \n",
    "    resp = requests.get(url, headers = headers) \n",
    "\n",
    "    # saving the xml message into an xml file \n",
    "    with open('DSD__'+dataflow+'.xml', 'wb') as f: \n",
    "        f.write(resp.content) \n",
    "        \n",
    "    with open('DSD__'+dataflow+'.xml', encoding=\"utf-8\") as fd:\n",
    "        doc = xmltodict.parse(fd.read())\n",
    "\n",
    "    return doc"
   ]
  },
  {
   "cell_type": "code",
   "execution_count": 84,
   "metadata": {},
   "outputs": [],
   "source": [
    "dsd = get_dsd('EDU_NON_FINANCE', headers)"
   ]
  },
  {
   "cell_type": "markdown",
   "metadata": {},
   "source": [
    "#### Explore the contents of the first levels of the xml file"
   ]
  },
  {
   "cell_type": "code",
   "execution_count": 85,
   "metadata": {},
   "outputs": [
    {
     "data": {
      "text/plain": [
       "odict_keys(['mes:Structure'])"
      ]
     },
     "execution_count": 85,
     "metadata": {},
     "output_type": "execute_result"
    }
   ],
   "source": [
    "dsd.keys()"
   ]
  },
  {
   "cell_type": "code",
   "execution_count": 86,
   "metadata": {},
   "outputs": [
    {
     "data": {
      "text/plain": [
       "odict_keys(['@xmlns:xsi', '@xmlns:xml', '@xmlns:mes', '@xmlns:str', '@xmlns:com', 'mes:Header', 'mes:Structures'])"
      ]
     },
     "execution_count": 86,
     "metadata": {},
     "output_type": "execute_result"
    }
   ],
   "source": [
    "dsd['mes:Structure'].keys()"
   ]
  },
  {
   "cell_type": "code",
   "execution_count": 87,
   "metadata": {},
   "outputs": [
    {
     "data": {
      "text/plain": [
       "odict_keys(['str:OrganisationSchemes', 'str:Dataflows', 'str:Codelists', 'str:Concepts', 'str:DataStructures'])"
      ]
     },
     "execution_count": 87,
     "metadata": {},
     "output_type": "execute_result"
    }
   ],
   "source": [
    "dsd['mes:Structure']['mes:Structures'].keys()"
   ]
  },
  {
   "cell_type": "code",
   "execution_count": 88,
   "metadata": {},
   "outputs": [
    {
     "data": {
      "text/plain": [
       "odict_keys(['str:DataStructure'])"
      ]
     },
     "execution_count": 88,
     "metadata": {},
     "output_type": "execute_result"
    }
   ],
   "source": [
    "dsd['mes:Structure']['mes:Structures']['str:DataStructures'].keys()"
   ]
  },
  {
   "cell_type": "code",
   "execution_count": 89,
   "metadata": {},
   "outputs": [
    {
     "data": {
      "text/plain": [
       "odict_keys(['@urn', '@isExternalReference', '@agencyID', '@id', '@isFinal', '@version', 'com:Name', 'str:DataStructureComponents'])"
      ]
     },
     "execution_count": 89,
     "metadata": {},
     "output_type": "execute_result"
    }
   ],
   "source": [
    "dsd['mes:Structure']['mes:Structures']['str:DataStructures']['str:DataStructure'].keys()"
   ]
  },
  {
   "cell_type": "markdown",
   "metadata": {},
   "source": [
    "### 2. Get the data pertaining to the dataflow"
   ]
  },
  {
   "cell_type": "code",
   "execution_count": 90,
   "metadata": {},
   "outputs": [],
   "source": [
    "def dataflow_info(dsd):\n",
    "\n",
    "    dataflow = dsd['mes:Structure']['mes:Structures']['str:Dataflows']['str:Dataflow']\n",
    "    \n",
    "    dataflow_id = dataflow['@id']\n",
    "    dataflow_agencyID = dataflow['@agencyID']\n",
    "    dataflow_name = dataflow['com:Name']['#text']\n",
    "\n",
    "\n",
    "    return {'dataflow_id': dataflow_id,\n",
    "            'dataflow_agencyID' : dataflow_agencyID,\n",
    "            'dataflow_name': dataflow_name}"
   ]
  },
  {
   "cell_type": "code",
   "execution_count": 91,
   "metadata": {},
   "outputs": [
    {
     "data": {
      "text/plain": [
       "{'dataflow_id': 'EDU_NON_FINANCE',\n",
       " 'dataflow_agencyID': 'UNESCO',\n",
       " 'dataflow_name': 'Education: Students and Teachers'}"
      ]
     },
     "execution_count": 91,
     "metadata": {},
     "output_type": "execute_result"
    }
   ],
   "source": [
    "dataflow_info(get_dsd('EDU_NON_FINANCE', headers))"
   ]
  },
  {
   "cell_type": "markdown",
   "metadata": {},
   "source": [
    "### 3. Get the code lists pertaining to the dataflow"
   ]
  },
  {
   "cell_type": "code",
   "execution_count": 98,
   "metadata": {},
   "outputs": [
    {
     "data": {
      "text/plain": [
       "odict_keys(['@urn', '@isExternalReference', '@agencyID', '@id', '@isFinal', '@version', 'com:Name', 'com:Description', 'str:Code'])"
      ]
     },
     "execution_count": 98,
     "metadata": {},
     "output_type": "execute_result"
    }
   ],
   "source": [
    "dsd['mes:Structure']['mes:Structures']['str:Codelists']['str:Codelist'][0].keys()\n"
   ]
  },
  {
   "cell_type": "code",
   "execution_count": 109,
   "metadata": {},
   "outputs": [],
   "source": [
    "def codelists(dsd):\n",
    "\n",
    "    codelists = []\n",
    "\n",
    "    for cl in dsd['mes:Structure']['mes:Structures']['str:Codelists']['str:Codelist']:\n",
    "        if cl['@agencyID'] != 'UNESCO':\n",
    "            continue\n",
    "        codelist = {}\n",
    "        codelist_agency = cl['@agencyID']\n",
    "        codelist_id = cl['@id']\n",
    "        codelist_name = cl['com:Name']['#text']\n",
    "        if 'com:Description' in cl.keys():\n",
    "            codelist_desc = cl['com:Description']['#text']\n",
    "        else:\n",
    "            codelist_desc = None\n",
    "\n",
    "        codelist['id'] = codelist_id\n",
    "        codelist['agency'] = codelist_agency\n",
    "        codelist['name'] = codelist_name\n",
    "        codelist['desc'] = codelist_desc\n",
    "        codelist['codes'] = []\n",
    "\n",
    "        # Some code lists have only one code; in this case, they are returned as a single dictionary. Other code\n",
    "        # lists have many codes, and in this case they are returned as lists of dictionaries. \n",
    "\n",
    "        if isinstance(cl['str:Code'], list):\n",
    "            for c in cl['str:Code']:\n",
    "                code_desc =  c['com:Name']['#text']\n",
    "\n",
    "                codelist['codes'].append({'code' : c['@id'], 'description' : code_desc})\n",
    "        else:\n",
    "            code_desc =  cl['structure:Code']['common:Name']['#text']\n",
    "\n",
    "            codelist['codes'].append({'code': cl['structure:Code']['@id'], 'description' : code_desc})\n",
    "\n",
    "        codelists.append(codelist)\n",
    "\n",
    "    # Display first four code lists\n",
    "    return codelists\n"
   ]
  },
  {
   "cell_type": "code",
   "execution_count": 111,
   "metadata": {},
   "outputs": [
    {
     "data": {
      "text/plain": [
       "{'id': 'CL_AGE',\n",
       " 'agency': 'UNESCO',\n",
       " 'name': 'Age',\n",
       " 'desc': 'Age of the statistical units',\n",
       " 'codes': [{'code': 'Y_LT15', 'description': 'Less than 15 years'},\n",
       "  {'code': 'Y_GE65', 'description': '65 years and over'},\n",
       "  {'code': 'Y0T1', 'description': '0-1 years'},\n",
       "  {'code': '_T', 'description': 'Total'},\n",
       "  {'code': 'Y15T24', 'description': '15-24 years'},\n",
       "  {'code': 'Y25T64', 'description': '25-64 years'},\n",
       "  {'code': 'Y_GE15', 'description': '15 years and over'},\n",
       "  {'code': 'Y_GE25', 'description': '25 years and over'},\n",
       "  {'code': 'Y_GE50', 'description': '50 years and over'},\n",
       "  {'code': 'TH_ENTRY_AGE', 'description': 'Official entrance age'},\n",
       "  {'code': 'SCH_AGE_GROUP', 'description': 'School-age population'},\n",
       "  {'code': 'UNDER_AGE', 'description': 'Under age'},\n",
       "  {'code': 'OVER_AGE', 'description': 'Over age'},\n",
       "  {'code': '_Z', 'description': 'Not applicable'},\n",
       "  {'code': 'UNDER1_AGE',\n",
       "   'description': 'One year younger than official entry age'},\n",
       "  {'code': 'OVER1_AGE',\n",
       "   'description': 'One year older than official entry age'},\n",
       "  {'code': 'M0T59', 'description': '0-59 months'},\n",
       "  {'code': 'M38T59', 'description': '38-59 months'},\n",
       "  {'code': 'Y_LT5', 'description': 'Less than 5 years'},\n",
       "  {'code': 'Y13T17', 'description': '13-17 years'},\n",
       "  {'code': 'Y15', 'description': '15 year old'},\n",
       "  {'code': 'GE2_OVER_AGE', 'description': 'At least 2 years over age'},\n",
       "  {'code': 'SCH_AGE_L02',\n",
       "   'description': 'School-age population of pre-primary education'},\n",
       "  {'code': 'SCH_AGE_L0',\n",
       "   'description': 'School-age population of early childhood education'},\n",
       "  {'code': 'TH_END_AGE', 'description': 'Official ending age'},\n",
       "  {'code': 'UNDER2_AGE',\n",
       "   'description': 'Two years younger than official entry age'},\n",
       "  {'code': 'UNDER3_AGE',\n",
       "   'description': 'Three years younger than official entry age'},\n",
       "  {'code': 'Y0T7', 'description': '0-7 years'},\n",
       "  {'code': 'Y3T7', 'description': '3-7 years'},\n",
       "  {'code': 'Y6T11', 'description': '6-11 years'},\n",
       "  {'code': 'Y11T15', 'description': '11-15 years'},\n",
       "  {'code': 'Y12T14', 'description': '12-14 years'},\n",
       "  {'code': 'Y15T17', 'description': '15-17 years'},\n",
       "  {'code': 'Y15T64', 'description': '15-64 years'},\n",
       "  {'code': 'Y_LT30', 'description': 'Less than 30 years'},\n",
       "  {'code': 'Y30T39', 'description': '30-39 years'},\n",
       "  {'code': 'Y40T49', 'description': '40-49 years'},\n",
       "  {'code': 'Y50T59', 'description': '50-59 years'},\n",
       "  {'code': 'Y_GE60', 'description': '60 years and over'},\n",
       "  {'code': 'OTH_Y25T99',\n",
       "   'description': 'Excluding population of ages 25 and above'},\n",
       "  {'code': '_U', 'description': 'Age unknown'},\n",
       "  {'code': 'Y0', 'description': '0 year old'},\n",
       "  {'code': 'Y1', 'description': '1 year old'},\n",
       "  {'code': 'Y2', 'description': '2 year old'},\n",
       "  {'code': 'Y3', 'description': '3 year old'},\n",
       "  {'code': 'Y4', 'description': '4 year old'},\n",
       "  {'code': 'Y5', 'description': '5 year old'},\n",
       "  {'code': 'Y6', 'description': '6 year old'},\n",
       "  {'code': 'Y7', 'description': '7 year old'},\n",
       "  {'code': 'Y8', 'description': '8 year old'},\n",
       "  {'code': 'Y9', 'description': '9 year old'},\n",
       "  {'code': 'Y10', 'description': '10 year old'},\n",
       "  {'code': 'Y11', 'description': '11 year old'},\n",
       "  {'code': 'Y12', 'description': '12 year old'},\n",
       "  {'code': 'Y13', 'description': '13 year old'},\n",
       "  {'code': 'Y14', 'description': '14 year old'},\n",
       "  {'code': 'Y16', 'description': '16 year old'},\n",
       "  {'code': 'Y17', 'description': '17 year old'},\n",
       "  {'code': 'Y18', 'description': '18 year old'},\n",
       "  {'code': 'Y19', 'description': '19 year old'},\n",
       "  {'code': 'Y20', 'description': '20 year old'},\n",
       "  {'code': 'Y21', 'description': '21 year old'},\n",
       "  {'code': 'Y22', 'description': '22 year old'},\n",
       "  {'code': 'Y23', 'description': '23 year old'},\n",
       "  {'code': 'Y24', 'description': '24 year old'},\n",
       "  {'code': 'Y25', 'description': '25 year old'},\n",
       "  {'code': 'Y26', 'description': '26 year old'},\n",
       "  {'code': 'Y27', 'description': '27 year old'},\n",
       "  {'code': 'Y28', 'description': '28 year old'},\n",
       "  {'code': 'Y29', 'description': '29 year old'},\n",
       "  {'code': 'Y30', 'description': '30 year old'},\n",
       "  {'code': 'Y31', 'description': '31 year old'},\n",
       "  {'code': 'Y32', 'description': '32 year old'},\n",
       "  {'code': 'Y33', 'description': '33 year old'},\n",
       "  {'code': 'Y34', 'description': '34 year old'},\n",
       "  {'code': 'Y0T4', 'description': '0-4 years'},\n",
       "  {'code': 'Y0T14', 'description': '0-14 years'},\n",
       "  {'code': 'Y5T9', 'description': '5-9 years'},\n",
       "  {'code': 'Y5T79', 'description': '5-79 years'},\n",
       "  {'code': 'Y10T14', 'description': '10-14 years'},\n",
       "  {'code': 'Y15T19', 'description': '15-19 years'},\n",
       "  {'code': 'Y20T24', 'description': '20-24 years'},\n",
       "  {'code': 'Y25T29', 'description': '25-29 years'},\n",
       "  {'code': 'Y30T34', 'description': '30-34 years'},\n",
       "  {'code': 'Y35T39', 'description': '35-39 years'},\n",
       "  {'code': 'Y40T44', 'description': '40-44 years'},\n",
       "  {'code': 'Y45T49', 'description': '45-49 years'},\n",
       "  {'code': 'Y50T54', 'description': '50-54 years'},\n",
       "  {'code': 'Y55T59', 'description': '55-59 years'},\n",
       "  {'code': 'Y60T64', 'description': '60-64 years'},\n",
       "  {'code': 'Y65T69', 'description': '65-69 years'},\n",
       "  {'code': 'Y70T74', 'description': '70-74 years'},\n",
       "  {'code': 'Y75T79', 'description': '75-79 years'},\n",
       "  {'code': 'Y80T84', 'description': '80-84 years'},\n",
       "  {'code': 'Y_GE80', 'description': '80 years and over'},\n",
       "  {'code': '_X', 'description': 'Not specified'},\n",
       "  {'code': 'Y_LT25', 'description': 'Less than 25 years'},\n",
       "  {'code': 'Y25T34', 'description': '25-34 years'},\n",
       "  {'code': 'Y35T44', 'description': '35-44 years'},\n",
       "  {'code': 'Y45T54', 'description': '45-54 years'},\n",
       "  {'code': 'Y55T64', 'description': '55-64 years'},\n",
       "  {'code': 'TH_ENTRY_GLAST',\n",
       "   'description': 'Official entrance age to the last grade'},\n",
       "  {'code': 'ISC1_IN_ISC02',\n",
       "   'description': 'Primary school age in pre-primary education'},\n",
       "  {'code': 'CE', 'description': 'Compulsory school age'}]}"
      ]
     },
     "execution_count": 111,
     "metadata": {},
     "output_type": "execute_result"
    }
   ],
   "source": [
    "codelists(dsd)[0]"
   ]
  },
  {
   "cell_type": "markdown",
   "metadata": {},
   "source": [
    "### Get data from API endpoint"
   ]
  },
  {
   "cell_type": "code",
   "execution_count": 32,
   "metadata": {},
   "outputs": [],
   "source": [
    "def buildUrl(indicatorCode, start = '2000', end = '2018'):\n",
    "    baseURL = 'https://api.uis.unesco.org/sdmx/data/'\n",
    "    url = baseURL +  indicatorCode + '?startPeriod='+start+'&endPeriod='+end+'2018&format=csv&locale=en'  # \n",
    "    return url"
   ]
  },
  {
   "cell_type": "code",
   "execution_count": 35,
   "metadata": {},
   "outputs": [],
   "source": [
    "def getcsv (url, file):\n",
    "    # creating HTTP response object from given url \n",
    "    resp = requests.get(url, headers = headers) \n",
    "    return resp\n",
    "#    file_loc = '..\\\\data\\\\UNESCO_UIS_indicators\\\\' + file\n",
    "#    # saving the xml message into an xml file \n",
    "#    with open(file_loc, 'wb') as f: \n",
    "#        f.write(resp.content) \n",
    "#    display('finished downloading ' + file)\n",
    "        "
   ]
  },
  {
   "cell_type": "code",
   "execution_count": 36,
   "metadata": {},
   "outputs": [],
   "source": [
    "def parse_data(indicatorCode, start = '2000', end = '2018'):\n",
    "    \n",
    "    baseURL = 'https://api.uis.unesco.org/sdmx/data/'\n",
    "    url = baseURL +  indicatorCode + '?startPeriod='+start+'&endPeriod='+end+'&format=csv&locale=en' \n",
    "    \n",
    "    s=requests.get(url, headers = headers).content\n",
    "    \n",
    "    c=pd.read_csv(io.StringIO(s.decode('utf-8')))\n",
    "    \n",
    "    #c['FREE_TEXT_NOTE'] = c['FREE_TEXT_NOTE'].astype(str)\n",
    "    \n",
    "    return c"
   ]
  },
  {
   "cell_type": "code",
   "execution_count": 41,
   "metadata": {},
   "outputs": [
    {
     "data": {
      "text/html": [
       "<div>\n",
       "<style scoped>\n",
       "    .dataframe tbody tr th:only-of-type {\n",
       "        vertical-align: middle;\n",
       "    }\n",
       "\n",
       "    .dataframe tbody tr th {\n",
       "        vertical-align: top;\n",
       "    }\n",
       "\n",
       "    .dataframe thead th {\n",
       "        text-align: right;\n",
       "    }\n",
       "</style>\n",
       "<table border=\"1\" class=\"dataframe\">\n",
       "  <thead>\n",
       "    <tr style=\"text-align: right;\">\n",
       "      <th></th>\n",
       "      <th>STAT_UNIT</th>\n",
       "      <th>UNIT_MEASURE</th>\n",
       "      <th>EDU_LEVEL</th>\n",
       "      <th>EDU_CAT</th>\n",
       "      <th>SEX</th>\n",
       "      <th>AGE</th>\n",
       "      <th>GRADE</th>\n",
       "      <th>SECTOR_EDU</th>\n",
       "      <th>EDU_ATTAIN</th>\n",
       "      <th>WEALTH_QUINTILE</th>\n",
       "      <th>...</th>\n",
       "      <th>COUNTRY_ORIGIN</th>\n",
       "      <th>REGION_DEST</th>\n",
       "      <th>IMM_STATUS</th>\n",
       "      <th>REF_AREA</th>\n",
       "      <th>TIME_PERIOD</th>\n",
       "      <th>OBS_VALUE</th>\n",
       "      <th>UNIT_MULT</th>\n",
       "      <th>OBS_STATUS</th>\n",
       "      <th>FREQ</th>\n",
       "      <th>DECIMALS</th>\n",
       "    </tr>\n",
       "  </thead>\n",
       "  <tbody>\n",
       "    <tr>\n",
       "      <th>0</th>\n",
       "      <td>LR</td>\n",
       "      <td>PT</td>\n",
       "      <td>_Z</td>\n",
       "      <td>_Z</td>\n",
       "      <td>_T</td>\n",
       "      <td>Y15T24</td>\n",
       "      <td>_Z</td>\n",
       "      <td>_Z</td>\n",
       "      <td>_Z</td>\n",
       "      <td>_Z</td>\n",
       "      <td>...</td>\n",
       "      <td>W00</td>\n",
       "      <td>W00</td>\n",
       "      <td>_Z</td>\n",
       "      <td>AE</td>\n",
       "      <td>2005</td>\n",
       "      <td>95.00645</td>\n",
       "      <td>0</td>\n",
       "      <td>A</td>\n",
       "      <td>A</td>\n",
       "      <td>5</td>\n",
       "    </tr>\n",
       "    <tr>\n",
       "      <th>1</th>\n",
       "      <td>LR</td>\n",
       "      <td>PT</td>\n",
       "      <td>_Z</td>\n",
       "      <td>_Z</td>\n",
       "      <td>_T</td>\n",
       "      <td>Y15T24</td>\n",
       "      <td>_Z</td>\n",
       "      <td>_Z</td>\n",
       "      <td>_Z</td>\n",
       "      <td>_Z</td>\n",
       "      <td>...</td>\n",
       "      <td>W00</td>\n",
       "      <td>W00</td>\n",
       "      <td>_Z</td>\n",
       "      <td>AF</td>\n",
       "      <td>2011</td>\n",
       "      <td>46.99005</td>\n",
       "      <td>0</td>\n",
       "      <td>A</td>\n",
       "      <td>A</td>\n",
       "      <td>5</td>\n",
       "    </tr>\n",
       "    <tr>\n",
       "      <th>2</th>\n",
       "      <td>LR</td>\n",
       "      <td>PT</td>\n",
       "      <td>_Z</td>\n",
       "      <td>_Z</td>\n",
       "      <td>_T</td>\n",
       "      <td>Y15T24</td>\n",
       "      <td>_Z</td>\n",
       "      <td>_Z</td>\n",
       "      <td>_Z</td>\n",
       "      <td>_Z</td>\n",
       "      <td>...</td>\n",
       "      <td>W00</td>\n",
       "      <td>W00</td>\n",
       "      <td>_Z</td>\n",
       "      <td>AF</td>\n",
       "      <td>2018</td>\n",
       "      <td>65.42055</td>\n",
       "      <td>0</td>\n",
       "      <td>E</td>\n",
       "      <td>A</td>\n",
       "      <td>5</td>\n",
       "    </tr>\n",
       "    <tr>\n",
       "      <th>3</th>\n",
       "      <td>LR</td>\n",
       "      <td>PT</td>\n",
       "      <td>_Z</td>\n",
       "      <td>_Z</td>\n",
       "      <td>_T</td>\n",
       "      <td>Y15T24</td>\n",
       "      <td>_Z</td>\n",
       "      <td>_Z</td>\n",
       "      <td>_Z</td>\n",
       "      <td>_Z</td>\n",
       "      <td>...</td>\n",
       "      <td>W00</td>\n",
       "      <td>W00</td>\n",
       "      <td>_Z</td>\n",
       "      <td>AIMS_ASIA_PAC</td>\n",
       "      <td>2000</td>\n",
       "      <td>86.68584</td>\n",
       "      <td>0</td>\n",
       "      <td>A</td>\n",
       "      <td>A</td>\n",
       "      <td>5</td>\n",
       "    </tr>\n",
       "    <tr>\n",
       "      <th>4</th>\n",
       "      <td>LR</td>\n",
       "      <td>PT</td>\n",
       "      <td>_Z</td>\n",
       "      <td>_Z</td>\n",
       "      <td>_T</td>\n",
       "      <td>Y15T24</td>\n",
       "      <td>_Z</td>\n",
       "      <td>_Z</td>\n",
       "      <td>_Z</td>\n",
       "      <td>_Z</td>\n",
       "      <td>...</td>\n",
       "      <td>W00</td>\n",
       "      <td>W00</td>\n",
       "      <td>_Z</td>\n",
       "      <td>AIMS_ASIA_PAC</td>\n",
       "      <td>2001</td>\n",
       "      <td>86.59168</td>\n",
       "      <td>0</td>\n",
       "      <td>A</td>\n",
       "      <td>A</td>\n",
       "      <td>5</td>\n",
       "    </tr>\n",
       "  </tbody>\n",
       "</table>\n",
       "<p>5 rows × 28 columns</p>\n",
       "</div>"
      ],
      "text/plain": [
       "  STAT_UNIT UNIT_MEASURE EDU_LEVEL EDU_CAT SEX     AGE GRADE SECTOR_EDU  \\\n",
       "0        LR           PT        _Z      _Z  _T  Y15T24    _Z         _Z   \n",
       "1        LR           PT        _Z      _Z  _T  Y15T24    _Z         _Z   \n",
       "2        LR           PT        _Z      _Z  _T  Y15T24    _Z         _Z   \n",
       "3        LR           PT        _Z      _Z  _T  Y15T24    _Z         _Z   \n",
       "4        LR           PT        _Z      _Z  _T  Y15T24    _Z         _Z   \n",
       "\n",
       "  EDU_ATTAIN WEALTH_QUINTILE  ... COUNTRY_ORIGIN REGION_DEST IMM_STATUS  \\\n",
       "0         _Z              _Z  ...            W00         W00         _Z   \n",
       "1         _Z              _Z  ...            W00         W00         _Z   \n",
       "2         _Z              _Z  ...            W00         W00         _Z   \n",
       "3         _Z              _Z  ...            W00         W00         _Z   \n",
       "4         _Z              _Z  ...            W00         W00         _Z   \n",
       "\n",
       "        REF_AREA TIME_PERIOD OBS_VALUE UNIT_MULT OBS_STATUS FREQ DECIMALS  \n",
       "0             AE        2005  95.00645         0          A    A        5  \n",
       "1             AF        2011  46.99005         0          A    A        5  \n",
       "2             AF        2018  65.42055         0          E    A        5  \n",
       "3  AIMS_ASIA_PAC        2000  86.68584         0          A    A        5  \n",
       "4  AIMS_ASIA_PAC        2001  86.59168         0          A    A        5  \n",
       "\n",
       "[5 rows x 28 columns]"
      ]
     },
     "execution_count": 41,
     "metadata": {},
     "output_type": "execute_result"
    }
   ],
   "source": [
    "ic = indicator_mapping['Query'][0]\n",
    "\n",
    "parse_data(ic).head(5)"
   ]
  },
  {
   "cell_type": "code",
   "execution_count": null,
   "metadata": {},
   "outputs": [],
   "source": []
  },
  {
   "cell_type": "raw",
   "metadata": {},
   "source": [
    "idctr.shape"
   ]
  }
 ],
 "metadata": {
  "kernelspec": {
   "display_name": "Python 3",
   "language": "python",
   "name": "python3"
  },
  "language_info": {
   "codemirror_mode": {
    "name": "ipython",
    "version": 3
   },
   "file_extension": ".py",
   "mimetype": "text/x-python",
   "name": "python",
   "nbconvert_exporter": "python",
   "pygments_lexer": "ipython3",
   "version": "3.6.8"
  }
 },
 "nbformat": 4,
 "nbformat_minor": 2
}
