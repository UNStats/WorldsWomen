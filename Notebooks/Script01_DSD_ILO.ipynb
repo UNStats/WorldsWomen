{
 "cells": [
  {
   "cell_type": "markdown",
   "metadata": {},
   "source": [
    "# Parse an ILO data structure definition"
   ]
  },
  {
   "cell_type": "markdown",
   "metadata": {},
   "source": [
    "### Load required libraries"
   ]
  },
  {
   "cell_type": "code",
   "execution_count": 1,
   "metadata": {},
   "outputs": [],
   "source": [
    "import xmltodict\n",
    "import json\n",
    "import requests \n",
    "import xml.etree.ElementTree as ET \n",
    "\n",
    "import pandas as pd\n",
    "from pandas.api.types import is_string_dtype\n",
    "from pandas.api.types import is_numeric_dtype\n",
    "import io\n",
    "\n",
    "import math"
   ]
  },
  {
   "cell_type": "markdown",
   "metadata": {},
   "source": [
    "### Interactive shell"
   ]
  },
  {
   "cell_type": "code",
   "execution_count": 2,
   "metadata": {},
   "outputs": [],
   "source": [
    "# https://volderette.de/jupyter-notebook-tip-multiple-outputs/\n",
    "from IPython.core.interactiveshell import InteractiveShell\n",
    "InteractiveShell.ast_node_interactivity = \"all\""
   ]
  },
  {
   "cell_type": "markdown",
   "metadata": {},
   "source": [
    "### 1. Get data from API endpoint, save as xml file on disk, and parse using `xmltodict.parse`"
   ]
  },
  {
   "cell_type": "code",
   "execution_count": 3,
   "metadata": {},
   "outputs": [],
   "source": [
    "def get_dsd(dataflow):\n",
    "\n",
    "    baseURL = 'https://www.ilo.org/sdmx/rest/datastructure/ILO/'\n",
    "\n",
    "    # url of API endpoint returning all the dissemination dataflows (i.e. indicators) with data available\n",
    "    url = baseURL + dataflow + '?references=all' # \n",
    "\n",
    "    # creating HTTP response object from given url \n",
    "    resp = requests.get(url) \n",
    "\n",
    "    # saving the xml message into an xml file \n",
    "    with open('DSD__'+dataflow+'.xml', 'wb') as f: \n",
    "        f.write(resp.content) \n",
    "        \n",
    "    with open('DSD__'+dataflow+'.xml', encoding=\"utf-8\") as fd:\n",
    "        doc = xmltodict.parse(fd.read())\n",
    "\n",
    "    return doc"
   ]
  },
  {
   "cell_type": "code",
   "execution_count": 4,
   "metadata": {},
   "outputs": [],
   "source": [
    "\n",
    "test_dsd = get_dsd('YI_ALL_EAP_DWAP_SEX_AGE_GEO_RT')\n"
   ]
  },
  {
   "cell_type": "markdown",
   "metadata": {},
   "source": [
    "#### Explore the contents of the first levels of the xml file"
   ]
  },
  {
   "cell_type": "code",
   "execution_count": 5,
   "metadata": {},
   "outputs": [
    {
     "data": {
      "text/plain": [
       "odict_keys(['message:Structure'])"
      ]
     },
     "execution_count": 5,
     "metadata": {},
     "output_type": "execute_result"
    }
   ],
   "source": [
    "test_dsd.keys()"
   ]
  },
  {
   "cell_type": "code",
   "execution_count": 6,
   "metadata": {},
   "outputs": [
    {
     "data": {
      "text/plain": [
       "odict_keys(['@xmlns:message', '@xmlns:structure', '@xmlns:common', 'message:Header', 'message:Structures'])"
      ]
     },
     "execution_count": 6,
     "metadata": {},
     "output_type": "execute_result"
    }
   ],
   "source": [
    "test_dsd['message:Structure'].keys()"
   ]
  },
  {
   "cell_type": "code",
   "execution_count": 7,
   "metadata": {},
   "outputs": [
    {
     "data": {
      "text/plain": [
       "odict_keys(['structure:OrganisationSchemes', 'structure:Dataflows', 'structure:Codelists', 'structure:Concepts', 'structure:DataStructures'])"
      ]
     },
     "execution_count": 7,
     "metadata": {},
     "output_type": "execute_result"
    }
   ],
   "source": [
    "test_dsd['message:Structure']['message:Structures'].keys()"
   ]
  },
  {
   "cell_type": "markdown",
   "metadata": {},
   "source": [
    "### 2. Get the data pertaining to the dataflow"
   ]
  },
  {
   "cell_type": "code",
   "execution_count": 8,
   "metadata": {},
   "outputs": [],
   "source": [
    "def dataflow_info(dsd):\n",
    "\n",
    "    dataflow = dsd['message:Structure']['message:Structures']['structure:Dataflows']['structure:Dataflow']\n",
    "    #dataflow\n",
    "    dataflow_id = dataflow['@id']\n",
    "    dataflow_agencyID = dataflow['@agencyID']\n",
    "    for dfn in dataflow['common:Name']:\n",
    "        if dfn['@xml:lang'] == 'en':\n",
    "            dataflow_name = (dfn['#text'])\n",
    "    for dfn in dataflow['common:Description']:\n",
    "        if dfn['@xml:lang'] == 'en':\n",
    "            dataflow_description = (dfn['#text'])\n",
    "\n",
    "    return {'dataflow_id': dataflow_id,\n",
    "            'dataflow_agencyID' : dataflow_agencyID,\n",
    "            'dataflow_name': dataflow_name,\n",
    "            'dataflow_description' : dataflow_description}"
   ]
  },
  {
   "cell_type": "code",
   "execution_count": 9,
   "metadata": {},
   "outputs": [],
   "source": [
    "#dataflow_info(get_dsd('YI_ALL_EAP_DWAP_SEX_AGE_GEO_RT'))"
   ]
  },
  {
   "cell_type": "markdown",
   "metadata": {},
   "source": [
    "### 3. Get the code lists pertaining to the dataflow"
   ]
  },
  {
   "cell_type": "code",
   "execution_count": 10,
   "metadata": {},
   "outputs": [],
   "source": [
    "def codelists(dsd):\n",
    "\n",
    "    codelists = []\n",
    "\n",
    "    for cl in dsd['message:Structure']['message:Structures']['structure:Codelists']['structure:Codelist']:\n",
    "\n",
    "        codelist = {}\n",
    "        codelist_id = cl['@id']\n",
    "\n",
    "        # Get the code list name in English:\n",
    "        for cln in cl['common:Name']:\n",
    "            if cln['@xml:lang'] == 'en':\n",
    "                codelist_name = (cln['#text'])\n",
    "\n",
    "        codelist['id'] = codelist_id\n",
    "        codelist['name'] = codelist_name\n",
    "        codelist['codes'] = []\n",
    "\n",
    "        # Some code lists have only one code; in this case, they are returned as a single dictionary. Other code\n",
    "        # lists have many codes, and in this case they are returned as lists of dictionaries. \n",
    "\n",
    "        if isinstance(cl['structure:Code'], list):\n",
    "            for c in cl['structure:Code']:\n",
    "                for cn in c['common:Name']:\n",
    "                    if cn['@xml:lang'] == 'en':\n",
    "                        code_desc = (cn['#text'])\n",
    "\n",
    "                        codelist['codes'].append({'code' : c['@id'], 'description' : code_desc})\n",
    "        else:\n",
    "            for cn in cl['structure:Code']['common:Name']:\n",
    "                if cn['@xml:lang'] == 'en':\n",
    "                    code_desc = (cn['#text'])\n",
    "\n",
    "                    codelist['codes'].append({'code': cl['structure:Code']['@id'], 'description' : code_desc})\n",
    "\n",
    "        codelists.append(codelist)\n",
    "\n",
    "    # Display first four code lists\n",
    "    return codelists\n"
   ]
  },
  {
   "cell_type": "code",
   "execution_count": 11,
   "metadata": {},
   "outputs": [],
   "source": [
    "#codelists(get_dsd('YI_ALL_EAP_DWAP_SEX_AGE_GEO_RT'))[0]"
   ]
  },
  {
   "cell_type": "markdown",
   "metadata": {},
   "source": [
    "### 4. Get the concepts (and their respective code list ids) pertaining to the data flow"
   ]
  },
  {
   "cell_type": "code",
   "execution_count": 12,
   "metadata": {},
   "outputs": [],
   "source": [
    "def concepts(dsd):\n",
    "\n",
    "    concept_schemes = dsd['message:Structure']['message:Structures']['structure:Concepts']['structure:ConceptScheme']\n",
    "\n",
    "    concepts = []\n",
    "\n",
    "    for cs in concept_schemes:\n",
    "\n",
    "        for c in cs['structure:Concept']:\n",
    "            concept = {}\n",
    "\n",
    "            concept['id'] = c['@id']\n",
    "\n",
    "            # Get the concept scheme name in English:\n",
    "            for cn in c['common:Name']:\n",
    "                if cn['@xml:lang'] == 'en':\n",
    "                    concept['name'] = (cn['#text'])\n",
    "                    concept['scheme'] =  cs['@id']\n",
    "\n",
    "\n",
    "\n",
    "            # Check if c contains any entry with key 'structure:CoreRepresentation' \n",
    "            if 'structure:CoreRepresentation' in c:\n",
    "                concept['code_list'] = c['structure:CoreRepresentation']['structure:Enumeration']['Ref']['@id']\n",
    "            else:\n",
    "                concept['code_list'] = None\n",
    "\n",
    "            concepts.append(concept)\n",
    "\n",
    "    return concepts\n"
   ]
  },
  {
   "cell_type": "code",
   "execution_count": 13,
   "metadata": {},
   "outputs": [],
   "source": [
    "#concepts(get_dsd('YI_ALL_EAP_DWAP_SEX_AGE_GEO_RT'))"
   ]
  },
  {
   "cell_type": "markdown",
   "metadata": {},
   "source": [
    "### 5. Get data structures"
   ]
  },
  {
   "cell_type": "code",
   "execution_count": 14,
   "metadata": {},
   "outputs": [],
   "source": [
    "def structure(dsd):\n",
    "        \n",
    "    dimensionList =  dsd['message:Structure']['message:Structures']['structure:DataStructures']['structure:DataStructure']['structure:DataStructureComponents']['structure:DimensionList']\n",
    "    attributeList =  dsd['message:Structure']['message:Structures']['structure:DataStructures']['structure:DataStructure']['structure:DataStructureComponents']['structure:AttributeList']\n",
    "    measureList =  dsd['message:Structure']['message:Structures']['structure:DataStructures']['structure:DataStructure']['structure:DataStructureComponents']['structure:MeasureList']\n",
    "\n",
    "    dimensions = []\n",
    "    for d in dimensionList['structure:Dimension']:\n",
    "        dimensions.append(d['@id'])                      \n",
    "    #display(dimensions)\n",
    "\n",
    "\n",
    "    attributes = []\n",
    "    for a in attributeList['structure:Attribute']:\n",
    "        attributes.append(a['@id'])                      \n",
    "    #display(attributes)\n",
    "\n",
    "    measures = []\n",
    "    measures.append(measureList['structure:PrimaryMeasure']['@id'])\n",
    "    #display(measures)\n",
    "\n",
    "    structure = {'dimensions' : dimensions,\n",
    "                 'attributes' : attributes,\n",
    "                 'measures' : measures}\n",
    "\n",
    "    return structure"
   ]
  },
  {
   "cell_type": "code",
   "execution_count": 15,
   "metadata": {},
   "outputs": [],
   "source": [
    "#structure(get_dsd('YI_ALL_EAP_DWAP_SEX_AGE_GEO_RT'))"
   ]
  },
  {
   "cell_type": "markdown",
   "metadata": {},
   "source": [
    "### 6. Pack everything together"
   ]
  },
  {
   "cell_type": "code",
   "execution_count": 16,
   "metadata": {},
   "outputs": [],
   "source": [
    "def parse_dsd(dsd):\n",
    "\n",
    "    dsd2 = dataflow_info(dsd)\n",
    "\n",
    "    dsd2['concepts'] = concepts(dsd)\n",
    "    dsd2['structure'] = structure(dsd)\n",
    "    dsd2['codelists'] = codelists(dsd)\n",
    "\n",
    "    return(dsd2)\n",
    "\n"
   ]
  },
  {
   "cell_type": "code",
   "execution_count": 17,
   "metadata": {},
   "outputs": [],
   "source": [
    "#parse_dsd(get_dsd('YI_ALL_EAP_DWAP_SEX_AGE_GEO_RT'))"
   ]
  },
  {
   "cell_type": "markdown",
   "metadata": {},
   "source": [
    "## Read data in csv format"
   ]
  },
  {
   "cell_type": "code",
   "execution_count": 18,
   "metadata": {},
   "outputs": [],
   "source": [
    "def parse_data(dataflow,start,end):\n",
    "    \n",
    "    baseURL = 'https://www.ilo.org/sdmx/rest/data/ILO,DF_'\n",
    "    url = baseURL + dataflow + '/?format=csv&startPeriod=' + start + '&endPeriod=' + end# \n",
    "    s=requests.get(url).content\n",
    "    \n",
    "    c=pd.read_csv(io.StringIO(s.decode('utf-8')))\n",
    "    \n",
    "    return c"
   ]
  },
  {
   "cell_type": "code",
   "execution_count": 19,
   "metadata": {},
   "outputs": [
    {
     "data": {
      "text/html": [
       "<div>\n",
       "<style scoped>\n",
       "    .dataframe tbody tr th:only-of-type {\n",
       "        vertical-align: middle;\n",
       "    }\n",
       "\n",
       "    .dataframe tbody tr th {\n",
       "        vertical-align: top;\n",
       "    }\n",
       "\n",
       "    .dataframe thead th {\n",
       "        text-align: right;\n",
       "    }\n",
       "</style>\n",
       "<table border=\"1\" class=\"dataframe\">\n",
       "  <thead>\n",
       "    <tr style=\"text-align: right;\">\n",
       "      <th></th>\n",
       "      <th>DATAFLOW</th>\n",
       "      <th>COLLECTION</th>\n",
       "      <th>REF_AREA</th>\n",
       "      <th>FREQ</th>\n",
       "      <th>SURVEY</th>\n",
       "      <th>MEASURE</th>\n",
       "      <th>SEX</th>\n",
       "      <th>AGE</th>\n",
       "      <th>GEO</th>\n",
       "      <th>TIME_PERIOD</th>\n",
       "      <th>...</th>\n",
       "      <th>T2</th>\n",
       "      <th>I8</th>\n",
       "      <th>OBS_STATUS</th>\n",
       "      <th>UNIT_MEASURE_TYPE</th>\n",
       "      <th>UNIT_MEASURE</th>\n",
       "      <th>UNIT_MULT</th>\n",
       "      <th>FREE_TEXT_NOTE</th>\n",
       "      <th>DECIMALS</th>\n",
       "      <th>SOURCE</th>\n",
       "      <th>INDICATOR</th>\n",
       "    </tr>\n",
       "  </thead>\n",
       "  <tbody>\n",
       "    <tr>\n",
       "      <th>0</th>\n",
       "      <td>ILO:DF_YI_ALL_EAP_DWAP_SEX_AGE_GEO_RT(1.0)</td>\n",
       "      <td>YI</td>\n",
       "      <td>PRT</td>\n",
       "      <td>A</td>\n",
       "      <td>2252</td>\n",
       "      <td>EAP_DWAP_RT</td>\n",
       "      <td>SEX_T</td>\n",
       "      <td>AGE_AGGREGATE_TOTAL</td>\n",
       "      <td>GEO_COV_NAT</td>\n",
       "      <td>2002</td>\n",
       "      <td>...</td>\n",
       "      <td>NaN</td>\n",
       "      <td>NaN</td>\n",
       "      <td>NaN</td>\n",
       "      <td>RT</td>\n",
       "      <td>PT</td>\n",
       "      <td>0</td>\n",
       "      <td>NaN</td>\n",
       "      <td>1</td>\n",
       "      <td>BA</td>\n",
       "      <td>EAP_DWAP_SEX_AGE_GEO_RT</td>\n",
       "    </tr>\n",
       "    <tr>\n",
       "      <th>1</th>\n",
       "      <td>ILO:DF_YI_ALL_EAP_DWAP_SEX_AGE_GEO_RT(1.0)</td>\n",
       "      <td>YI</td>\n",
       "      <td>PRT</td>\n",
       "      <td>A</td>\n",
       "      <td>2252</td>\n",
       "      <td>EAP_DWAP_RT</td>\n",
       "      <td>SEX_T</td>\n",
       "      <td>AGE_AGGREGATE_TOTAL</td>\n",
       "      <td>GEO_COV_NAT</td>\n",
       "      <td>2003</td>\n",
       "      <td>...</td>\n",
       "      <td>NaN</td>\n",
       "      <td>NaN</td>\n",
       "      <td>NaN</td>\n",
       "      <td>RT</td>\n",
       "      <td>PT</td>\n",
       "      <td>0</td>\n",
       "      <td>NaN</td>\n",
       "      <td>1</td>\n",
       "      <td>BA</td>\n",
       "      <td>EAP_DWAP_SEX_AGE_GEO_RT</td>\n",
       "    </tr>\n",
       "    <tr>\n",
       "      <th>2</th>\n",
       "      <td>ILO:DF_YI_ALL_EAP_DWAP_SEX_AGE_GEO_RT(1.0)</td>\n",
       "      <td>YI</td>\n",
       "      <td>PRT</td>\n",
       "      <td>A</td>\n",
       "      <td>2252</td>\n",
       "      <td>EAP_DWAP_RT</td>\n",
       "      <td>SEX_T</td>\n",
       "      <td>AGE_AGGREGATE_TOTAL</td>\n",
       "      <td>GEO_COV_NAT</td>\n",
       "      <td>2004</td>\n",
       "      <td>...</td>\n",
       "      <td>NaN</td>\n",
       "      <td>NaN</td>\n",
       "      <td>NaN</td>\n",
       "      <td>RT</td>\n",
       "      <td>PT</td>\n",
       "      <td>0</td>\n",
       "      <td>NaN</td>\n",
       "      <td>1</td>\n",
       "      <td>BA</td>\n",
       "      <td>EAP_DWAP_SEX_AGE_GEO_RT</td>\n",
       "    </tr>\n",
       "    <tr>\n",
       "      <th>3</th>\n",
       "      <td>ILO:DF_YI_ALL_EAP_DWAP_SEX_AGE_GEO_RT(1.0)</td>\n",
       "      <td>YI</td>\n",
       "      <td>PRT</td>\n",
       "      <td>A</td>\n",
       "      <td>2252</td>\n",
       "      <td>EAP_DWAP_RT</td>\n",
       "      <td>SEX_T</td>\n",
       "      <td>AGE_AGGREGATE_TOTAL</td>\n",
       "      <td>GEO_COV_NAT</td>\n",
       "      <td>2005</td>\n",
       "      <td>...</td>\n",
       "      <td>NaN</td>\n",
       "      <td>NaN</td>\n",
       "      <td>NaN</td>\n",
       "      <td>RT</td>\n",
       "      <td>PT</td>\n",
       "      <td>0</td>\n",
       "      <td>NaN</td>\n",
       "      <td>1</td>\n",
       "      <td>BA</td>\n",
       "      <td>EAP_DWAP_SEX_AGE_GEO_RT</td>\n",
       "    </tr>\n",
       "    <tr>\n",
       "      <th>4</th>\n",
       "      <td>ILO:DF_YI_ALL_EAP_DWAP_SEX_AGE_GEO_RT(1.0)</td>\n",
       "      <td>YI</td>\n",
       "      <td>PRT</td>\n",
       "      <td>A</td>\n",
       "      <td>2252</td>\n",
       "      <td>EAP_DWAP_RT</td>\n",
       "      <td>SEX_T</td>\n",
       "      <td>AGE_AGGREGATE_TOTAL</td>\n",
       "      <td>GEO_COV_NAT</td>\n",
       "      <td>2006</td>\n",
       "      <td>...</td>\n",
       "      <td>NaN</td>\n",
       "      <td>NaN</td>\n",
       "      <td>NaN</td>\n",
       "      <td>RT</td>\n",
       "      <td>PT</td>\n",
       "      <td>0</td>\n",
       "      <td>NaN</td>\n",
       "      <td>1</td>\n",
       "      <td>BA</td>\n",
       "      <td>EAP_DWAP_SEX_AGE_GEO_RT</td>\n",
       "    </tr>\n",
       "  </tbody>\n",
       "</table>\n",
       "<p>5 rows × 32 columns</p>\n",
       "</div>"
      ],
      "text/plain": [
       "                                     DATAFLOW COLLECTION REF_AREA FREQ  \\\n",
       "0  ILO:DF_YI_ALL_EAP_DWAP_SEX_AGE_GEO_RT(1.0)         YI      PRT    A   \n",
       "1  ILO:DF_YI_ALL_EAP_DWAP_SEX_AGE_GEO_RT(1.0)         YI      PRT    A   \n",
       "2  ILO:DF_YI_ALL_EAP_DWAP_SEX_AGE_GEO_RT(1.0)         YI      PRT    A   \n",
       "3  ILO:DF_YI_ALL_EAP_DWAP_SEX_AGE_GEO_RT(1.0)         YI      PRT    A   \n",
       "4  ILO:DF_YI_ALL_EAP_DWAP_SEX_AGE_GEO_RT(1.0)         YI      PRT    A   \n",
       "\n",
       "   SURVEY      MEASURE    SEX                  AGE          GEO  TIME_PERIOD  \\\n",
       "0    2252  EAP_DWAP_RT  SEX_T  AGE_AGGREGATE_TOTAL  GEO_COV_NAT         2002   \n",
       "1    2252  EAP_DWAP_RT  SEX_T  AGE_AGGREGATE_TOTAL  GEO_COV_NAT         2003   \n",
       "2    2252  EAP_DWAP_RT  SEX_T  AGE_AGGREGATE_TOTAL  GEO_COV_NAT         2004   \n",
       "3    2252  EAP_DWAP_RT  SEX_T  AGE_AGGREGATE_TOTAL  GEO_COV_NAT         2005   \n",
       "4    2252  EAP_DWAP_RT  SEX_T  AGE_AGGREGATE_TOTAL  GEO_COV_NAT         2006   \n",
       "\n",
       "   ...  T2  I8  OBS_STATUS  UNIT_MEASURE_TYPE  UNIT_MEASURE  UNIT_MULT  \\\n",
       "0  ... NaN NaN         NaN                 RT            PT          0   \n",
       "1  ... NaN NaN         NaN                 RT            PT          0   \n",
       "2  ... NaN NaN         NaN                 RT            PT          0   \n",
       "3  ... NaN NaN         NaN                 RT            PT          0   \n",
       "4  ... NaN NaN         NaN                 RT            PT          0   \n",
       "\n",
       "   FREE_TEXT_NOTE  DECIMALS  SOURCE                INDICATOR  \n",
       "0             NaN         1      BA  EAP_DWAP_SEX_AGE_GEO_RT  \n",
       "1             NaN         1      BA  EAP_DWAP_SEX_AGE_GEO_RT  \n",
       "2             NaN         1      BA  EAP_DWAP_SEX_AGE_GEO_RT  \n",
       "3             NaN         1      BA  EAP_DWAP_SEX_AGE_GEO_RT  \n",
       "4             NaN         1      BA  EAP_DWAP_SEX_AGE_GEO_RT  \n",
       "\n",
       "[5 rows x 32 columns]"
      ]
     },
     "execution_count": 19,
     "metadata": {},
     "output_type": "execute_result"
    },
    {
     "data": {
      "text/plain": [
       "Index(['DATAFLOW', 'COLLECTION', 'REF_AREA', 'FREQ', 'SURVEY', 'MEASURE',\n",
       "       'SEX', 'AGE', 'GEO', 'TIME_PERIOD', 'OBS_VALUE', 'S3', 'T3', 'C12',\n",
       "       'I13', 'S4', 'R1', 'T5', 'C6', 'S14', 'I11', 'S5', 'T2', 'I8',\n",
       "       'OBS_STATUS', 'UNIT_MEASURE_TYPE', 'UNIT_MEASURE', 'UNIT_MULT',\n",
       "       'FREE_TEXT_NOTE', 'DECIMALS', 'SOURCE', 'INDICATOR'],\n",
       "      dtype='object')"
      ]
     },
     "execution_count": 19,
     "metadata": {},
     "output_type": "execute_result"
    }
   ],
   "source": [
    "start = '2000-01-01'\n",
    "end = '2019-12-31'\n",
    "dataflow = 'YI_ALL_EAP_DWAP_SEX_AGE_GEO_RT'\n",
    "\n",
    "x = parse_data(dataflow, start, end)\n",
    "x.head(5)\n",
    "x.columns"
   ]
  },
  {
   "cell_type": "markdown",
   "metadata": {},
   "source": [
    "## Verify existence of duplicates due to multiple surveys"
   ]
  },
  {
   "cell_type": "code",
   "execution_count": 20,
   "metadata": {},
   "outputs": [
    {
     "data": {
      "text/plain": [
       "(93608, 9)"
      ]
     },
     "execution_count": 20,
     "metadata": {},
     "output_type": "execute_result"
    },
    {
     "data": {
      "text/plain": [
       "(91355, 9)"
      ]
     },
     "execution_count": 20,
     "metadata": {},
     "output_type": "execute_result"
    },
    {
     "name": "stdout",
     "output_type": "stream",
     "text": [
      "There are instances of multiple surveys in the same year\n"
     ]
    }
   ],
   "source": [
    "test2 = x[['DATAFLOW', 'COLLECTION', 'REF_AREA', 'FREQ', 'MEASURE','SEX', 'AGE', 'GEO', 'TIME_PERIOD']]\n",
    "test2.shape\n",
    "\n",
    "test1 = x[['DATAFLOW', 'COLLECTION', 'REF_AREA', 'FREQ', 'MEASURE','SEX', 'AGE', 'GEO', 'TIME_PERIOD']].drop_duplicates()\n",
    "test1.shape\n",
    "\n",
    "if test1.shape != test2.shape:\n",
    "    print(\"There are instances of multiple surveys in the same year\")"
   ]
  },
  {
   "cell_type": "markdown",
   "metadata": {},
   "source": [
    "### Pick only the survey with the maximum survey ID"
   ]
  },
  {
   "cell_type": "code",
   "execution_count": 21,
   "metadata": {},
   "outputs": [
    {
     "data": {
      "text/html": [
       "<div>\n",
       "<style scoped>\n",
       "    .dataframe tbody tr th:only-of-type {\n",
       "        vertical-align: middle;\n",
       "    }\n",
       "\n",
       "    .dataframe tbody tr th {\n",
       "        vertical-align: top;\n",
       "    }\n",
       "\n",
       "    .dataframe thead th {\n",
       "        text-align: right;\n",
       "    }\n",
       "</style>\n",
       "<table border=\"1\" class=\"dataframe\">\n",
       "  <thead>\n",
       "    <tr style=\"text-align: right;\">\n",
       "      <th></th>\n",
       "      <th>DATAFLOW</th>\n",
       "      <th>COLLECTION</th>\n",
       "      <th>REF_AREA</th>\n",
       "      <th>FREQ</th>\n",
       "      <th>SURVEY</th>\n",
       "      <th>MEASURE</th>\n",
       "      <th>SEX</th>\n",
       "      <th>AGE</th>\n",
       "      <th>GEO</th>\n",
       "      <th>TIME_PERIOD</th>\n",
       "      <th>...</th>\n",
       "      <th>T2</th>\n",
       "      <th>I8</th>\n",
       "      <th>OBS_STATUS</th>\n",
       "      <th>UNIT_MEASURE_TYPE</th>\n",
       "      <th>UNIT_MEASURE</th>\n",
       "      <th>UNIT_MULT</th>\n",
       "      <th>FREE_TEXT_NOTE</th>\n",
       "      <th>DECIMALS</th>\n",
       "      <th>SOURCE</th>\n",
       "      <th>INDICATOR</th>\n",
       "    </tr>\n",
       "  </thead>\n",
       "  <tbody>\n",
       "    <tr>\n",
       "      <th>0</th>\n",
       "      <td>ILO:DF_YI_ALL_EAP_DWAP_SEX_AGE_GEO_RT(1.0)</td>\n",
       "      <td>YI</td>\n",
       "      <td>PRT</td>\n",
       "      <td>A</td>\n",
       "      <td>2252</td>\n",
       "      <td>EAP_DWAP_RT</td>\n",
       "      <td>SEX_T</td>\n",
       "      <td>AGE_AGGREGATE_TOTAL</td>\n",
       "      <td>GEO_COV_NAT</td>\n",
       "      <td>2002</td>\n",
       "      <td>...</td>\n",
       "      <td>NaN</td>\n",
       "      <td>NaN</td>\n",
       "      <td>NaN</td>\n",
       "      <td>RT</td>\n",
       "      <td>PT</td>\n",
       "      <td>0</td>\n",
       "      <td>nan</td>\n",
       "      <td>1</td>\n",
       "      <td>BA</td>\n",
       "      <td>EAP_DWAP_SEX_AGE_GEO_RT</td>\n",
       "    </tr>\n",
       "    <tr>\n",
       "      <th>1</th>\n",
       "      <td>ILO:DF_YI_ALL_EAP_DWAP_SEX_AGE_GEO_RT(1.0)</td>\n",
       "      <td>YI</td>\n",
       "      <td>PRT</td>\n",
       "      <td>A</td>\n",
       "      <td>2252</td>\n",
       "      <td>EAP_DWAP_RT</td>\n",
       "      <td>SEX_T</td>\n",
       "      <td>AGE_AGGREGATE_TOTAL</td>\n",
       "      <td>GEO_COV_NAT</td>\n",
       "      <td>2003</td>\n",
       "      <td>...</td>\n",
       "      <td>NaN</td>\n",
       "      <td>NaN</td>\n",
       "      <td>NaN</td>\n",
       "      <td>RT</td>\n",
       "      <td>PT</td>\n",
       "      <td>0</td>\n",
       "      <td>nan</td>\n",
       "      <td>1</td>\n",
       "      <td>BA</td>\n",
       "      <td>EAP_DWAP_SEX_AGE_GEO_RT</td>\n",
       "    </tr>\n",
       "    <tr>\n",
       "      <th>2</th>\n",
       "      <td>ILO:DF_YI_ALL_EAP_DWAP_SEX_AGE_GEO_RT(1.0)</td>\n",
       "      <td>YI</td>\n",
       "      <td>PRT</td>\n",
       "      <td>A</td>\n",
       "      <td>2252</td>\n",
       "      <td>EAP_DWAP_RT</td>\n",
       "      <td>SEX_T</td>\n",
       "      <td>AGE_AGGREGATE_TOTAL</td>\n",
       "      <td>GEO_COV_NAT</td>\n",
       "      <td>2004</td>\n",
       "      <td>...</td>\n",
       "      <td>NaN</td>\n",
       "      <td>NaN</td>\n",
       "      <td>NaN</td>\n",
       "      <td>RT</td>\n",
       "      <td>PT</td>\n",
       "      <td>0</td>\n",
       "      <td>nan</td>\n",
       "      <td>1</td>\n",
       "      <td>BA</td>\n",
       "      <td>EAP_DWAP_SEX_AGE_GEO_RT</td>\n",
       "    </tr>\n",
       "    <tr>\n",
       "      <th>3</th>\n",
       "      <td>ILO:DF_YI_ALL_EAP_DWAP_SEX_AGE_GEO_RT(1.0)</td>\n",
       "      <td>YI</td>\n",
       "      <td>PRT</td>\n",
       "      <td>A</td>\n",
       "      <td>2252</td>\n",
       "      <td>EAP_DWAP_RT</td>\n",
       "      <td>SEX_T</td>\n",
       "      <td>AGE_AGGREGATE_TOTAL</td>\n",
       "      <td>GEO_COV_NAT</td>\n",
       "      <td>2005</td>\n",
       "      <td>...</td>\n",
       "      <td>NaN</td>\n",
       "      <td>NaN</td>\n",
       "      <td>NaN</td>\n",
       "      <td>RT</td>\n",
       "      <td>PT</td>\n",
       "      <td>0</td>\n",
       "      <td>nan</td>\n",
       "      <td>1</td>\n",
       "      <td>BA</td>\n",
       "      <td>EAP_DWAP_SEX_AGE_GEO_RT</td>\n",
       "    </tr>\n",
       "    <tr>\n",
       "      <th>4</th>\n",
       "      <td>ILO:DF_YI_ALL_EAP_DWAP_SEX_AGE_GEO_RT(1.0)</td>\n",
       "      <td>YI</td>\n",
       "      <td>PRT</td>\n",
       "      <td>A</td>\n",
       "      <td>2252</td>\n",
       "      <td>EAP_DWAP_RT</td>\n",
       "      <td>SEX_T</td>\n",
       "      <td>AGE_AGGREGATE_TOTAL</td>\n",
       "      <td>GEO_COV_NAT</td>\n",
       "      <td>2006</td>\n",
       "      <td>...</td>\n",
       "      <td>NaN</td>\n",
       "      <td>NaN</td>\n",
       "      <td>NaN</td>\n",
       "      <td>RT</td>\n",
       "      <td>PT</td>\n",
       "      <td>0</td>\n",
       "      <td>nan</td>\n",
       "      <td>1</td>\n",
       "      <td>BA</td>\n",
       "      <td>EAP_DWAP_SEX_AGE_GEO_RT</td>\n",
       "    </tr>\n",
       "  </tbody>\n",
       "</table>\n",
       "<p>5 rows × 32 columns</p>\n",
       "</div>"
      ],
      "text/plain": [
       "                                     DATAFLOW COLLECTION REF_AREA FREQ  \\\n",
       "0  ILO:DF_YI_ALL_EAP_DWAP_SEX_AGE_GEO_RT(1.0)         YI      PRT    A   \n",
       "1  ILO:DF_YI_ALL_EAP_DWAP_SEX_AGE_GEO_RT(1.0)         YI      PRT    A   \n",
       "2  ILO:DF_YI_ALL_EAP_DWAP_SEX_AGE_GEO_RT(1.0)         YI      PRT    A   \n",
       "3  ILO:DF_YI_ALL_EAP_DWAP_SEX_AGE_GEO_RT(1.0)         YI      PRT    A   \n",
       "4  ILO:DF_YI_ALL_EAP_DWAP_SEX_AGE_GEO_RT(1.0)         YI      PRT    A   \n",
       "\n",
       "   SURVEY      MEASURE    SEX                  AGE          GEO  TIME_PERIOD  \\\n",
       "0    2252  EAP_DWAP_RT  SEX_T  AGE_AGGREGATE_TOTAL  GEO_COV_NAT         2002   \n",
       "1    2252  EAP_DWAP_RT  SEX_T  AGE_AGGREGATE_TOTAL  GEO_COV_NAT         2003   \n",
       "2    2252  EAP_DWAP_RT  SEX_T  AGE_AGGREGATE_TOTAL  GEO_COV_NAT         2004   \n",
       "3    2252  EAP_DWAP_RT  SEX_T  AGE_AGGREGATE_TOTAL  GEO_COV_NAT         2005   \n",
       "4    2252  EAP_DWAP_RT  SEX_T  AGE_AGGREGATE_TOTAL  GEO_COV_NAT         2006   \n",
       "\n",
       "   ...  T2  I8  OBS_STATUS  UNIT_MEASURE_TYPE  UNIT_MEASURE  UNIT_MULT  \\\n",
       "0  ... NaN NaN         NaN                 RT            PT          0   \n",
       "1  ... NaN NaN         NaN                 RT            PT          0   \n",
       "2  ... NaN NaN         NaN                 RT            PT          0   \n",
       "3  ... NaN NaN         NaN                 RT            PT          0   \n",
       "4  ... NaN NaN         NaN                 RT            PT          0   \n",
       "\n",
       "   FREE_TEXT_NOTE  DECIMALS  SOURCE                INDICATOR  \n",
       "0             nan         1      BA  EAP_DWAP_SEX_AGE_GEO_RT  \n",
       "1             nan         1      BA  EAP_DWAP_SEX_AGE_GEO_RT  \n",
       "2             nan         1      BA  EAP_DWAP_SEX_AGE_GEO_RT  \n",
       "3             nan         1      BA  EAP_DWAP_SEX_AGE_GEO_RT  \n",
       "4             nan         1      BA  EAP_DWAP_SEX_AGE_GEO_RT  \n",
       "\n",
       "[5 rows x 32 columns]"
      ]
     },
     "execution_count": 21,
     "metadata": {},
     "output_type": "execute_result"
    }
   ],
   "source": [
    "idx = x.groupby(['DATAFLOW', 'COLLECTION', 'REF_AREA', 'FREQ', 'MEASURE', 'SEX', 'AGE', 'GEO', 'TIME_PERIOD'])['SURVEY'].transform(max) == x['SURVEY']\n",
    "x = x[idx]\n",
    "x['FREE_TEXT_NOTE'] = x['FREE_TEXT_NOTE'].astype(str)\n",
    "x.head(5)"
   ]
  },
  {
   "cell_type": "code",
   "execution_count": 22,
   "metadata": {},
   "outputs": [
    {
     "data": {
      "text/plain": [
       "Index(['DATAFLOW', 'COLLECTION', 'REF_AREA', 'FREQ', 'SURVEY', 'MEASURE',\n",
       "       'SEX', 'AGE', 'GEO', 'TIME_PERIOD', 'OBS_VALUE', 'S3', 'T3', 'C12',\n",
       "       'I13', 'S4', 'R1', 'T5', 'C6', 'S14', 'I11', 'S5', 'T2', 'I8',\n",
       "       'OBS_STATUS', 'UNIT_MEASURE_TYPE', 'UNIT_MEASURE', 'UNIT_MULT',\n",
       "       'FREE_TEXT_NOTE', 'DECIMALS', 'SOURCE', 'INDICATOR'],\n",
       "      dtype='object')"
      ]
     },
     "execution_count": 22,
     "metadata": {},
     "output_type": "execute_result"
    }
   ],
   "source": [
    "x.columns"
   ]
  },
  {
   "cell_type": "markdown",
   "metadata": {},
   "source": [
    "### Parse DSD for the dataflow"
   ]
  },
  {
   "cell_type": "code",
   "execution_count": 23,
   "metadata": {},
   "outputs": [
    {
     "data": {
      "text/plain": [
       "dict_keys(['dataflow_id', 'dataflow_agencyID', 'dataflow_name', 'dataflow_description', 'concepts', 'structure', 'codelists'])"
      ]
     },
     "execution_count": 23,
     "metadata": {},
     "output_type": "execute_result"
    }
   ],
   "source": [
    "dsd = parse_dsd(get_dsd(dataflow))\n",
    "dsd.keys()"
   ]
  },
  {
   "cell_type": "markdown",
   "metadata": {},
   "source": [
    "### Add code description to each coded dimension "
   ]
  },
  {
   "cell_type": "code",
   "execution_count": 24,
   "metadata": {},
   "outputs": [],
   "source": [
    "for d in dsd['structure']['dimensions']:\n",
    "    for c in dsd['concepts']:\n",
    "        if d != c['id']:\n",
    "            continue\n",
    "        codelist_id = c['code_list']\n",
    "        \n",
    "        #print('-----------------')\n",
    "        #print(d)\n",
    "        #print(codelist_id)\n",
    "        #print('-----------------')\n",
    "        \n",
    "        for cl in dsd['codelists']:\n",
    "            if codelist_id != cl['id']:\n",
    "                continue\n",
    "                \n",
    "            # if dimension is numerit, to str\n",
    "            \n",
    "            cl_dict = pd.DataFrame.from_dict(cl['codes'])\n",
    "            cl_dict.columns = [d, d+'_DESC']\n",
    "            \n",
    "            if is_numeric_dtype(x[d]):\n",
    "                cl_dict[d] = cl_dict[d].astype(float)\n",
    "            \n",
    "            #cl_dict.head(5)\n",
    "            \n",
    "            x = pd.merge(x,\n",
    "                 cl_dict,\n",
    "                 on=d, \n",
    "                 how='left')\n",
    "\n",
    "        \n",
    "        \n"
   ]
  },
  {
   "cell_type": "markdown",
   "metadata": {},
   "source": [
    "### Add code description to each coded attribute"
   ]
  },
  {
   "cell_type": "code",
   "execution_count": 25,
   "metadata": {},
   "outputs": [],
   "source": [
    "for a in dsd['structure']['attributes']:\n",
    "    for c in dsd['concepts']:\n",
    "        if a != c['id']:\n",
    "            continue\n",
    "        codelist_id =c['code_list']\n",
    "        \n",
    "        #print('-----------------')\n",
    "        #print(d)\n",
    "        #print(codelist_id)\n",
    "        #print('-----------------')\n",
    "        \n",
    "        for cl in dsd['codelists']:\n",
    "            if codelist_id != cl['id']:\n",
    "                continue\n",
    "                \n",
    "\n",
    "            \n",
    "            cl_dict = pd.DataFrame.from_dict(cl['codes'])\n",
    "            cl_dict.columns = [a, a+'_DESC']\n",
    "            \n",
    "            # if attribute is numerit \n",
    "            if is_numeric_dtype(x[a]):\n",
    "                cl_dict[a] = cl_dict[a].astype(float)\n",
    "            \n",
    "            #cl_dict.head(5)\n",
    "            \n",
    "            x = pd.merge(x,\n",
    "                 cl_dict,\n",
    "                 on=a, \n",
    "                 how='left')\n"
   ]
  },
  {
   "cell_type": "code",
   "execution_count": 26,
   "metadata": {},
   "outputs": [
    {
     "data": {
      "text/plain": [
       "Index(['DATAFLOW', 'COLLECTION', 'REF_AREA', 'FREQ', 'SURVEY', 'MEASURE',\n",
       "       'SEX', 'AGE', 'GEO', 'TIME_PERIOD', 'OBS_VALUE', 'S3', 'T3', 'C12',\n",
       "       'I13', 'S4', 'R1', 'T5', 'C6', 'S14', 'I11', 'S5', 'T2', 'I8',\n",
       "       'OBS_STATUS', 'UNIT_MEASURE_TYPE', 'UNIT_MEASURE', 'UNIT_MULT',\n",
       "       'FREE_TEXT_NOTE', 'DECIMALS', 'SOURCE', 'INDICATOR', 'COLLECTION_DESC',\n",
       "       'REF_AREA_DESC', 'FREQ_DESC', 'SURVEY_DESC', 'MEASURE_DESC', 'SEX_DESC',\n",
       "       'AGE_DESC', 'GEO_DESC', 'S3_DESC', 'T3_DESC', 'C12_DESC', 'I13_DESC',\n",
       "       'S4_DESC', 'R1_DESC', 'T5_DESC', 'C6_DESC', 'S14_DESC', 'I11_DESC',\n",
       "       'S5_DESC', 'T2_DESC', 'I8_DESC', 'OBS_STATUS_DESC',\n",
       "       'UNIT_MEASURE_TYPE_DESC', 'UNIT_MEASURE_DESC', 'UNIT_MULT_DESC',\n",
       "       'SOURCE_DESC', 'INDICATOR_DESC'],\n",
       "      dtype='object')"
      ]
     },
     "execution_count": 26,
     "metadata": {},
     "output_type": "execute_result"
    },
    {
     "data": {
      "text/html": [
       "<div>\n",
       "<style scoped>\n",
       "    .dataframe tbody tr th:only-of-type {\n",
       "        vertical-align: middle;\n",
       "    }\n",
       "\n",
       "    .dataframe tbody tr th {\n",
       "        vertical-align: top;\n",
       "    }\n",
       "\n",
       "    .dataframe thead th {\n",
       "        text-align: right;\n",
       "    }\n",
       "</style>\n",
       "<table border=\"1\" class=\"dataframe\">\n",
       "  <thead>\n",
       "    <tr style=\"text-align: right;\">\n",
       "      <th></th>\n",
       "      <th>DATAFLOW</th>\n",
       "      <th>COLLECTION</th>\n",
       "      <th>REF_AREA</th>\n",
       "      <th>FREQ</th>\n",
       "      <th>SURVEY</th>\n",
       "      <th>MEASURE</th>\n",
       "      <th>SEX</th>\n",
       "      <th>AGE</th>\n",
       "      <th>GEO</th>\n",
       "      <th>TIME_PERIOD</th>\n",
       "      <th>...</th>\n",
       "      <th>I11_DESC</th>\n",
       "      <th>S5_DESC</th>\n",
       "      <th>T2_DESC</th>\n",
       "      <th>I8_DESC</th>\n",
       "      <th>OBS_STATUS_DESC</th>\n",
       "      <th>UNIT_MEASURE_TYPE_DESC</th>\n",
       "      <th>UNIT_MEASURE_DESC</th>\n",
       "      <th>UNIT_MULT_DESC</th>\n",
       "      <th>SOURCE_DESC</th>\n",
       "      <th>INDICATOR_DESC</th>\n",
       "    </tr>\n",
       "  </thead>\n",
       "  <tbody>\n",
       "    <tr>\n",
       "      <th>0</th>\n",
       "      <td>ILO:DF_YI_ALL_EAP_DWAP_SEX_AGE_GEO_RT(1.0)</td>\n",
       "      <td>YI</td>\n",
       "      <td>PRT</td>\n",
       "      <td>A</td>\n",
       "      <td>2252</td>\n",
       "      <td>EAP_DWAP_RT</td>\n",
       "      <td>SEX_T</td>\n",
       "      <td>AGE_AGGREGATE_TOTAL</td>\n",
       "      <td>GEO_COV_NAT</td>\n",
       "      <td>2002</td>\n",
       "      <td>...</td>\n",
       "      <td>NaN</td>\n",
       "      <td>NaN</td>\n",
       "      <td>NaN</td>\n",
       "      <td>NaN</td>\n",
       "      <td>NaN</td>\n",
       "      <td>Rate</td>\n",
       "      <td>Percentage</td>\n",
       "      <td>Units</td>\n",
       "      <td>Labour force survey</td>\n",
       "      <td>Labour force participation rate by sex, age an...</td>\n",
       "    </tr>\n",
       "    <tr>\n",
       "      <th>1</th>\n",
       "      <td>ILO:DF_YI_ALL_EAP_DWAP_SEX_AGE_GEO_RT(1.0)</td>\n",
       "      <td>YI</td>\n",
       "      <td>PRT</td>\n",
       "      <td>A</td>\n",
       "      <td>2252</td>\n",
       "      <td>EAP_DWAP_RT</td>\n",
       "      <td>SEX_T</td>\n",
       "      <td>AGE_AGGREGATE_TOTAL</td>\n",
       "      <td>GEO_COV_NAT</td>\n",
       "      <td>2003</td>\n",
       "      <td>...</td>\n",
       "      <td>NaN</td>\n",
       "      <td>NaN</td>\n",
       "      <td>NaN</td>\n",
       "      <td>NaN</td>\n",
       "      <td>NaN</td>\n",
       "      <td>Rate</td>\n",
       "      <td>Percentage</td>\n",
       "      <td>Units</td>\n",
       "      <td>Labour force survey</td>\n",
       "      <td>Labour force participation rate by sex, age an...</td>\n",
       "    </tr>\n",
       "    <tr>\n",
       "      <th>2</th>\n",
       "      <td>ILO:DF_YI_ALL_EAP_DWAP_SEX_AGE_GEO_RT(1.0)</td>\n",
       "      <td>YI</td>\n",
       "      <td>PRT</td>\n",
       "      <td>A</td>\n",
       "      <td>2252</td>\n",
       "      <td>EAP_DWAP_RT</td>\n",
       "      <td>SEX_T</td>\n",
       "      <td>AGE_AGGREGATE_TOTAL</td>\n",
       "      <td>GEO_COV_NAT</td>\n",
       "      <td>2004</td>\n",
       "      <td>...</td>\n",
       "      <td>NaN</td>\n",
       "      <td>NaN</td>\n",
       "      <td>NaN</td>\n",
       "      <td>NaN</td>\n",
       "      <td>NaN</td>\n",
       "      <td>Rate</td>\n",
       "      <td>Percentage</td>\n",
       "      <td>Units</td>\n",
       "      <td>Labour force survey</td>\n",
       "      <td>Labour force participation rate by sex, age an...</td>\n",
       "    </tr>\n",
       "    <tr>\n",
       "      <th>3</th>\n",
       "      <td>ILO:DF_YI_ALL_EAP_DWAP_SEX_AGE_GEO_RT(1.0)</td>\n",
       "      <td>YI</td>\n",
       "      <td>PRT</td>\n",
       "      <td>A</td>\n",
       "      <td>2252</td>\n",
       "      <td>EAP_DWAP_RT</td>\n",
       "      <td>SEX_T</td>\n",
       "      <td>AGE_AGGREGATE_TOTAL</td>\n",
       "      <td>GEO_COV_NAT</td>\n",
       "      <td>2005</td>\n",
       "      <td>...</td>\n",
       "      <td>NaN</td>\n",
       "      <td>NaN</td>\n",
       "      <td>NaN</td>\n",
       "      <td>NaN</td>\n",
       "      <td>NaN</td>\n",
       "      <td>Rate</td>\n",
       "      <td>Percentage</td>\n",
       "      <td>Units</td>\n",
       "      <td>Labour force survey</td>\n",
       "      <td>Labour force participation rate by sex, age an...</td>\n",
       "    </tr>\n",
       "    <tr>\n",
       "      <th>4</th>\n",
       "      <td>ILO:DF_YI_ALL_EAP_DWAP_SEX_AGE_GEO_RT(1.0)</td>\n",
       "      <td>YI</td>\n",
       "      <td>PRT</td>\n",
       "      <td>A</td>\n",
       "      <td>2252</td>\n",
       "      <td>EAP_DWAP_RT</td>\n",
       "      <td>SEX_T</td>\n",
       "      <td>AGE_AGGREGATE_TOTAL</td>\n",
       "      <td>GEO_COV_NAT</td>\n",
       "      <td>2006</td>\n",
       "      <td>...</td>\n",
       "      <td>NaN</td>\n",
       "      <td>NaN</td>\n",
       "      <td>NaN</td>\n",
       "      <td>NaN</td>\n",
       "      <td>NaN</td>\n",
       "      <td>Rate</td>\n",
       "      <td>Percentage</td>\n",
       "      <td>Units</td>\n",
       "      <td>Labour force survey</td>\n",
       "      <td>Labour force participation rate by sex, age an...</td>\n",
       "    </tr>\n",
       "  </tbody>\n",
       "</table>\n",
       "<p>5 rows × 59 columns</p>\n",
       "</div>"
      ],
      "text/plain": [
       "                                     DATAFLOW COLLECTION REF_AREA FREQ  \\\n",
       "0  ILO:DF_YI_ALL_EAP_DWAP_SEX_AGE_GEO_RT(1.0)         YI      PRT    A   \n",
       "1  ILO:DF_YI_ALL_EAP_DWAP_SEX_AGE_GEO_RT(1.0)         YI      PRT    A   \n",
       "2  ILO:DF_YI_ALL_EAP_DWAP_SEX_AGE_GEO_RT(1.0)         YI      PRT    A   \n",
       "3  ILO:DF_YI_ALL_EAP_DWAP_SEX_AGE_GEO_RT(1.0)         YI      PRT    A   \n",
       "4  ILO:DF_YI_ALL_EAP_DWAP_SEX_AGE_GEO_RT(1.0)         YI      PRT    A   \n",
       "\n",
       "   SURVEY      MEASURE    SEX                  AGE          GEO  TIME_PERIOD  \\\n",
       "0    2252  EAP_DWAP_RT  SEX_T  AGE_AGGREGATE_TOTAL  GEO_COV_NAT         2002   \n",
       "1    2252  EAP_DWAP_RT  SEX_T  AGE_AGGREGATE_TOTAL  GEO_COV_NAT         2003   \n",
       "2    2252  EAP_DWAP_RT  SEX_T  AGE_AGGREGATE_TOTAL  GEO_COV_NAT         2004   \n",
       "3    2252  EAP_DWAP_RT  SEX_T  AGE_AGGREGATE_TOTAL  GEO_COV_NAT         2005   \n",
       "4    2252  EAP_DWAP_RT  SEX_T  AGE_AGGREGATE_TOTAL  GEO_COV_NAT         2006   \n",
       "\n",
       "   ...  I11_DESC  S5_DESC  T2_DESC  I8_DESC  OBS_STATUS_DESC  \\\n",
       "0  ...       NaN      NaN      NaN      NaN              NaN   \n",
       "1  ...       NaN      NaN      NaN      NaN              NaN   \n",
       "2  ...       NaN      NaN      NaN      NaN              NaN   \n",
       "3  ...       NaN      NaN      NaN      NaN              NaN   \n",
       "4  ...       NaN      NaN      NaN      NaN              NaN   \n",
       "\n",
       "   UNIT_MEASURE_TYPE_DESC  UNIT_MEASURE_DESC  UNIT_MULT_DESC  \\\n",
       "0                    Rate         Percentage           Units   \n",
       "1                    Rate         Percentage           Units   \n",
       "2                    Rate         Percentage           Units   \n",
       "3                    Rate         Percentage           Units   \n",
       "4                    Rate         Percentage           Units   \n",
       "\n",
       "           SOURCE_DESC                                     INDICATOR_DESC  \n",
       "0  Labour force survey  Labour force participation rate by sex, age an...  \n",
       "1  Labour force survey  Labour force participation rate by sex, age an...  \n",
       "2  Labour force survey  Labour force participation rate by sex, age an...  \n",
       "3  Labour force survey  Labour force participation rate by sex, age an...  \n",
       "4  Labour force survey  Labour force participation rate by sex, age an...  \n",
       "\n",
       "[5 rows x 59 columns]"
      ]
     },
     "execution_count": 26,
     "metadata": {},
     "output_type": "execute_result"
    }
   ],
   "source": [
    "x.columns\n",
    "x.head(5)\n"
   ]
  },
  {
   "cell_type": "markdown",
   "metadata": {},
   "source": [
    "### Concatenate coded notes and free text footnote"
   ]
  },
  {
   "cell_type": "code",
   "execution_count": 27,
   "metadata": {},
   "outputs": [],
   "source": [
    "for index, row in x.iterrows():\n",
    "    footnote = ''\n",
    "    for c in dsd['concepts']:\n",
    "        if c['scheme'] != 'CS_NOTE_TYPE':\n",
    "            continue\n",
    "        # access data using column names\n",
    "        if not math.isnan(row[c['id']]):\n",
    "            footnote = footnote + c['name']+': '+row[c['id']+'_DESC'] + '. '\n",
    "            \n",
    "    if x.at[index, 'FREE_TEXT_NOTE'] == 'nan':\n",
    "        x.at[index, 'FREE_TEXT_NOTE'] = footnote\n",
    "    else:\n",
    "         x.at[index, 'FREE_TEXT_NOTE'] = footnote + x.at[index, 'FREE_TEXT_NOTE']\n"
   ]
  },
  {
   "cell_type": "markdown",
   "metadata": {},
   "source": [
    "### Select columns to save into excel"
   ]
  },
  {
   "cell_type": "code",
   "execution_count": 35,
   "metadata": {},
   "outputs": [],
   "source": [
    "#x.columns\n",
    "#dsd['structure']['dimensions']\n",
    "#dsd['structure']['attributes']\n",
    "#dsd['structure']['measures']\n",
    "\n",
    "final_columns = ['DATAFLOW']\n",
    "\n",
    "# Add dimension columns:\n",
    "for d in dsd['structure']['dimensions']:\n",
    "    final_columns.append(d)\n",
    "    final_columns.append(d+'_DESC')\n",
    "\n",
    "# Add time dimension column:\n",
    "final_columns.append('TIME_PERIOD')\n",
    "\n",
    "# Add primary measure column:\n",
    "final_columns = final_columns + dsd['structure']['measures']\n",
    "\n",
    "# Add attribute columns (except coded notes):\n",
    "for a in dsd['structure']['attributes']:\n",
    "    for c in dsd['concepts']:\n",
    "        if c['scheme'] == 'CS_NOTE_TYPE':\n",
    "            continue\n",
    "        if a == c['id']:\n",
    "            final_columns.append(a)\n",
    "            if a+'_DESC' in x.columns:\n",
    "                final_columns.append(a+'_DESC')\n",
    "\n",
    "x = x.sort_values(by=['REF_AREA', 'SEX', 'AGE', 'GEO', 'TIME_PERIOD'])\n",
    "x[final_columns].to_excel('test.xlsx')     "
   ]
  },
  {
   "cell_type": "code",
   "execution_count": 34,
   "metadata": {},
   "outputs": [
    {
     "data": {
      "text/plain": [
       "['COLLECTION', 'REF_AREA', 'FREQ', 'SURVEY', 'MEASURE', 'SEX', 'AGE', 'GEO']"
      ]
     },
     "execution_count": 34,
     "metadata": {},
     "output_type": "execute_result"
    }
   ],
   "source": [
    "dsd['structure']['dimensions']"
   ]
  },
  {
   "cell_type": "code",
   "execution_count": null,
   "metadata": {},
   "outputs": [],
   "source": []
  }
 ],
 "metadata": {
  "kernelspec": {
   "display_name": "Python 3",
   "language": "python",
   "name": "python3"
  },
  "language_info": {
   "codemirror_mode": {
    "name": "ipython",
    "version": 3
   },
   "file_extension": ".py",
   "mimetype": "text/x-python",
   "name": "python",
   "nbconvert_exporter": "python",
   "pygments_lexer": "ipython3",
   "version": "3.6.8"
  }
 },
 "nbformat": 4,
 "nbformat_minor": 2
}
