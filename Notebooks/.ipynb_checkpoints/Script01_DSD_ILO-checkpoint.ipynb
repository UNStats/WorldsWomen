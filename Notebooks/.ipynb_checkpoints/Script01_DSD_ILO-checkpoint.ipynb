{
 "cells": [
  {
   "cell_type": "markdown",
   "metadata": {},
   "source": [
    "# Parse an ILO's SDMX dataflow and data structure definition"
   ]
  },
  {
   "cell_type": "markdown",
   "metadata": {},
   "source": [
    "### Load required libraries"
   ]
  },
  {
   "cell_type": "code",
   "execution_count": 1,
   "metadata": {},
   "outputs": [],
   "source": [
    "import xmltodict\n",
    "import json\n",
    "import requests \n",
    "import xml.etree.ElementTree as ET \n",
    "\n",
    "import pandas as pd\n",
    "from pandas.api.types import is_string_dtype\n",
    "from pandas.api.types import is_numeric_dtype\n",
    "import io\n",
    "\n",
    "import math"
   ]
  },
  {
   "cell_type": "markdown",
   "metadata": {},
   "source": [
    "### Interactive shell"
   ]
  },
  {
   "cell_type": "code",
   "execution_count": 2,
   "metadata": {},
   "outputs": [],
   "source": [
    "# https://volderette.de/jupyter-notebook-tip-multiple-outputs/\n",
    "from IPython.core.interactiveshell import InteractiveShell\n",
    "InteractiveShell.ast_node_interactivity = \"all\""
   ]
  },
  {
   "cell_type": "markdown",
   "metadata": {},
   "source": [
    "### 1. Get data from API endpoint, save as xml file on disk, and parse using `xmltodict.parse`"
   ]
  },
  {
   "cell_type": "code",
   "execution_count": 3,
   "metadata": {},
   "outputs": [],
   "source": [
    "def get_dsd(dataflow):\n",
    "\n",
    "    baseURL = 'https://www.ilo.org/sdmx/rest/datastructure/ILO/'\n",
    "\n",
    "    # url of API endpoint returning all the dissemination dataflows (i.e. indicators) with data available\n",
    "    url = baseURL + dataflow + '?references=all' # \n",
    "\n",
    "    # creating HTTP response object from given url \n",
    "    resp = requests.get(url) \n",
    "\n",
    "    # saving the xml message into an xml file \n",
    "    with open('DSD__'+dataflow+'.xml', 'wb') as f: \n",
    "        f.write(resp.content) \n",
    "        \n",
    "    with open('DSD__'+dataflow+'.xml', encoding=\"utf-8\") as fd:\n",
    "        doc = xmltodict.parse(fd.read())\n",
    "\n",
    "    return doc"
   ]
  },
  {
   "cell_type": "code",
   "execution_count": 4,
   "metadata": {},
   "outputs": [],
   "source": [
    "\n",
    "#test_dsd = get_dsd('YI_ALL_EAP_DWAP_SEX_AGE_GEO_RT')\n",
    "#test_dsd = get_dsd('YI_ALL_EMP_TEMP_SEX_STE_DT')\n"
   ]
  },
  {
   "cell_type": "markdown",
   "metadata": {},
   "source": [
    "#### Explore the contents of the first levels of the xml file"
   ]
  },
  {
   "cell_type": "code",
   "execution_count": 5,
   "metadata": {},
   "outputs": [],
   "source": [
    "#test_dsd.keys()"
   ]
  },
  {
   "cell_type": "code",
   "execution_count": 6,
   "metadata": {},
   "outputs": [],
   "source": [
    "#test_dsd['message:Structure'].keys()"
   ]
  },
  {
   "cell_type": "code",
   "execution_count": 7,
   "metadata": {},
   "outputs": [],
   "source": [
    "#test_dsd['message:Structure']['message:Structures'].keys()"
   ]
  },
  {
   "cell_type": "markdown",
   "metadata": {},
   "source": [
    "### 2. Get the data pertaining to the dataflow"
   ]
  },
  {
   "cell_type": "code",
   "execution_count": 8,
   "metadata": {},
   "outputs": [],
   "source": [
    "def dataflow_info(dsd):\n",
    "\n",
    "    dataflow = dsd['message:Structure']['message:Structures']['structure:Dataflows']['structure:Dataflow']\n",
    "    #dataflow\n",
    "    dataflow_id = dataflow['@id']\n",
    "    dataflow_agencyID = dataflow['@agencyID']\n",
    "    for dfn in dataflow['common:Name']:\n",
    "        if dfn['@xml:lang'] == 'en':\n",
    "            dataflow_name = (dfn['#text'])\n",
    "    for dfn in dataflow['common:Description']:\n",
    "        if dfn['@xml:lang'] == 'en':\n",
    "            dataflow_description = (dfn['#text'])\n",
    "\n",
    "    return {'dataflow_id': dataflow_id,\n",
    "            'dataflow_agencyID' : dataflow_agencyID,\n",
    "            'dataflow_name': dataflow_name,\n",
    "            'dataflow_description' : dataflow_description}"
   ]
  },
  {
   "cell_type": "code",
   "execution_count": 9,
   "metadata": {},
   "outputs": [],
   "source": [
    "#dataflow_info(get_dsd('YI_ALL_EMP_TEMP_SEX_STE_DT'))"
   ]
  },
  {
   "cell_type": "markdown",
   "metadata": {},
   "source": [
    "### 3. Get the code lists pertaining to the dataflow"
   ]
  },
  {
   "cell_type": "code",
   "execution_count": 10,
   "metadata": {},
   "outputs": [],
   "source": [
    "def codelists(dsd):\n",
    "\n",
    "    codelists = []\n",
    "\n",
    "    for cl in dsd['message:Structure']['message:Structures']['structure:Codelists']['structure:Codelist']:\n",
    "\n",
    "        codelist = {}\n",
    "        codelist_id = cl['@id']\n",
    "\n",
    "        # Get the code list name in English:\n",
    "        for cln in cl['common:Name']:\n",
    "            if cln['@xml:lang'] == 'en':\n",
    "                codelist_name = (cln['#text'])\n",
    "\n",
    "        codelist['id'] = codelist_id\n",
    "        codelist['name'] = codelist_name\n",
    "        codelist['codes'] = []\n",
    "\n",
    "        # Some code lists have only one code; in this case, they are returned as a single dictionary. Other code\n",
    "        # lists have many codes, and in this case they are returned as lists of dictionaries. \n",
    "\n",
    "        if isinstance(cl['structure:Code'], list):\n",
    "            for c in cl['structure:Code']:\n",
    "                for cn in c['common:Name']:\n",
    "                    if cn['@xml:lang'] == 'en':\n",
    "                        code_desc = (cn['#text'])\n",
    "\n",
    "                        codelist['codes'].append({'code' : c['@id'], 'description' : code_desc})\n",
    "        else:\n",
    "            for cn in cl['structure:Code']['common:Name']:\n",
    "                if cn['@xml:lang'] == 'en':\n",
    "                    code_desc = (cn['#text'])\n",
    "\n",
    "                    codelist['codes'].append({'code': cl['structure:Code']['@id'], 'description' : code_desc})\n",
    "\n",
    "        codelists.append(codelist)\n",
    "\n",
    "    # Display first four code lists\n",
    "    return codelists\n"
   ]
  },
  {
   "cell_type": "code",
   "execution_count": 37,
   "metadata": {},
   "outputs": [],
   "source": [
    "#codelists(get_dsd('YI_ALL_EMP_PTER_SEX_RT'))[0]"
   ]
  },
  {
   "cell_type": "markdown",
   "metadata": {},
   "source": [
    "### 4. Get the concepts (and their respective code list ids) pertaining to the data flow"
   ]
  },
  {
   "cell_type": "code",
   "execution_count": 54,
   "metadata": {},
   "outputs": [
    {
     "data": {
      "text/plain": [
       "[{'id': 'SEX',\n",
       "  'name': 'Sex',\n",
       "  'scheme': 'CS_CLASSIF_TYPE',\n",
       "  'code_list': 'CL_SEX'},\n",
       " {'id': 'COLLECTION',\n",
       "  'name': 'Data collection',\n",
       "  'scheme': 'CS_ILOSTAT',\n",
       "  'code_list': 'CL_COLLECTION'},\n",
       " {'id': 'REF_AREA',\n",
       "  'name': 'Reference area',\n",
       "  'scheme': 'CS_ILOSTAT',\n",
       "  'code_list': 'CL_AREA'},\n",
       " {'id': 'FREE_TEXT_NOTE',\n",
       "  'name': 'Free text note; should only be used when a note cannot be coded or in the case of multiple values for one note type',\n",
       "  'scheme': 'CS_ILOSTAT',\n",
       "  'code_list': None},\n",
       " {'id': 'FREQ',\n",
       "  'name': 'Frequency',\n",
       "  'scheme': 'CS_ILOSTAT',\n",
       "  'code_list': 'CL_FREQ'},\n",
       " {'id': 'OBS_VALUE',\n",
       "  'name': 'Observation value',\n",
       "  'scheme': 'CS_ILOSTAT',\n",
       "  'code_list': None},\n",
       " {'id': 'TIME_PERIOD',\n",
       "  'name': 'Time period',\n",
       "  'scheme': 'CS_ILOSTAT',\n",
       "  'code_list': None},\n",
       " {'id': 'DECIMALS',\n",
       "  'name': 'Decimals',\n",
       "  'scheme': 'CS_ILOSTAT',\n",
       "  'code_list': None},\n",
       " {'id': 'SURVEY',\n",
       "  'name': 'Survey',\n",
       "  'scheme': 'CS_ILOSTAT',\n",
       "  'code_list': 'CL_SURVEY'},\n",
       " {'id': 'OBS_STATUS',\n",
       "  'name': 'Observation status',\n",
       "  'scheme': 'CS_ILOSTAT',\n",
       "  'code_list': 'CL_OBS_STATUS'},\n",
       " {'id': 'UNIT_MEASURE_TYPE',\n",
       "  'name': 'Unit of measure type',\n",
       "  'scheme': 'CS_ILOSTAT',\n",
       "  'code_list': 'CL_UNIT_MEASURE_TYPE'},\n",
       " {'id': 'UNIT_MEASURE',\n",
       "  'name': 'Unit of measure',\n",
       "  'scheme': 'CS_ILOSTAT',\n",
       "  'code_list': 'CL_UNIT_MEASURE'},\n",
       " {'id': 'UNIT_MULT',\n",
       "  'name': 'Unit multiplier',\n",
       "  'scheme': 'CS_ILOSTAT',\n",
       "  'code_list': 'CL_UNIT_MULT'},\n",
       " {'id': 'MEASURE',\n",
       "  'name': 'Measure',\n",
       "  'scheme': 'CS_ILOSTAT',\n",
       "  'code_list': 'CL_MEASURE'},\n",
       " {'id': 'INDICATOR',\n",
       "  'name': 'Indicator',\n",
       "  'scheme': 'CS_ILOSTAT',\n",
       "  'code_list': 'CL_INDICATOR'},\n",
       " {'id': 'SOURCE',\n",
       "  'name': 'Source',\n",
       "  'scheme': 'CS_ILOSTAT',\n",
       "  'code_list': 'CL_SOURCE'},\n",
       " {'id': 'S3',\n",
       "  'name': 'Data reference period',\n",
       "  'scheme': 'CS_NOTE_TYPE',\n",
       "  'code_list': 'CL_NOTE_S3'},\n",
       " {'id': 'T3',\n",
       "  'name': 'Age coverage - maximum age',\n",
       "  'scheme': 'CS_NOTE_TYPE',\n",
       "  'code_list': 'CL_NOTE_T3'},\n",
       " {'id': 'I13',\n",
       "  'name': 'Remarks',\n",
       "  'scheme': 'CS_NOTE_TYPE',\n",
       "  'code_list': 'CL_NOTE_I13'},\n",
       " {'id': 'T12',\n",
       "  'name': 'Working time arrangement coverage',\n",
       "  'scheme': 'CS_NOTE_TYPE',\n",
       "  'code_list': 'CL_NOTE_T12'},\n",
       " {'id': 'S4',\n",
       "  'name': 'Geographical coverage',\n",
       "  'scheme': 'CS_NOTE_TYPE',\n",
       "  'code_list': 'CL_NOTE_S4'},\n",
       " {'id': 'R1',\n",
       "  'name': 'Repository',\n",
       "  'scheme': 'CS_NOTE_TYPE',\n",
       "  'code_list': 'CL_NOTE_R1'},\n",
       " {'id': 'T33',\n",
       "  'name': 'Working time concept',\n",
       "  'scheme': 'CS_NOTE_TYPE',\n",
       "  'code_list': 'CL_NOTE_T33'},\n",
       " {'id': 'T5',\n",
       "  'name': 'Unemployment definition',\n",
       "  'scheme': 'CS_NOTE_TYPE',\n",
       "  'code_list': 'CL_NOTE_T5'},\n",
       " {'id': 'S8',\n",
       "  'name': 'Economic activity coverage',\n",
       "  'scheme': 'CS_NOTE_TYPE',\n",
       "  'code_list': 'CL_NOTE_S8'},\n",
       " {'id': 'S14',\n",
       "  'name': 'Employment definition',\n",
       "  'scheme': 'CS_NOTE_TYPE',\n",
       "  'code_list': 'CL_NOTE_S14'},\n",
       " {'id': 'I11',\n",
       "  'name': 'Break in series',\n",
       "  'scheme': 'CS_NOTE_TYPE',\n",
       "  'code_list': 'CL_NOTE_I11'},\n",
       " {'id': 'S7',\n",
       "  'name': 'Institutional sector coverage',\n",
       "  'scheme': 'CS_NOTE_TYPE',\n",
       "  'code_list': 'CL_NOTE_S7'},\n",
       " {'id': 'T2',\n",
       "  'name': 'Age coverage - minimum age',\n",
       "  'scheme': 'CS_NOTE_TYPE',\n",
       "  'code_list': 'CL_NOTE_T2'},\n",
       " {'id': 'S5',\n",
       "  'name': 'Population coverage',\n",
       "  'scheme': 'CS_NOTE_TYPE',\n",
       "  'code_list': 'CL_NOTE_S5'}]"
      ]
     },
     "execution_count": 54,
     "metadata": {},
     "output_type": "execute_result"
    }
   ],
   "source": [
    "dsd_test = get_dsd('YI_ALL_EMP_PTER_SEX_RT')\n",
    "\n",
    "concept_schemes = dsd_test['message:Structure']['message:Structures']['structure:Concepts']['structure:ConceptScheme']\n",
    "\n",
    "concepts = []\n",
    "\n",
    "for cs in concept_schemes:\n",
    "    \n",
    "    if isinstance(cs['structure:Concept'], list):\n",
    "        \n",
    "        for c in cs['structure:Concept']:\n",
    "            concept = {}\n",
    "\n",
    "            concept['id'] = c['@id']\n",
    "\n",
    "            # Get the concept scheme name in English:\n",
    "            for cn in c['common:Name']:\n",
    "                if cn['@xml:lang'] == 'en':\n",
    "                    concept['name'] = (cn['#text'])\n",
    "                    concept['scheme'] =  cs['@id']\n",
    "\n",
    "\n",
    "\n",
    "            # Check if c contains any entry with key 'structure:CoreRepresentation' \n",
    "            if 'structure:CoreRepresentation' in c:\n",
    "                concept['code_list'] = c['structure:CoreRepresentation']['structure:Enumeration']['Ref']['@id']\n",
    "            else:\n",
    "                concept['code_list'] = None\n",
    "\n",
    "            concepts.append(concept)\n",
    "        \n",
    "    else:\n",
    "        \n",
    "        c = cs['structure:Concept']\n",
    "        \n",
    "        concept = {}\n",
    "\n",
    "        concept['id'] = c['@id']\n",
    "\n",
    "        # Get the concept scheme name in English:\n",
    "        for cn in c['common:Name']:\n",
    "            if cn['@xml:lang'] == 'en':\n",
    "                concept['name'] = (cn['#text'])\n",
    "                concept['scheme'] =  cs['@id']\n",
    "\n",
    "\n",
    "\n",
    "        # Check if c contains any entry with key 'structure:CoreRepresentation' \n",
    "        if 'structure:CoreRepresentation' in c:\n",
    "            concept['code_list'] = c['structure:CoreRepresentation']['structure:Enumeration']['Ref']['@id']\n",
    "        else:\n",
    "            concept['code_list'] = None\n",
    "\n",
    "        concepts.append(concept)\n",
    "        \n",
    "concepts\n",
    "        \n"
   ]
  },
  {
   "cell_type": "code",
   "execution_count": 55,
   "metadata": {},
   "outputs": [],
   "source": [
    "def concepts(dsd):\n",
    "\n",
    "    concept_schemes = dsd['message:Structure']['message:Structures']['structure:Concepts']['structure:ConceptScheme']\n",
    "\n",
    "    concepts = []\n",
    "\n",
    "    for cs in concept_schemes:\n",
    "\n",
    "        if isinstance(cs['structure:Concept'], list):\n",
    "\n",
    "            for c in cs['structure:Concept']:\n",
    "                concept = {}\n",
    "\n",
    "                concept['id'] = c['@id']\n",
    "\n",
    "                # Get the concept scheme name in English:\n",
    "                for cn in c['common:Name']:\n",
    "                    if cn['@xml:lang'] == 'en':\n",
    "                        concept['name'] = (cn['#text'])\n",
    "                        concept['scheme'] =  cs['@id']\n",
    "\n",
    "                # Check if c contains any entry with key 'structure:CoreRepresentation' \n",
    "                if 'structure:CoreRepresentation' in c:\n",
    "                    concept['code_list'] = c['structure:CoreRepresentation']['structure:Enumeration']['Ref']['@id']\n",
    "                else:\n",
    "                    concept['code_list'] = None\n",
    "\n",
    "                concepts.append(concept)\n",
    "\n",
    "        else:\n",
    "\n",
    "            c = cs['structure:Concept']\n",
    "\n",
    "            concept = {}\n",
    "\n",
    "            concept['id'] = c['@id']\n",
    "\n",
    "            # Get the concept scheme name in English:\n",
    "            for cn in c['common:Name']:\n",
    "                if cn['@xml:lang'] == 'en':\n",
    "                    concept['name'] = (cn['#text'])\n",
    "                    concept['scheme'] =  cs['@id']\n",
    "                    \n",
    "            # Check if c contains any entry with key 'structure:CoreRepresentation' \n",
    "            if 'structure:CoreRepresentation' in c:\n",
    "                concept['code_list'] = c['structure:CoreRepresentation']['structure:Enumeration']['Ref']['@id']\n",
    "            else:\n",
    "                concept['code_list'] = None\n",
    "\n",
    "            concepts.append(concept)\n",
    "\n",
    "    return concepts"
   ]
  },
  {
   "cell_type": "code",
   "execution_count": 57,
   "metadata": {},
   "outputs": [],
   "source": [
    "#concepts(get_dsd('YI_ALL_EMP_PTER_SEX_RT'))"
   ]
  },
  {
   "cell_type": "markdown",
   "metadata": {},
   "source": [
    "### 5. Get data structures"
   ]
  },
  {
   "cell_type": "code",
   "execution_count": 58,
   "metadata": {},
   "outputs": [],
   "source": [
    "def structure(dsd):\n",
    "        \n",
    "    dimensionList =  dsd['message:Structure']['message:Structures']['structure:DataStructures']['structure:DataStructure']['structure:DataStructureComponents']['structure:DimensionList']\n",
    "    attributeList =  dsd['message:Structure']['message:Structures']['structure:DataStructures']['structure:DataStructure']['structure:DataStructureComponents']['structure:AttributeList']\n",
    "    measureList =  dsd['message:Structure']['message:Structures']['structure:DataStructures']['structure:DataStructure']['structure:DataStructureComponents']['structure:MeasureList']\n",
    "\n",
    "    dimensions = []\n",
    "    for d in dimensionList['structure:Dimension']:\n",
    "        dimensions.append(d['@id'])                      \n",
    "    #display(dimensions)\n",
    "\n",
    "\n",
    "    attributes = []\n",
    "    for a in attributeList['structure:Attribute']:\n",
    "        attributes.append(a['@id'])                      \n",
    "    #display(attributes)\n",
    "\n",
    "    measures = []\n",
    "    measures.append(measureList['structure:PrimaryMeasure']['@id'])\n",
    "    #display(measures)\n",
    "\n",
    "    structure = {'dimensions' : dimensions,\n",
    "                 'attributes' : attributes,\n",
    "                 'measures' : measures}\n",
    "\n",
    "    return structure"
   ]
  },
  {
   "cell_type": "code",
   "execution_count": 59,
   "metadata": {},
   "outputs": [],
   "source": [
    "#structure(get_dsd('YI_ALL_EMP_TEMP_SEX_STE_DT'))"
   ]
  },
  {
   "cell_type": "markdown",
   "metadata": {},
   "source": [
    "### 6. Pack everything together"
   ]
  },
  {
   "cell_type": "code",
   "execution_count": 60,
   "metadata": {},
   "outputs": [],
   "source": [
    "def parse_dsd(dsd):\n",
    "\n",
    "    dsd2 = dataflow_info(dsd)\n",
    "\n",
    "    dsd2['concepts'] = concepts(dsd)\n",
    "    dsd2['structure'] = structure(dsd)\n",
    "    dsd2['codelists'] = codelists(dsd)\n",
    "\n",
    "    return(dsd2)\n",
    "\n"
   ]
  },
  {
   "cell_type": "code",
   "execution_count": 61,
   "metadata": {},
   "outputs": [],
   "source": [
    "#parse_dsd(get_dsd('YI_ALL_EMP_TEMP_SEX_STE_DT'))"
   ]
  },
  {
   "cell_type": "markdown",
   "metadata": {},
   "source": [
    "## Read data in csv format"
   ]
  },
  {
   "cell_type": "code",
   "execution_count": 62,
   "metadata": {},
   "outputs": [],
   "source": [
    "def parse_data(dataflow,start,end):\n",
    "    \n",
    "    baseURL = 'https://www.ilo.org/sdmx/rest/data/ILO,DF_'\n",
    "    url = baseURL + dataflow + '/?format=csv&startPeriod=' + start + '&endPeriod=' + end# \n",
    "    s=requests.get(url).content\n",
    "    \n",
    "    c=pd.read_csv(io.StringIO(s.decode('utf-8')))\n",
    "    \n",
    "    c['FREE_TEXT_NOTE'] = c['FREE_TEXT_NOTE'].astype(str)\n",
    "    \n",
    "    return c"
   ]
  },
  {
   "cell_type": "code",
   "execution_count": 63,
   "metadata": {},
   "outputs": [],
   "source": [
    "#start = '2000-01-01'\n",
    "#end = '2019-12-31'\n",
    "#dataflow = 'YI_ALL_EMP_TEMP_SEX_STE_DT'\n",
    "\n",
    "#x = parse_data(dataflow, start, end)\n",
    "#x.head(5)\n",
    "#x.columns"
   ]
  },
  {
   "cell_type": "markdown",
   "metadata": {},
   "source": [
    "## Verify existence of duplicates due to multiple surveys, and remove duplicates if found"
   ]
  },
  {
   "cell_type": "code",
   "execution_count": 64,
   "metadata": {},
   "outputs": [],
   "source": [
    "def remove_duplicates(dataflow,start,end):\n",
    "    \n",
    "    dimensions = parse_dsd(get_dsd(dataflow))['structure']['dimensions']\n",
    "    dimensions.remove('SURVEY')\n",
    "    dimensions.append('TIME_PERIOD')\n",
    "    \n",
    "    x = parse_data(dataflow, start, end)\n",
    "    \n",
    "    test1 = x[dimensions]\n",
    "    display(test1.shape)\n",
    "    test2 = x[dimensions].drop_duplicates()\n",
    "    display(test2.shape)\n",
    "    \n",
    "    if test1.shape != test2.shape:\n",
    "        display(\"There are instances of multiple surveys in the same year\")\n",
    "        idx = x.groupby(dimensions)['SURVEY'].transform(max) == x['SURVEY']\n",
    "        x = x[idx]\n",
    "    else:\n",
    "        display(\"There are no instances of multiple surveys in the same year\")\n",
    "        \n",
    "    return x"
   ]
  },
  {
   "cell_type": "code",
   "execution_count": 65,
   "metadata": {},
   "outputs": [],
   "source": [
    "#start = '2000-01-01'\n",
    "#end = '2019-12-31'\n",
    "#dataflow = 'YI_ALL_EMP_TEMP_SEX_STE_DT'\n",
    "#\n",
    "#x = remove_duplicates(dataflow,start,end)\n",
    "#x.shape\n",
    "#x.columns\n",
    "#x.head(10)"
   ]
  },
  {
   "cell_type": "markdown",
   "metadata": {},
   "source": [
    "### Parse DSD for the dataflow"
   ]
  },
  {
   "cell_type": "code",
   "execution_count": 66,
   "metadata": {},
   "outputs": [],
   "source": [
    "#dsd2 = parse_dsd(get_dsd(dataflow))\n",
    "#dsd2.keys()"
   ]
  },
  {
   "cell_type": "markdown",
   "metadata": {},
   "source": [
    "### Add code description to each coded dimension "
   ]
  },
  {
   "cell_type": "code",
   "execution_count": 107,
   "metadata": {},
   "outputs": [],
   "source": [
    "def add_descriptions(dataflow,start,end):\n",
    "\n",
    "    x = remove_duplicates(dataflow,start,end)\n",
    "    \n",
    "    dsd = parse_dsd(get_dsd(dataflow))\n",
    "                \n",
    "    #----------------------------------------------\n",
    "    # Add code description to each dimension\n",
    "    #----------------------------------------------\n",
    "\n",
    "    for d in dsd['structure']['dimensions']:\n",
    "        for c in dsd['concepts']:\n",
    "            if d != c['id']:\n",
    "                continue\n",
    "            codelist_id = c['code_list']\n",
    "\n",
    "            #print('-----------------')\n",
    "            #print(d)\n",
    "            #print(codelist_id)\n",
    "            #print('-----------------')\n",
    "\n",
    "            for cl in dsd['codelists']:\n",
    "                if codelist_id != cl['id']:\n",
    "                    continue\n",
    "\n",
    "                # if dimension is numerit, to str\n",
    "\n",
    "                cl_dict = pd.DataFrame.from_dict(cl['codes'])\n",
    "                cl_dict.columns = [d, d+'_DESC']\n",
    "\n",
    "                if is_numeric_dtype(x[d]):\n",
    "                    cl_dict[d] = cl_dict[d].astype(float)\n",
    "\n",
    "                #cl_dict.head(5)\n",
    "\n",
    "                x = pd.merge(x,\n",
    "                     cl_dict,\n",
    "                     on=d, \n",
    "                     how='left')\n",
    "                \n",
    "                   \n",
    "    #----------------------------------------------\n",
    "    # Add code description to each coded attribute\n",
    "    #----------------------------------------------\n",
    "\n",
    "    for a in dsd['structure']['attributes']:\n",
    "        for c in dsd['concepts']:\n",
    "            if a != c['id']:\n",
    "                continue\n",
    "\n",
    "            codelist_id =c['code_list']\n",
    "\n",
    "            for cl in dsd['codelists']:\n",
    "\n",
    "                if codelist_id == cl['id']:\n",
    "                    cl_dict = pd.DataFrame.from_dict(cl['codes'])\n",
    "                    cl_dict.columns = [a, a+'_DESC']\n",
    "\n",
    "                    if is_numeric_dtype(x[a]):\n",
    "                        try:\n",
    "                            cl_dict[a] = cl_dict[a].astype(float)\n",
    "                        except ValueError:\n",
    "                            x[a].astype(str)\n",
    "                            cl_dict[a].astype(str)\n",
    "\n",
    "                    #cl_dict.head(5)\n",
    "                    try:\n",
    "                        x = pd.merge(x,\n",
    "                             cl_dict,\n",
    "                             on=a, \n",
    "                             how='left')\n",
    "                    except ValueError:\n",
    "                        print('did not merge')\n",
    "\n",
    "    return x\n"
   ]
  },
  {
   "cell_type": "code",
   "execution_count": 108,
   "metadata": {},
   "outputs": [
    {
     "data": {
      "text/plain": [
       "(3929, 6)"
      ]
     },
     "metadata": {},
     "output_type": "display_data"
    },
    {
     "data": {
      "text/plain": [
       "(3818, 6)"
      ]
     },
     "metadata": {},
     "output_type": "display_data"
    },
    {
     "data": {
      "text/plain": [
       "'There are instances of multiple surveys in the same year'"
      ]
     },
     "metadata": {},
     "output_type": "display_data"
    },
    {
     "name": "stdout",
     "output_type": "stream",
     "text": [
      "did not merge\n"
     ]
    },
    {
     "data": {
      "text/plain": [
       "Index(['DATAFLOW', 'COLLECTION', 'REF_AREA', 'FREQ', 'SURVEY', 'MEASURE',\n",
       "       'SEX', 'TIME_PERIOD', 'OBS_VALUE', 'S3', 'T3', 'I13', 'T12', 'S4', 'R1',\n",
       "       'T33', 'T5', 'S8', 'S14', 'I11', 'S7', 'T2', 'S5', 'OBS_STATUS',\n",
       "       'UNIT_MEASURE_TYPE', 'UNIT_MEASURE', 'UNIT_MULT', 'FREE_TEXT_NOTE',\n",
       "       'DECIMALS', 'SOURCE', 'INDICATOR', 'COLLECTION_DESC', 'REF_AREA_DESC',\n",
       "       'FREQ_DESC', 'SURVEY_DESC', 'MEASURE_DESC', 'SEX_DESC', 'S3_DESC',\n",
       "       'T3_DESC', 'I13_DESC', 'T12_DESC', 'S4_DESC', 'R1_DESC', 'T33_DESC',\n",
       "       'T5_DESC', 'S8_DESC', 'S14_DESC', 'I11_DESC', 'S7_DESC', 'T2_DESC',\n",
       "       'S5_DESC', 'UNIT_MEASURE_TYPE_DESC', 'UNIT_MEASURE_DESC',\n",
       "       'UNIT_MULT_DESC', 'SOURCE_DESC', 'INDICATOR_DESC'],\n",
       "      dtype='object')"
      ]
     },
     "execution_count": 108,
     "metadata": {},
     "output_type": "execute_result"
    },
    {
     "data": {
      "text/html": [
       "<div>\n",
       "<style scoped>\n",
       "    .dataframe tbody tr th:only-of-type {\n",
       "        vertical-align: middle;\n",
       "    }\n",
       "\n",
       "    .dataframe tbody tr th {\n",
       "        vertical-align: top;\n",
       "    }\n",
       "\n",
       "    .dataframe thead th {\n",
       "        text-align: right;\n",
       "    }\n",
       "</style>\n",
       "<table border=\"1\" class=\"dataframe\">\n",
       "  <thead>\n",
       "    <tr style=\"text-align: right;\">\n",
       "      <th></th>\n",
       "      <th>DATAFLOW</th>\n",
       "      <th>COLLECTION</th>\n",
       "      <th>REF_AREA</th>\n",
       "      <th>FREQ</th>\n",
       "      <th>SURVEY</th>\n",
       "      <th>MEASURE</th>\n",
       "      <th>SEX</th>\n",
       "      <th>TIME_PERIOD</th>\n",
       "      <th>OBS_VALUE</th>\n",
       "      <th>S3</th>\n",
       "      <th>...</th>\n",
       "      <th>S14_DESC</th>\n",
       "      <th>I11_DESC</th>\n",
       "      <th>S7_DESC</th>\n",
       "      <th>T2_DESC</th>\n",
       "      <th>S5_DESC</th>\n",
       "      <th>UNIT_MEASURE_TYPE_DESC</th>\n",
       "      <th>UNIT_MEASURE_DESC</th>\n",
       "      <th>UNIT_MULT_DESC</th>\n",
       "      <th>SOURCE_DESC</th>\n",
       "      <th>INDICATOR_DESC</th>\n",
       "    </tr>\n",
       "  </thead>\n",
       "  <tbody>\n",
       "    <tr>\n",
       "      <th>0</th>\n",
       "      <td>ILO:DF_YI_ALL_EMP_PTER_SEX_RT(1.0)</td>\n",
       "      <td>YI</td>\n",
       "      <td>USA</td>\n",
       "      <td>A</td>\n",
       "      <td>453</td>\n",
       "      <td>EMP_PTER_RT</td>\n",
       "      <td>SEX_T</td>\n",
       "      <td>2002</td>\n",
       "      <td>22.84</td>\n",
       "      <td>NaN</td>\n",
       "      <td>...</td>\n",
       "      <td>NaN</td>\n",
       "      <td>NaN</td>\n",
       "      <td>NaN</td>\n",
       "      <td>16 years old</td>\n",
       "      <td>NaN</td>\n",
       "      <td>Rate</td>\n",
       "      <td>Percentage</td>\n",
       "      <td>Units</td>\n",
       "      <td>Labour force survey</td>\n",
       "      <td>Incidence of part-time employment by sex -- Co...</td>\n",
       "    </tr>\n",
       "    <tr>\n",
       "      <th>1</th>\n",
       "      <td>ILO:DF_YI_ALL_EMP_PTER_SEX_RT(1.0)</td>\n",
       "      <td>YI</td>\n",
       "      <td>USA</td>\n",
       "      <td>A</td>\n",
       "      <td>453</td>\n",
       "      <td>EMP_PTER_RT</td>\n",
       "      <td>SEX_T</td>\n",
       "      <td>2003</td>\n",
       "      <td>23.14</td>\n",
       "      <td>NaN</td>\n",
       "      <td>...</td>\n",
       "      <td>NaN</td>\n",
       "      <td>NaN</td>\n",
       "      <td>NaN</td>\n",
       "      <td>16 years old</td>\n",
       "      <td>NaN</td>\n",
       "      <td>Rate</td>\n",
       "      <td>Percentage</td>\n",
       "      <td>Units</td>\n",
       "      <td>Labour force survey</td>\n",
       "      <td>Incidence of part-time employment by sex -- Co...</td>\n",
       "    </tr>\n",
       "    <tr>\n",
       "      <th>2</th>\n",
       "      <td>ILO:DF_YI_ALL_EMP_PTER_SEX_RT(1.0)</td>\n",
       "      <td>YI</td>\n",
       "      <td>USA</td>\n",
       "      <td>A</td>\n",
       "      <td>453</td>\n",
       "      <td>EMP_PTER_RT</td>\n",
       "      <td>SEX_T</td>\n",
       "      <td>2004</td>\n",
       "      <td>23.25</td>\n",
       "      <td>NaN</td>\n",
       "      <td>...</td>\n",
       "      <td>NaN</td>\n",
       "      <td>NaN</td>\n",
       "      <td>NaN</td>\n",
       "      <td>16 years old</td>\n",
       "      <td>NaN</td>\n",
       "      <td>Rate</td>\n",
       "      <td>Percentage</td>\n",
       "      <td>Units</td>\n",
       "      <td>Labour force survey</td>\n",
       "      <td>Incidence of part-time employment by sex -- Co...</td>\n",
       "    </tr>\n",
       "    <tr>\n",
       "      <th>3</th>\n",
       "      <td>ILO:DF_YI_ALL_EMP_PTER_SEX_RT(1.0)</td>\n",
       "      <td>YI</td>\n",
       "      <td>USA</td>\n",
       "      <td>A</td>\n",
       "      <td>453</td>\n",
       "      <td>EMP_PTER_RT</td>\n",
       "      <td>SEX_T</td>\n",
       "      <td>2005</td>\n",
       "      <td>22.77</td>\n",
       "      <td>NaN</td>\n",
       "      <td>...</td>\n",
       "      <td>NaN</td>\n",
       "      <td>NaN</td>\n",
       "      <td>NaN</td>\n",
       "      <td>16 years old</td>\n",
       "      <td>NaN</td>\n",
       "      <td>Rate</td>\n",
       "      <td>Percentage</td>\n",
       "      <td>Units</td>\n",
       "      <td>Labour force survey</td>\n",
       "      <td>Incidence of part-time employment by sex -- Co...</td>\n",
       "    </tr>\n",
       "    <tr>\n",
       "      <th>4</th>\n",
       "      <td>ILO:DF_YI_ALL_EMP_PTER_SEX_RT(1.0)</td>\n",
       "      <td>YI</td>\n",
       "      <td>USA</td>\n",
       "      <td>A</td>\n",
       "      <td>453</td>\n",
       "      <td>EMP_PTER_RT</td>\n",
       "      <td>SEX_T</td>\n",
       "      <td>2006</td>\n",
       "      <td>22.45</td>\n",
       "      <td>NaN</td>\n",
       "      <td>...</td>\n",
       "      <td>NaN</td>\n",
       "      <td>NaN</td>\n",
       "      <td>NaN</td>\n",
       "      <td>16 years old</td>\n",
       "      <td>NaN</td>\n",
       "      <td>Rate</td>\n",
       "      <td>Percentage</td>\n",
       "      <td>Units</td>\n",
       "      <td>Labour force survey</td>\n",
       "      <td>Incidence of part-time employment by sex -- Co...</td>\n",
       "    </tr>\n",
       "  </tbody>\n",
       "</table>\n",
       "<p>5 rows × 56 columns</p>\n",
       "</div>"
      ],
      "text/plain": [
       "                             DATAFLOW COLLECTION REF_AREA FREQ  SURVEY  \\\n",
       "0  ILO:DF_YI_ALL_EMP_PTER_SEX_RT(1.0)         YI      USA    A     453   \n",
       "1  ILO:DF_YI_ALL_EMP_PTER_SEX_RT(1.0)         YI      USA    A     453   \n",
       "2  ILO:DF_YI_ALL_EMP_PTER_SEX_RT(1.0)         YI      USA    A     453   \n",
       "3  ILO:DF_YI_ALL_EMP_PTER_SEX_RT(1.0)         YI      USA    A     453   \n",
       "4  ILO:DF_YI_ALL_EMP_PTER_SEX_RT(1.0)         YI      USA    A     453   \n",
       "\n",
       "       MEASURE    SEX  TIME_PERIOD  OBS_VALUE  S3  ...  S14_DESC  I11_DESC  \\\n",
       "0  EMP_PTER_RT  SEX_T         2002      22.84 NaN  ...       NaN       NaN   \n",
       "1  EMP_PTER_RT  SEX_T         2003      23.14 NaN  ...       NaN       NaN   \n",
       "2  EMP_PTER_RT  SEX_T         2004      23.25 NaN  ...       NaN       NaN   \n",
       "3  EMP_PTER_RT  SEX_T         2005      22.77 NaN  ...       NaN       NaN   \n",
       "4  EMP_PTER_RT  SEX_T         2006      22.45 NaN  ...       NaN       NaN   \n",
       "\n",
       "   S7_DESC       T2_DESC  S5_DESC  UNIT_MEASURE_TYPE_DESC  UNIT_MEASURE_DESC  \\\n",
       "0      NaN  16 years old      NaN                    Rate         Percentage   \n",
       "1      NaN  16 years old      NaN                    Rate         Percentage   \n",
       "2      NaN  16 years old      NaN                    Rate         Percentage   \n",
       "3      NaN  16 years old      NaN                    Rate         Percentage   \n",
       "4      NaN  16 years old      NaN                    Rate         Percentage   \n",
       "\n",
       "   UNIT_MULT_DESC          SOURCE_DESC  \\\n",
       "0           Units  Labour force survey   \n",
       "1           Units  Labour force survey   \n",
       "2           Units  Labour force survey   \n",
       "3           Units  Labour force survey   \n",
       "4           Units  Labour force survey   \n",
       "\n",
       "                                      INDICATOR_DESC  \n",
       "0  Incidence of part-time employment by sex -- Co...  \n",
       "1  Incidence of part-time employment by sex -- Co...  \n",
       "2  Incidence of part-time employment by sex -- Co...  \n",
       "3  Incidence of part-time employment by sex -- Co...  \n",
       "4  Incidence of part-time employment by sex -- Co...  \n",
       "\n",
       "[5 rows x 56 columns]"
      ]
     },
     "execution_count": 108,
     "metadata": {},
     "output_type": "execute_result"
    }
   ],
   "source": [
    "start = '2000-01-01'\n",
    "end = '2019-12-31'\n",
    "dataflow = 'YI_ALL_EMP_PTER_SEX_RT'\n",
    "\n",
    "x = add_descriptions(dataflow,start,end)\n",
    "x.columns\n",
    "x.head(5)\n"
   ]
  },
  {
   "cell_type": "markdown",
   "metadata": {},
   "source": [
    "### Concatenate coded notes and free text footnote"
   ]
  },
  {
   "cell_type": "code",
   "execution_count": 109,
   "metadata": {},
   "outputs": [],
   "source": [
    "def consolidate_footnotes(dataflow,start,end):\n",
    "    \n",
    "    x = add_descriptions(dataflow,start,end)\n",
    "    dsd = parse_dsd(get_dsd(dataflow))\n",
    "    \n",
    "    for index, row in x.iterrows():\n",
    "        footnote = ''\n",
    "        for c in dsd['concepts']:\n",
    "            if c['scheme'] != 'CS_NOTE_TYPE':\n",
    "                continue\n",
    "            # access data using column names\n",
    "            if not math.isnan(row[c['id']]):\n",
    "                footnote = footnote + c['name']+': '+row[c['id']+'_DESC'] + '. '\n",
    "\n",
    "        if x.at[index, 'FREE_TEXT_NOTE'] == 'nan':\n",
    "            x.at[index, 'FREE_TEXT_NOTE'] = footnote\n",
    "        else:\n",
    "             x.at[index, 'FREE_TEXT_NOTE'] = footnote + x.at[index, 'FREE_TEXT_NOTE']\n",
    "                \n",
    "    return x\n"
   ]
  },
  {
   "cell_type": "code",
   "execution_count": 110,
   "metadata": {},
   "outputs": [],
   "source": [
    "#start = '2000-01-01'\n",
    "#end = '2019-12-31'\n",
    "#dataflow = 'YI_ALL_EMP_TEMP_SEX_STE_DT'\n",
    "#\n",
    "#x = consolidate_footnotes(dataflow,start,end)\n",
    "#x.columns\n",
    "#x.head(5)"
   ]
  },
  {
   "cell_type": "markdown",
   "metadata": {},
   "source": [
    "### Select columns to save into excel"
   ]
  },
  {
   "cell_type": "code",
   "execution_count": 111,
   "metadata": {},
   "outputs": [],
   "source": [
    "def transform(dataflow,start,end,sortv):\n",
    "    \n",
    "    x = consolidate_footnotes(dataflow,start,end)\n",
    "    \n",
    "    dsd = parse_dsd(get_dsd(dataflow))\n",
    "\n",
    "    final_columns = ['DATAFLOW']\n",
    "\n",
    "    # Add dimension columns:\n",
    "    for d in dsd['structure']['dimensions']:\n",
    "        final_columns.append(d)\n",
    "        final_columns.append(d+'_DESC')\n",
    "\n",
    "    # Add time dimension column:\n",
    "    final_columns.append('TIME_PERIOD')\n",
    "\n",
    "    # Add primary measure column:\n",
    "    final_columns = final_columns + dsd['structure']['measures']\n",
    "\n",
    "    # Add attribute columns (except coded notes):\n",
    "    for a in dsd['structure']['attributes']:\n",
    "        for c in dsd['concepts']:\n",
    "            if c['scheme'] == 'CS_NOTE_TYPE':\n",
    "                continue\n",
    "            if a == c['id']:\n",
    "                final_columns.append(a)\n",
    "                if a+'_DESC' in x.columns:\n",
    "                    final_columns.append(a+'_DESC')\n",
    "    \n",
    "    sort_vector = ['REF_AREA'] + sortv + ['TIME_PERIOD']\n",
    "\n",
    "    x = x.sort_values(by=sort_vector)\n",
    "    \n",
    "    return x[final_columns]"
   ]
  },
  {
   "cell_type": "code",
   "execution_count": 112,
   "metadata": {},
   "outputs": [
    {
     "name": "stdout",
     "output_type": "stream",
     "text": [
      "YI_ALL_EMP_PTER_SEX_RT\n",
      "['SEX']\n"
     ]
    },
    {
     "data": {
      "text/plain": [
       "(3929, 6)"
      ]
     },
     "metadata": {},
     "output_type": "display_data"
    },
    {
     "data": {
      "text/plain": [
       "(3818, 6)"
      ]
     },
     "metadata": {},
     "output_type": "display_data"
    },
    {
     "data": {
      "text/plain": [
       "'There are instances of multiple surveys in the same year'"
      ]
     },
     "metadata": {},
     "output_type": "display_data"
    },
    {
     "name": "stdout",
     "output_type": "stream",
     "text": [
      "did not merge\n",
      "---finished transforming\n",
      "---finished writing to excel\n",
      "YI_ALL_EMP_TEMP_SEX_STE_DT\n",
      "['SEX', 'STE']\n"
     ]
    },
    {
     "data": {
      "text/plain": [
       "(47675, 7)"
      ]
     },
     "metadata": {},
     "output_type": "display_data"
    },
    {
     "data": {
      "text/plain": [
       "(45584, 7)"
      ]
     },
     "metadata": {},
     "output_type": "display_data"
    },
    {
     "data": {
      "text/plain": [
       "'There are instances of multiple surveys in the same year'"
      ]
     },
     "metadata": {},
     "output_type": "display_data"
    },
    {
     "name": "stdout",
     "output_type": "stream",
     "text": [
      "---finished transforming\n",
      "---finished writing to excel\n"
     ]
    }
   ],
   "source": [
    "start = '2000-01-01'\n",
    "end = '2019-12-31'\n",
    "\n",
    "\n",
    "parameters = [{'dataflow' : 'YI_ALL_EAP_DWAP_SEX_AGE_GEO_RT',\n",
    "              'sorting' : ['SEX', 'AGE', 'GEO']},\n",
    "              {'dataflow' : 'YI_ALL_EMP_TEMP_SEX_ECO_DT',\n",
    "              'sorting' :  ['SEX','ECO']},\n",
    "              {'dataflow' : 'YI_ALL_EMP_PTER_SEX_RT',\n",
    "              'sorting' : ['SEX']},\n",
    "              {'dataflow' : 'YI_ALL_EMP_TEMP_SEX_STE_DT',\n",
    "              'sorting' : ['SEX', 'STE']}\n",
    "             ]\n",
    "\n",
    "                                    \n",
    "for p in parameters:\n",
    "    print(p['dataflow'])\n",
    "    print(p['sorting'])\n",
    "    x = transform(p['dataflow'],start,end, p['sorting'])\n",
    "    print(\"---finished transforming\")\n",
    "    x.to_excel(p['dataflow'] + '_final' + '.xlsx', index=False)\n",
    "    print(\"---finished writing to excel\")\n",
    "\n",
    "\n"
   ]
  }
 ],
 "metadata": {
  "kernelspec": {
   "display_name": "Python 3",
   "language": "python",
   "name": "python3"
  },
  "language_info": {
   "codemirror_mode": {
    "name": "ipython",
    "version": 3
   },
   "file_extension": ".py",
   "mimetype": "text/x-python",
   "name": "python",
   "nbconvert_exporter": "python",
   "pygments_lexer": "ipython3",
   "version": "3.6.8"
  }
 },
 "nbformat": 4,
 "nbformat_minor": 2
}
