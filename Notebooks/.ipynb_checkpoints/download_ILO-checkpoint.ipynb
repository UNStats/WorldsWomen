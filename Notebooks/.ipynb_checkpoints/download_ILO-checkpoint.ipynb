{
 "cells": [
  {
   "cell_type": "markdown",
   "metadata": {},
   "source": [
    "### Load required libraries"
   ]
  },
  {
   "cell_type": "code",
   "execution_count": 54,
   "metadata": {},
   "outputs": [],
   "source": [
    "import json\n",
    "import requests \n",
    "import os\n",
    "from bs4 import BeautifulSoup\n",
    "import re\n",
    "import pandas as pd"
   ]
  },
  {
   "cell_type": "markdown",
   "metadata": {},
   "source": [
    "### Create folder for data"
   ]
  },
  {
   "cell_type": "code",
   "execution_count": 55,
   "metadata": {},
   "outputs": [
    {
     "ename": "FileExistsError",
     "evalue": "[WinError 183] Cannot create a file when that file already exists: '..\\\\data'",
     "output_type": "error",
     "traceback": [
      "\u001b[1;31m---------------------------------------------------------------------------\u001b[0m",
      "\u001b[1;31mFileExistsError\u001b[0m                           Traceback (most recent call last)",
      "\u001b[1;32m<ipython-input-55-225b76323639>\u001b[0m in \u001b[0;36m<module>\u001b[1;34m\u001b[0m\n\u001b[1;32m----> 1\u001b[1;33m \u001b[0mos\u001b[0m\u001b[1;33m.\u001b[0m\u001b[0mmkdir\u001b[0m\u001b[1;33m(\u001b[0m\u001b[1;34m'..\\\\data'\u001b[0m\u001b[1;33m)\u001b[0m\u001b[1;33m\u001b[0m\u001b[1;33m\u001b[0m\u001b[0m\n\u001b[0m",
      "\u001b[1;31mFileExistsError\u001b[0m: [WinError 183] Cannot create a file when that file already exists: '..\\\\data'"
     ]
    }
   ],
   "source": [
    "os.mkdir('..\\\\data')"
   ]
  },
  {
   "cell_type": "markdown",
   "metadata": {},
   "source": [
    "### Interactive shell"
   ]
  },
  {
   "cell_type": "code",
   "execution_count": null,
   "metadata": {},
   "outputs": [],
   "source": [
    "# https://volderette.de/jupyter-notebook-tip-multiple-outputs/\n",
    "from IPython.core.interactiveshell import InteractiveShell\n",
    "InteractiveShell.ast_node_interactivity = \"all\""
   ]
  },
  {
   "cell_type": "markdown",
   "metadata": {},
   "source": [
    "### get indicator urls"
   ]
  },
  {
   "cell_type": "code",
   "execution_count": 57,
   "metadata": {
    "scrolled": true
   },
   "outputs": [
    {
     "data": {
      "text/html": [
       "<div>\n",
       "<style scoped>\n",
       "    .dataframe tbody tr th:only-of-type {\n",
       "        vertical-align: middle;\n",
       "    }\n",
       "\n",
       "    .dataframe tbody tr th {\n",
       "        vertical-align: top;\n",
       "    }\n",
       "\n",
       "    .dataframe thead th {\n",
       "        text-align: right;\n",
       "    }\n",
       "</style>\n",
       "<table border=\"1\" class=\"dataframe\">\n",
       "  <thead>\n",
       "    <tr style=\"text-align: right;\">\n",
       "      <th></th>\n",
       "      <th>indicator</th>\n",
       "      <th>disaggregation</th>\n",
       "      <th>code</th>\n",
       "    </tr>\n",
       "  </thead>\n",
       "  <tbody>\n",
       "    <tr>\n",
       "      <th>0</th>\n",
       "      <td>03a Labour force participation rate for person...</td>\n",
       "      <td>male</td>\n",
       "      <td>collection=YI\\n\\nindicator=EAP_DWAP_SEX_AGE_RT...</td>\n",
       "    </tr>\n",
       "    <tr>\n",
       "      <th>1</th>\n",
       "      <td>03a Labour force participation rate for person...</td>\n",
       "      <td>female</td>\n",
       "      <td>collection=YI\\n\\nindicator=EAP_DWAP_SEX_AGE_RT...</td>\n",
       "    </tr>\n",
       "    <tr>\n",
       "      <th>2</th>\n",
       "      <td>03a Labour force participation rate for person...</td>\n",
       "      <td>bothsex</td>\n",
       "      <td>collection=YI\\n\\nindicator=EAP_DWAP_SEX_AGE_RT...</td>\n",
       "    </tr>\n",
       "    <tr>\n",
       "      <th>3</th>\n",
       "      <td>03b Labour force participation rate for person...</td>\n",
       "      <td>male</td>\n",
       "      <td>collection=YI\\n\\nindicator=EAP_DWAP_SEX_AGE_RT...</td>\n",
       "    </tr>\n",
       "    <tr>\n",
       "      <th>4</th>\n",
       "      <td>03b Labour force participation rate for person...</td>\n",
       "      <td>female</td>\n",
       "      <td>collection=YI\\n\\nindicator=EAP_DWAP_SEX_AGE_RT...</td>\n",
       "    </tr>\n",
       "    <tr>\n",
       "      <th>5</th>\n",
       "      <td>03b Labour force participation rate for person...</td>\n",
       "      <td>bothsex</td>\n",
       "      <td>collection=YI\\n\\nindicator=EAP_DWAP_SEX_AGE_RT...</td>\n",
       "    </tr>\n",
       "    <tr>\n",
       "      <th>6</th>\n",
       "      <td>04 Proportion of employed who are own-account ...</td>\n",
       "      <td>male</td>\n",
       "      <td>collection=YI\\n\\nindicator=EMP_TEMP_SEX_STE_DT...</td>\n",
       "    </tr>\n",
       "    <tr>\n",
       "      <th>7</th>\n",
       "      <td>04 Proportion of employed who are own-account ...</td>\n",
       "      <td>female</td>\n",
       "      <td>collection=YI\\n\\nindicator=EMP_TEMP_SEX_STE_DT...</td>\n",
       "    </tr>\n",
       "    <tr>\n",
       "      <th>8</th>\n",
       "      <td>04 Proportion of employed who are own-account ...</td>\n",
       "      <td>bothsex</td>\n",
       "      <td>collection=YI\\n\\nindicator=EMP_TEMP_SEX_STE_DT...</td>\n",
       "    </tr>\n",
       "    <tr>\n",
       "      <th>9</th>\n",
       "      <td>05 Proportion of employed who are contributing...</td>\n",
       "      <td>male</td>\n",
       "      <td>collection=YI\\n\\nindicator=EMP_TEMP_SEX_STE_DT...</td>\n",
       "    </tr>\n",
       "    <tr>\n",
       "      <th>10</th>\n",
       "      <td>05 Proportion of employed who are contributing...</td>\n",
       "      <td>female</td>\n",
       "      <td>collection=YI\\n\\nindicator=EMP_TEMP_SEX_STE_DT...</td>\n",
       "    </tr>\n",
       "    <tr>\n",
       "      <th>11</th>\n",
       "      <td>05 Proportion of employed who are contributing...</td>\n",
       "      <td>bothsex</td>\n",
       "      <td>collection=YI\\n\\nindicator=EMP_TEMP_SEX_STE_DT...</td>\n",
       "    </tr>\n",
       "    <tr>\n",
       "      <th>12</th>\n",
       "      <td>06 Proportion of employed who are employers, b...</td>\n",
       "      <td>male</td>\n",
       "      <td>collection=YI\\n\\nindicator=EMP_TEMP_SEX_STE_DT...</td>\n",
       "    </tr>\n",
       "    <tr>\n",
       "      <th>13</th>\n",
       "      <td>06 Proportion of employed who are employers, b...</td>\n",
       "      <td>female</td>\n",
       "      <td>collection=YI\\n\\nindicator=EMP_TEMP_SEX_STE_DT...</td>\n",
       "    </tr>\n",
       "    <tr>\n",
       "      <th>14</th>\n",
       "      <td>06 Proportion of employed who are employers, b...</td>\n",
       "      <td>bothsex</td>\n",
       "      <td>collection=YI\\n\\nindicator=EMP_TEMP_SEX_STE_DT...</td>\n",
       "    </tr>\n",
       "    <tr>\n",
       "      <th>15</th>\n",
       "      <td>08a Percentage distribution of employed popula...</td>\n",
       "      <td>male</td>\n",
       "      <td>collection=YI\\n\\nindicator=EMP_TEMP_SEX_ECO_DT...</td>\n",
       "    </tr>\n",
       "    <tr>\n",
       "      <th>16</th>\n",
       "      <td>08a Percentage distribution of employed popula...</td>\n",
       "      <td>female</td>\n",
       "      <td>collection=YI\\n\\nindicator=EMP_TEMP_SEX_ECO_DT...</td>\n",
       "    </tr>\n",
       "    <tr>\n",
       "      <th>17</th>\n",
       "      <td>08a Percentage distribution of employed popula...</td>\n",
       "      <td>bothsex</td>\n",
       "      <td>collection=YI\\n\\nindicator=EMP_TEMP_SEX_ECO_DT...</td>\n",
       "    </tr>\n",
       "    <tr>\n",
       "      <th>18</th>\n",
       "      <td>08b Percentage distribution of employed popula...</td>\n",
       "      <td>male</td>\n",
       "      <td>collection=YI\\n\\nindicator=EMP_TEMP_SEX_ECO_DT...</td>\n",
       "    </tr>\n",
       "    <tr>\n",
       "      <th>19</th>\n",
       "      <td>08b Percentage distribution of employed popula...</td>\n",
       "      <td>female</td>\n",
       "      <td>collection=YI\\n\\nindicator=EMP_TEMP_SEX_ECO_DT...</td>\n",
       "    </tr>\n",
       "    <tr>\n",
       "      <th>20</th>\n",
       "      <td>08b Percentage distribution of employed popula...</td>\n",
       "      <td>bothsex</td>\n",
       "      <td>collection=YI\\n\\nindicator=EMP_TEMP_SEX_ECO_DT...</td>\n",
       "    </tr>\n",
       "    <tr>\n",
       "      <th>21</th>\n",
       "      <td>08c Percentage distribution of employed popula...</td>\n",
       "      <td>male</td>\n",
       "      <td>collection=YI\\n\\nindicator=EMP_TEMP_SEX_ECO_DT...</td>\n",
       "    </tr>\n",
       "    <tr>\n",
       "      <th>22</th>\n",
       "      <td>08c Percentage distribution of employed popula...</td>\n",
       "      <td>female</td>\n",
       "      <td>collection=YI\\n\\nindicator=EMP_TEMP_SEX_ECO_DT...</td>\n",
       "    </tr>\n",
       "    <tr>\n",
       "      <th>23</th>\n",
       "      <td>08c Percentage distribution of employed popula...</td>\n",
       "      <td>bothsex</td>\n",
       "      <td>collection=YI\\n\\nindicator=EMP_TEMP_SEX_ECO_DT...</td>\n",
       "    </tr>\n",
       "    <tr>\n",
       "      <th>24</th>\n",
       "      <td>14 Proportion of employed working part-time, b...</td>\n",
       "      <td>male</td>\n",
       "      <td>collection=YI\\n\\nindicator=EMP_PTER_SEX_RT\\n\\n...</td>\n",
       "    </tr>\n",
       "    <tr>\n",
       "      <th>25</th>\n",
       "      <td>14 Proportion of employed working part-time, b...</td>\n",
       "      <td>female</td>\n",
       "      <td>collection=YI\\n\\nindicator=EMP_PTER_SEX_RT\\n\\n...</td>\n",
       "    </tr>\n",
       "    <tr>\n",
       "      <th>26</th>\n",
       "      <td>14 Proportion of employed working part-time, b...</td>\n",
       "      <td>bothsex</td>\n",
       "      <td>collection=YI\\n\\nindicator=EMP_PTER_SEX_RT\\n\\n...</td>\n",
       "    </tr>\n",
       "  </tbody>\n",
       "</table>\n",
       "</div>"
      ],
      "text/plain": [
       "                                            indicator disaggregation  \\\n",
       "0   03a Labour force participation rate for person...           male   \n",
       "1   03a Labour force participation rate for person...         female   \n",
       "2   03a Labour force participation rate for person...        bothsex   \n",
       "3   03b Labour force participation rate for person...           male   \n",
       "4   03b Labour force participation rate for person...         female   \n",
       "5   03b Labour force participation rate for person...        bothsex   \n",
       "6   04 Proportion of employed who are own-account ...           male   \n",
       "7   04 Proportion of employed who are own-account ...         female   \n",
       "8   04 Proportion of employed who are own-account ...        bothsex   \n",
       "9   05 Proportion of employed who are contributing...           male   \n",
       "10  05 Proportion of employed who are contributing...         female   \n",
       "11  05 Proportion of employed who are contributing...        bothsex   \n",
       "12  06 Proportion of employed who are employers, b...           male   \n",
       "13  06 Proportion of employed who are employers, b...         female   \n",
       "14  06 Proportion of employed who are employers, b...        bothsex   \n",
       "15  08a Percentage distribution of employed popula...           male   \n",
       "16  08a Percentage distribution of employed popula...         female   \n",
       "17  08a Percentage distribution of employed popula...        bothsex   \n",
       "18  08b Percentage distribution of employed popula...           male   \n",
       "19  08b Percentage distribution of employed popula...         female   \n",
       "20  08b Percentage distribution of employed popula...        bothsex   \n",
       "21  08c Percentage distribution of employed popula...           male   \n",
       "22  08c Percentage distribution of employed popula...         female   \n",
       "23  08c Percentage distribution of employed popula...        bothsex   \n",
       "24  14 Proportion of employed working part-time, b...           male   \n",
       "25  14 Proportion of employed working part-time, b...         female   \n",
       "26  14 Proportion of employed working part-time, b...        bothsex   \n",
       "\n",
       "                                                 code  \n",
       "0   collection=YI\\n\\nindicator=EAP_DWAP_SEX_AGE_RT...  \n",
       "1   collection=YI\\n\\nindicator=EAP_DWAP_SEX_AGE_RT...  \n",
       "2   collection=YI\\n\\nindicator=EAP_DWAP_SEX_AGE_RT...  \n",
       "3   collection=YI\\n\\nindicator=EAP_DWAP_SEX_AGE_RT...  \n",
       "4   collection=YI\\n\\nindicator=EAP_DWAP_SEX_AGE_RT...  \n",
       "5   collection=YI\\n\\nindicator=EAP_DWAP_SEX_AGE_RT...  \n",
       "6   collection=YI\\n\\nindicator=EMP_TEMP_SEX_STE_DT...  \n",
       "7   collection=YI\\n\\nindicator=EMP_TEMP_SEX_STE_DT...  \n",
       "8   collection=YI\\n\\nindicator=EMP_TEMP_SEX_STE_DT...  \n",
       "9   collection=YI\\n\\nindicator=EMP_TEMP_SEX_STE_DT...  \n",
       "10  collection=YI\\n\\nindicator=EMP_TEMP_SEX_STE_DT...  \n",
       "11  collection=YI\\n\\nindicator=EMP_TEMP_SEX_STE_DT...  \n",
       "12  collection=YI\\n\\nindicator=EMP_TEMP_SEX_STE_DT...  \n",
       "13  collection=YI\\n\\nindicator=EMP_TEMP_SEX_STE_DT...  \n",
       "14  collection=YI\\n\\nindicator=EMP_TEMP_SEX_STE_DT...  \n",
       "15  collection=YI\\n\\nindicator=EMP_TEMP_SEX_ECO_DT...  \n",
       "16  collection=YI\\n\\nindicator=EMP_TEMP_SEX_ECO_DT...  \n",
       "17  collection=YI\\n\\nindicator=EMP_TEMP_SEX_ECO_DT...  \n",
       "18  collection=YI\\n\\nindicator=EMP_TEMP_SEX_ECO_DT...  \n",
       "19  collection=YI\\n\\nindicator=EMP_TEMP_SEX_ECO_DT...  \n",
       "20  collection=YI\\n\\nindicator=EMP_TEMP_SEX_ECO_DT...  \n",
       "21  collection=YI\\n\\nindicator=EMP_TEMP_SEX_ECO_DT...  \n",
       "22  collection=YI\\n\\nindicator=EMP_TEMP_SEX_ECO_DT...  \n",
       "23  collection=YI\\n\\nindicator=EMP_TEMP_SEX_ECO_DT...  \n",
       "24  collection=YI\\n\\nindicator=EMP_PTER_SEX_RT\\n\\n...  \n",
       "25  collection=YI\\n\\nindicator=EMP_PTER_SEX_RT\\n\\n...  \n",
       "26  collection=YI\\n\\nindicator=EMP_PTER_SEX_RT\\n\\n...  "
      ]
     },
     "execution_count": 57,
     "metadata": {},
     "output_type": "execute_result"
    }
   ],
   "source": [
    "#read info from email\n",
    "idctr = pd.read_csv('..\\\\data\\\\ILO_indicators\\\\email.csv')\n",
    "idctr"
   ]
  },
  {
   "cell_type": "code",
   "execution_count": 60,
   "metadata": {},
   "outputs": [
    {
     "data": {
      "text/plain": [
       "['https://www.ilo.org/sdmx/rest/data/ILO,DF_YI_ALL_EAP_DWAP_SEX_AGE_RT/.....SEX_M.AGE_YTHADULT_Y15-24.?format=csv',\n",
       " 'https://www.ilo.org/sdmx/rest/data/ILO,DF_YI_ALL_EAP_DWAP_SEX_AGE_RT/.....SEX_F.AGE_YTHADULT_Y15-24.?format=csv',\n",
       " 'https://www.ilo.org/sdmx/rest/data/ILO,DF_YI_ALL_EAP_DWAP_SEX_AGE_RT/.....SEX_T.AGE_YTHADULT_Y15-24.?format=csv',\n",
       " 'https://www.ilo.org/sdmx/rest/data/ILO,DF_YI_ALL_EAP_DWAP_SEX_AGE_RT/.....SEX_M.AGE_YTHADULT_YGE15.?format=csv',\n",
       " 'https://www.ilo.org/sdmx/rest/data/ILO,DF_YI_ALL_EAP_DWAP_SEX_AGE_RT/.....SEX_F.AGE_YTHADULT_YGE15.?format=csv',\n",
       " 'https://www.ilo.org/sdmx/rest/data/ILO,DF_YI_ALL_EAP_DWAP_SEX_AGE_RT/.....SEX_T.AGE_YTHADULT_YGE15.?format=csv',\n",
       " 'https://www.ilo.org/sdmx/rest/data/ILO,DF_YI_ALL_EMP_TEMP_SEX_STE_DT/.....SEX_M.STE_ICSE93_3.?format=csv',\n",
       " 'https://www.ilo.org/sdmx/rest/data/ILO,DF_YI_ALL_EMP_TEMP_SEX_STE_DT/.....SEX_F.STE_ICSE93_3.?format=csv',\n",
       " 'https://www.ilo.org/sdmx/rest/data/ILO,DF_YI_ALL_EMP_TEMP_SEX_STE_DT/.....SEX_T.STE_ICSE93_3.?format=csv',\n",
       " 'https://www.ilo.org/sdmx/rest/data/ILO,DF_YI_ALL_EMP_TEMP_SEX_STE_DT/.....SEX_M.STE_ICSE93_5.?format=csv',\n",
       " 'https://www.ilo.org/sdmx/rest/data/ILO,DF_YI_ALL_EMP_TEMP_SEX_STE_DT/.....SEX_F.STE_ICSE93_5.?format=csv',\n",
       " 'https://www.ilo.org/sdmx/rest/data/ILO,DF_YI_ALL_EMP_TEMP_SEX_STE_DT/.....SEX_T.STE_ICSE93_5.?format=csv',\n",
       " 'https://www.ilo.org/sdmx/rest/data/ILO,DF_YI_ALL_EMP_TEMP_SEX_STE_DT/.....SEX_M.STE_ICSE93_2.?format=csv',\n",
       " 'https://www.ilo.org/sdmx/rest/data/ILO,DF_YI_ALL_EMP_TEMP_SEX_STE_DT/.....SEX_F.STE_ICSE93_2.?format=csv',\n",
       " 'https://www.ilo.org/sdmx/rest/data/ILO,DF_YI_ALL_EMP_TEMP_SEX_STE_DT/.....SEX_T.STE_ICSE93_2.?format=csv',\n",
       " 'https://www.ilo.org/sdmx/rest/data/ILO,DF_YI_ALL_EMP_TEMP_SEX_ECO_DT/.....SEX_M.ECO_SECTOR_AGR.?format=csv',\n",
       " 'https://www.ilo.org/sdmx/rest/data/ILO,DF_YI_ALL_EMP_TEMP_SEX_ECO_DT/.....SEX_F.ECO_SECTOR_AGR.?format=csv',\n",
       " 'https://www.ilo.org/sdmx/rest/data/ILO,DF_YI_ALL_EMP_TEMP_SEX_ECO_DT/.....SEX_T.ECO_SECTOR_AGR.?format=csv',\n",
       " 'https://www.ilo.org/sdmx/rest/data/ILO,DF_YI_ALL_EMP_TEMP_SEX_ECO_DT/.....SEX_M.ECO_SECTOR_IND.?format=csv',\n",
       " 'https://www.ilo.org/sdmx/rest/data/ILO,DF_YI_ALL_EMP_TEMP_SEX_ECO_DT/.....SEX_F.ECO_SECTOR_IND.?format=csv',\n",
       " 'https://www.ilo.org/sdmx/rest/data/ILO,DF_YI_ALL_EMP_TEMP_SEX_ECO_DT/.....SEX_T.ECO_SECTOR_IND.?format=csv',\n",
       " 'https://www.ilo.org/sdmx/rest/data/ILO,DF_YI_ALL_EMP_TEMP_SEX_ECO_DT/.....SEX_M.ECO_SECTOR_SER.?format=csv',\n",
       " 'https://www.ilo.org/sdmx/rest/data/ILO,DF_YI_ALL_EMP_TEMP_SEX_ECO_DT/.....SEX_F.ECO_SECTOR_SER.?format=csv',\n",
       " 'https://www.ilo.org/sdmx/rest/data/ILO,DF_YI_ALL_EMP_TEMP_SEX_ECO_DT/.....SEX_T.ECO_SECTOR_SER.?format=csv',\n",
       " 'https://www.ilo.org/sdmx/rest/data/ILO,DF_YI_ALL_EMP_PTER_SEX_RT/.....SEX_M.?format=csv',\n",
       " 'https://www.ilo.org/sdmx/rest/data/ILO,DF_YI_ALL_EMP_PTER_SEX_RT/.....SEX_F.?format=csv',\n",
       " 'https://www.ilo.org/sdmx/rest/data/ILO,DF_YI_ALL_EMP_PTER_SEX_RT/.....SEX_T.?format=csv']"
      ]
     },
     "execution_count": 60,
     "metadata": {},
     "output_type": "execute_result"
    }
   ],
   "source": [
    "#build url\n",
    "idctr_list = []\n",
    "\n",
    "base_url = 'https://www.ilo.org/sdmx/rest/data/ILO,DF_YI_ALL_'\n",
    "for c in idctr.code[:-3]:   # first 24 indicators have 8 dimensions according to dsd\n",
    "    params = [i.split('=')[1].strip() for i in c.split('\\n\\n')]\n",
    "    spec_url = params[1] + '/.....' + params[3] + '.' + params[2] + '.' +'?format=csv'\n",
    "    idctr_list.append(base_url + spec_url)\n",
    "    \n",
    "for c in idctr.code[-3:]:   # last 3 indicators have 7 dimensions according to dsd\n",
    "    params = [i.split('=')[1].strip() for i in c.split('\\n\\n')]\n",
    "    spec_url = params[1] + '/.....' + params[2]  + '.' +'?format=csv'\n",
    "    idctr_list.append(base_url + spec_url)\n",
    "    \n",
    "idctr_list\n",
    "idctr['url']= idctr_list # append url to indicator dataframe\n"
   ]
  },
  {
   "cell_type": "markdown",
   "metadata": {},
   "source": [
    "### Download data"
   ]
  },
  {
   "cell_type": "code",
   "execution_count": 53,
   "metadata": {
    "scrolled": true
   },
   "outputs": [
    {
     "data": {
      "text/plain": [
       "'finished downloading 03a Labour force participation rate for persons aged 15-24, by sex_male.csv'"
      ]
     },
     "metadata": {},
     "output_type": "display_data"
    },
    {
     "data": {
      "text/plain": [
       "'finished downloading 03a Labour force participation rate for persons aged 15-24, by sex_female.csv'"
      ]
     },
     "metadata": {},
     "output_type": "display_data"
    },
    {
     "data": {
      "text/plain": [
       "'finished downloading 03a Labour force participation rate for persons aged 15-24, by sex_bothsex.csv'"
      ]
     },
     "metadata": {},
     "output_type": "display_data"
    },
    {
     "data": {
      "text/plain": [
       "'finished downloading 03b Labour force participation rate for persons aged 15+, by sex_male.csv'"
      ]
     },
     "metadata": {},
     "output_type": "display_data"
    },
    {
     "data": {
      "text/plain": [
       "'finished downloading 03b Labour force participation rate for persons aged 15+, by sex_female.csv'"
      ]
     },
     "metadata": {},
     "output_type": "display_data"
    },
    {
     "data": {
      "text/plain": [
       "'finished downloading 03b Labour force participation rate for persons aged 15+, by sex_bothsex.csv'"
      ]
     },
     "metadata": {},
     "output_type": "display_data"
    },
    {
     "data": {
      "text/plain": [
       "'finished downloading 04 Proportion of employed who are own-account workers, by sex_male.csv'"
      ]
     },
     "metadata": {},
     "output_type": "display_data"
    },
    {
     "data": {
      "text/plain": [
       "'finished downloading 04 Proportion of employed who are own-account workers, by sex_female.csv'"
      ]
     },
     "metadata": {},
     "output_type": "display_data"
    },
    {
     "data": {
      "text/plain": [
       "'finished downloading 04 Proportion of employed who are own-account workers, by sex_bothsex.csv'"
      ]
     },
     "metadata": {},
     "output_type": "display_data"
    },
    {
     "data": {
      "text/plain": [
       "'finished downloading 05 Proportion of employed who are contributing family workers, by sex_male.csv'"
      ]
     },
     "metadata": {},
     "output_type": "display_data"
    },
    {
     "data": {
      "text/plain": [
       "'finished downloading 05 Proportion of employed who are contributing family workers, by sex_female.csv'"
      ]
     },
     "metadata": {},
     "output_type": "display_data"
    },
    {
     "data": {
      "text/plain": [
       "'finished downloading 05 Proportion of employed who are contributing family workers, by sex_bothsex.csv'"
      ]
     },
     "metadata": {},
     "output_type": "display_data"
    },
    {
     "data": {
      "text/plain": [
       "'finished downloading 06 Proportion of employed who are employers, by sex_male.csv'"
      ]
     },
     "metadata": {},
     "output_type": "display_data"
    },
    {
     "data": {
      "text/plain": [
       "'finished downloading 06 Proportion of employed who are employers, by sex_female.csv'"
      ]
     },
     "metadata": {},
     "output_type": "display_data"
    },
    {
     "data": {
      "text/plain": [
       "'finished downloading 06 Proportion of employed who are employers, by sex_bothsex.csv'"
      ]
     },
     "metadata": {},
     "output_type": "display_data"
    },
    {
     "data": {
      "text/plain": [
       "'finished downloading 08a Percentage distribution of employed population in agricultural sector, by sex_male.csv'"
      ]
     },
     "metadata": {},
     "output_type": "display_data"
    },
    {
     "data": {
      "text/plain": [
       "'finished downloading 08a Percentage distribution of employed population in agricultural sector, by sex_female.csv'"
      ]
     },
     "metadata": {},
     "output_type": "display_data"
    },
    {
     "data": {
      "text/plain": [
       "'finished downloading 08a Percentage distribution of employed population in agricultural sector, by sex_bothsex.csv'"
      ]
     },
     "metadata": {},
     "output_type": "display_data"
    },
    {
     "data": {
      "text/plain": [
       "'finished downloading 08b Percentage distribution of employed population in industrial sector, by sex_male.csv'"
      ]
     },
     "metadata": {},
     "output_type": "display_data"
    },
    {
     "data": {
      "text/plain": [
       "'finished downloading 08b Percentage distribution of employed population in industrial sector, by sex_female.csv'"
      ]
     },
     "metadata": {},
     "output_type": "display_data"
    },
    {
     "data": {
      "text/plain": [
       "'finished downloading 08b Percentage distribution of employed population in industrial sector, by sex_bothsex.csv'"
      ]
     },
     "metadata": {},
     "output_type": "display_data"
    },
    {
     "data": {
      "text/plain": [
       "'finished downloading 08c Percentage distribution of employed population in service sector, by sex_male.csv'"
      ]
     },
     "metadata": {},
     "output_type": "display_data"
    },
    {
     "data": {
      "text/plain": [
       "'finished downloading 08c Percentage distribution of employed population in service sector, by sex_female.csv'"
      ]
     },
     "metadata": {},
     "output_type": "display_data"
    },
    {
     "data": {
      "text/plain": [
       "'finished downloading 08c Percentage distribution of employed population in service sector, by sex_bothsex.csv'"
      ]
     },
     "metadata": {},
     "output_type": "display_data"
    },
    {
     "data": {
      "text/plain": [
       "'finished downloading 14 Proportion of employed working part-time, by sex_male.csv'"
      ]
     },
     "metadata": {},
     "output_type": "display_data"
    },
    {
     "data": {
      "text/plain": [
       "'finished downloading 14 Proportion of employed working part-time, by sex_female.csv'"
      ]
     },
     "metadata": {},
     "output_type": "display_data"
    },
    {
     "data": {
      "text/plain": [
       "'finished downloading 14 Proportion of employed working part-time, by sex_bothsex.csv'"
      ]
     },
     "metadata": {},
     "output_type": "display_data"
    }
   ],
   "source": [
    "for i in range(27):\n",
    "    url = idctr.url[i] + '?format=csv'\n",
    "    file = idctr.indicator[i] + '_' + idctr.disaggregation[i] + '.csv'\n",
    "    file_loc = '..\\\\data\\\\ILO_indicators\\\\' + file\n",
    "    df = pd.read_csv(url)   \n",
    "    df.to_csv(file_loc)\n",
    "    display('finished downloading ' + file)\n",
    "\n",
    "    "
   ]
  }
 ],
 "metadata": {
  "kernelspec": {
   "display_name": "Python 3",
   "language": "python",
   "name": "python3"
  },
  "language_info": {
   "codemirror_mode": {
    "name": "ipython",
    "version": 3
   },
   "file_extension": ".py",
   "mimetype": "text/x-python",
   "name": "python",
   "nbconvert_exporter": "python",
   "pygments_lexer": "ipython3",
   "version": "3.7.3"
  }
 },
 "nbformat": 4,
 "nbformat_minor": 2
}
