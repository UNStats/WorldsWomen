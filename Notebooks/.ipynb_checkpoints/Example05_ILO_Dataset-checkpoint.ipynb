{
 "cells": [
  {
   "cell_type": "markdown",
   "metadata": {},
   "source": [
    "# Example 05: Get a datasets for multiple series and countries from ILO API in csv format\n",
    "\n",
    "Download csvs from ILO's SDMX API (ILOSTAT SDMX Gateway). "
   ]
  },
  {
   "cell_type": "markdown",
   "metadata": {},
   "source": [
    "### Load required libraries"
   ]
  },
  {
   "cell_type": "code",
   "execution_count": 21,
   "metadata": {},
   "outputs": [],
   "source": [
    "import json\n",
    "import requests "
   ]
  },
  {
   "cell_type": "markdown",
   "metadata": {},
   "source": [
    "### Interactive shell"
   ]
  },
  {
   "cell_type": "code",
   "execution_count": 22,
   "metadata": {},
   "outputs": [],
   "source": [
    "# https://volderette.de/jupyter-notebook-tip-multiple-outputs/\n",
    "from IPython.core.interactiveshell import InteractiveShell\n",
    "InteractiveShell.ast_node_interactivity = \"all\""
   ]
  },
  {
   "cell_type": "markdown",
   "metadata": {},
   "source": [
    "### Get data from API endpoint and save as xml file on disk"
   ]
  },
  {
   "cell_type": "code",
   "execution_count": 29,
   "metadata": {},
   "outputs": [],
   "source": [
    "def buildUrl(countryCode, indicatorCode):\n",
    "    \n",
    "    baseURL = 'https://www.ilo.org/sdmx/rest/'\n",
    "    url = baseURL + 'data/ILO,DF_YI_'+ countryCode + '_' + indicatorCode + '?format=csv'  # \n",
    "    return url"
   ]
  },
  {
   "cell_type": "code",
   "execution_count": 28,
   "metadata": {},
   "outputs": [],
   "source": [
    "def getcsv (url, file):\n",
    "    # creating HTTP response object from given url \n",
    "    resp = requests.get(url) \n",
    "\n",
    "    # saving the xml message into an xml file \n",
    "    with open(file, 'wb') as f: \n",
    "        f.write(resp.content) \n",
    "    display('finished downloading ' + file)\n",
    "    "
   ]
  },
  {
   "cell_type": "code",
   "execution_count": 30,
   "metadata": {},
   "outputs": [
    {
     "data": {
      "text/plain": [
       "'finished downloading EAP_DWAP_SEX_AGE_RT_MEX.csv'"
      ]
     },
     "metadata": {},
     "output_type": "display_data"
    },
    {
     "data": {
      "text/plain": [
       "'finished downloading EAP_DWAP_SEX_AGE_RT_BRA.csv'"
      ]
     },
     "metadata": {},
     "output_type": "display_data"
    },
    {
     "data": {
      "text/plain": [
       "'finished downloading EAP_DWAP_SEX_AGE_RT_JPN.csv'"
      ]
     },
     "metadata": {},
     "output_type": "display_data"
    },
    {
     "data": {
      "text/plain": [
       "'finished downloading EMP_TEMP_SEX_STE_DT_MEX.csv'"
      ]
     },
     "metadata": {},
     "output_type": "display_data"
    },
    {
     "data": {
      "text/plain": [
       "'finished downloading EMP_TEMP_SEX_STE_DT_BRA.csv'"
      ]
     },
     "metadata": {},
     "output_type": "display_data"
    },
    {
     "data": {
      "text/plain": [
       "'finished downloading EMP_TEMP_SEX_STE_DT_JPN.csv'"
      ]
     },
     "metadata": {},
     "output_type": "display_data"
    }
   ],
   "source": [
    "countries = ['MEX', 'BRA', 'JPN']\n",
    "indicators = ['EAP_DWAP_SEX_AGE_RT', 'EMP_TEMP_SEX_STE_DT']\n",
    "\n",
    "for i in indicators:\n",
    "    for c in countries:\n",
    "        url = buildUrl(c,i)\n",
    "        \n",
    "        file = i+'_'+c+'.csv'\n",
    "        \n",
    "        getcsv(url,file)"
   ]
  }
 ],
 "metadata": {
  "kernelspec": {
   "display_name": "Python 3",
   "language": "python",
   "name": "python3"
  },
  "language_info": {
   "codemirror_mode": {
    "name": "ipython",
    "version": 3
   },
   "file_extension": ".py",
   "mimetype": "text/x-python",
   "name": "python",
   "nbconvert_exporter": "python",
   "pygments_lexer": "ipython3",
   "version": "3.6.8"
  }
 },
 "nbformat": 4,
 "nbformat_minor": 2
}
