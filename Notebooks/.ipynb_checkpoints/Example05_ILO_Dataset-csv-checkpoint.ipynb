{
 "cells": [
  {
   "cell_type": "markdown",
   "metadata": {},
   "source": [
    "# Example 05: Get a datasets for multiple series and countries from ILO API in csv format\n",
    "\n",
    "Download csvs from ILO's SDMX API (ILOSTAT SDMX Gateway). "
   ]
  },
  {
   "cell_type": "markdown",
   "metadata": {},
   "source": [
    "### Load required libraries"
   ]
  },
  {
   "cell_type": "code",
   "execution_count": 8,
   "metadata": {},
   "outputs": [],
   "source": [
    "import json\n",
    "import requests \n",
    "import os\n",
    "from bs4 import BeautifulSoup\n",
    "import re"
   ]
  },
  {
   "cell_type": "markdown",
   "metadata": {},
   "source": [
    "### Create folder for data"
   ]
  },
  {
   "cell_type": "code",
   "execution_count": 23,
   "metadata": {},
   "outputs": [
    {
     "ename": "FileExistsError",
     "evalue": "[WinError 183] Cannot create a file when that file already exists: '..\\\\data'",
     "output_type": "error",
     "traceback": [
      "\u001b[1;31m---------------------------------------------------------------------------\u001b[0m",
      "\u001b[1;31mFileExistsError\u001b[0m                           Traceback (most recent call last)",
      "\u001b[1;32m<ipython-input-23-225b76323639>\u001b[0m in \u001b[0;36m<module>\u001b[1;34m\u001b[0m\n\u001b[1;32m----> 1\u001b[1;33m \u001b[0mos\u001b[0m\u001b[1;33m.\u001b[0m\u001b[0mmkdir\u001b[0m\u001b[1;33m(\u001b[0m\u001b[1;34m'..\\\\data'\u001b[0m\u001b[1;33m)\u001b[0m\u001b[1;33m\u001b[0m\u001b[1;33m\u001b[0m\u001b[0m\n\u001b[0m",
      "\u001b[1;31mFileExistsError\u001b[0m: [WinError 183] Cannot create a file when that file already exists: '..\\\\data'"
     ]
    }
   ],
   "source": [
    "os.mkdir('..\\\\data')"
   ]
  },
  {
   "cell_type": "markdown",
   "metadata": {},
   "source": [
    "### Interactive shell"
   ]
  },
  {
   "cell_type": "code",
   "execution_count": 2,
   "metadata": {},
   "outputs": [],
   "source": [
    "# https://volderette.de/jupyter-notebook-tip-multiple-outputs/\n",
    "from IPython.core.interactiveshell import InteractiveShell\n",
    "InteractiveShell.ast_node_interactivity = \"all\""
   ]
  },
  {
   "cell_type": "markdown",
   "metadata": {},
   "source": [
    "### find countryCode through parsing CL_codelist"
   ]
  },
  {
   "cell_type": "code",
   "execution_count": 3,
   "metadata": {},
   "outputs": [],
   "source": [
    "url = 'https://www.ilo.org/sdmx/rest/codelist/ILO/CL_AREA' #contain 3-\n",
    "# creating HTTPS response object from given url \n",
    "resp = requests.get(url) \n",
    "\n",
    "soup = BeautifulSoup(resp.content)\n",
    "\n",
    "longlist = soup.find_all('structure:code')\n",
    "\n",
    "countryCodes = [l for l in [l['id'] for l in longlist] if re.match(r'[A-Z]{3}',str(l))]\n",
    "\n",
    "countryCodes #234"
   ]
  },
  {
   "cell_type": "markdown",
   "metadata": {},
   "source": [
    "### Get data from API endpoint and save as xml file on disk"
   ]
  },
  {
   "cell_type": "code",
   "execution_count": 20,
   "metadata": {},
   "outputs": [],
   "source": [
    "def buildUrl(countryCode, indicatorCode):\n",
    "    \n",
    "    baseURL = 'https://www.ilo.org/sdmx/rest/'\n",
    "    url = baseURL + 'data/ILO,DF_YI_'+ countryCode + '_' + indicatorCode + '?format=csv'  # \n",
    "    return url"
   ]
  },
  {
   "cell_type": "code",
   "execution_count": 21,
   "metadata": {},
   "outputs": [],
   "source": [
    "def getcsv (url, file):\n",
    "    # creating HTTP response object from given url \n",
    "    resp = requests.get(url) \n",
    "    file_loc = '..\\\\data\\\\' + file\n",
    "    # saving the xml message into an xml file \n",
    "    with open(file_loc, 'wb') as f: \n",
    "        f.write(resp.content) \n",
    "    display('finished downloading ' + file)\n",
    "    "
   ]
  },
  {
   "cell_type": "code",
   "execution_count": null,
   "metadata": {},
   "outputs": [],
   "source": [
    "indicators = ['EAP_DWAP_SEX_AGE_RT', 'EMP_TEMP_SEX_STE_DT']\n",
    "\n",
    "for i in indicators:\n",
    "    for c in countryCodes:\n",
    "        url = buildUrl(c,i)\n",
    "        \n",
    "        file = i+'_'+c+'.csv'\n",
    "        \n",
    "        getcsv(url,file)"
   ]
  }
 ],
 "metadata": {
  "kernelspec": {
   "display_name": "Python 3",
   "language": "python",
   "name": "python3"
  },
  "language_info": {
   "codemirror_mode": {
    "name": "ipython",
    "version": 3
   },
   "file_extension": ".py",
   "mimetype": "text/x-python",
   "name": "python",
   "nbconvert_exporter": "python",
   "pygments_lexer": "ipython3",
   "version": "3.7.3"
  }
 },
 "nbformat": 4,
 "nbformat_minor": 2
}
