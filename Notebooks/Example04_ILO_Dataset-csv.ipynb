{
 "cells": [
  {
   "cell_type": "markdown",
   "metadata": {},
   "source": [
    "# Example 04: Get a specific dataset from ILO API\n",
    "\n",
    "This example shows how to get a specific dataset from ILO's SDMX API (ILOSTAT SDMX Gateway). "
   ]
  },
  {
   "cell_type": "markdown",
   "metadata": {},
   "source": [
    "### Load required libraries"
   ]
  },
  {
   "cell_type": "code",
   "execution_count": 1,
   "metadata": {},
   "outputs": [],
   "source": [
    "import xmltodict\n",
    "import json\n",
    "import requests \n",
    "import xml.etree.ElementTree as ET "
   ]
  },
  {
   "cell_type": "markdown",
   "metadata": {},
   "source": [
    "### Interactive shell"
   ]
  },
  {
   "cell_type": "code",
   "execution_count": 2,
   "metadata": {},
   "outputs": [],
   "source": [
    "# https://volderette.de/jupyter-notebook-tip-multiple-outputs/\n",
    "from IPython.core.interactiveshell import InteractiveShell\n",
    "InteractiveShell.ast_node_interactivity = \"all\""
   ]
  },
  {
   "cell_type": "markdown",
   "metadata": {},
   "source": [
    "### Get data from API endpoint and save as xml file on disk"
   ]
  },
  {
   "cell_type": "markdown",
   "metadata": {},
   "source": [
    "#### Build URL string"
   ]
  },
  {
   "cell_type": "code",
   "execution_count": 3,
   "metadata": {},
   "outputs": [
    {
     "data": {
      "text/plain": [
       "'http://www.ilo.org/sdmx/rest/data/ILO,DF_YI_MEX_EAP_DWAP_SEX_AGE_RT?format=csv'"
      ]
     },
     "execution_count": 3,
     "metadata": {},
     "output_type": "execute_result"
    }
   ],
   "source": [
    "baseURL = 'http://www.ilo.org/sdmx/rest/'\n",
    "\n",
    "countryCode = 'MEX'\n",
    "\n",
    "indicator = 'EAP_DWAP_SEX_AGE_RT'\n",
    "\n",
    "# url of API endpoint returning all the dissemination dataflows (i.e. indicators) with data available\n",
    "url = baseURL + 'data/ILO,DF_YI_'+ countryCode + '_' + indicator + '?format=csv'  # \n",
    "\n",
    "url\n"
   ]
  },
  {
   "cell_type": "code",
   "execution_count": 10,
   "metadata": {},
   "outputs": [
    {
     "name": "stdout",
     "output_type": "stream",
     "text": [
      "['<?xml version=\"1.0\" encoding=\"ISO-8859-1\"?>']\n",
      "['<!DOCTYPE html PUBLIC \"-//W3C//DTD XHTML 1.0 Strict//EN\"']\n",
      "['  \"http://www.w3.org/TR/xhtml1/DTD/xhtml1-strict.dtd\">']\n",
      "['<html xmlns=\"http://www.w3.org/1999/xhtml\" lang=\"en\" xml:lang=\"en\">']\n",
      "['<head>']\n",
      "['<title>Object not found!</title>']\n",
      "['<link rev=\"made\" href=\"mailto:webtransfers@ilo.org\" />']\n",
      "['<style type=\"text/css\"><!--/*--><![CDATA[/*><!--*/ ']\n",
      "['    body { color: #000000; background-color: #FFFFFF; }']\n",
      "['    a:link { color: #0000CC; }']\n",
      "['    p', ' address {margin-left: 3em;}']\n",
      "['    span {font-size: smaller;}']\n",
      "['/*]]>*/--></style>']\n",
      "['</head>']\n",
      "[]\n",
      "['<body>']\n",
      "['<h1>Object not found!</h1>']\n",
      "['<p>']\n",
      "[]\n",
      "[]\n",
      "['    The requested URL was not found on this server.']\n",
      "[]\n",
      "['  ']\n",
      "[]\n",
      "['    If you entered the URL manually please check your']\n",
      "['    spelling and try again.']\n",
      "[]\n",
      "['  ']\n",
      "[]\n",
      "['</p>']\n",
      "['<p>']\n",
      "['If you think this is a server error', ' please contact']\n",
      "['the <a href=\"mailto:webtransfers@ilo.org\">webmaster</a>.']\n",
      "[]\n",
      "['</p>']\n",
      "[]\n",
      "['<h2>Error 404</h2>']\n",
      "['<address>']\n",
      "['  <a href=\"/\">blue.ilo.ch</a><br />']\n",
      "['  ']\n",
      "['  <span>Tue Aug 13 22:12:58 2019<br />']\n",
      "['  Apache/2.2.12 (Linux/SUSE)</span>']\n",
      "['</address>']\n",
      "['</body>']\n",
      "['</html>']\n",
      "[]\n"
     ]
    }
   ],
   "source": [
    "import csv\n",
    "import requests\n",
    "\n",
    "with requests.Session() as s:\n",
    "    download = s.get(url)\n",
    "\n",
    "    decoded_content = download.content.decode('utf-8')\n",
    "\n",
    "    cr = csv.reader(decoded_content.splitlines(), delimiter=',')\n",
    "    my_list = list(cr)\n",
    "    for row in my_list:\n",
    "        print(row)"
   ]
  },
  {
   "cell_type": "markdown",
   "metadata": {},
   "source": [
    "#### Download csv to disk"
   ]
  },
  {
   "cell_type": "code",
   "execution_count": 4,
   "metadata": {},
   "outputs": [
    {
     "data": {
      "text/plain": [
       "1032"
      ]
     },
     "execution_count": 4,
     "metadata": {},
     "output_type": "execute_result"
    }
   ],
   "source": [
    "# creating HTTP response object from given url \n",
    "resp = requests.get(url) \n",
    "\n",
    "resp\n",
    "\n",
    "# saving the into an csv file \n",
    "with open('test2.csv', 'wb') as f: \n",
    "    f.write(resp.content) "
   ]
  },
  {
   "cell_type": "markdown",
   "metadata": {},
   "source": [
    "### Open xml file using `xmltodict.parse`\n",
    "This will create an object consisting of various nested ordered dictionaries. Every node of the XML tree is an ordered dictionary of key-value pairs. The root of the XML tree is an ordered dictionary itself."
   ]
  },
  {
   "cell_type": "code",
   "execution_count": null,
   "metadata": {},
   "outputs": [],
   "source": [
    "xmlFile = 'test.xml'\n",
    "\n",
    "with open(xmlFile, encoding=\"utf-8\") as fd:\n",
    "    doc = xmltodict.parse(fd.read())\n"
   ]
  },
  {
   "cell_type": "code",
   "execution_count": null,
   "metadata": {},
   "outputs": [],
   "source": [
    "doc.keys()"
   ]
  },
  {
   "cell_type": "markdown",
   "metadata": {},
   "source": [
    "### Drill down to level 3, which contains the actual code list"
   ]
  },
  {
   "cell_type": "code",
   "execution_count": null,
   "metadata": {},
   "outputs": [],
   "source": [
    "print('---Root:')\n",
    "len(doc)\n",
    "rootKey = list(doc.keys())[0]\n",
    "rootKey\n",
    "\n",
    "print('---Level 1:')\n",
    "level1 = doc[rootKey]\n",
    "len(level1)\n",
    "level1Keys = list(level1.keys())\n",
    "level1Keys\n",
    "\n",
    "print('---Level 2 / message:DataSet')\n",
    "level2 = level1['message:DataSet']\n",
    "len(level2)\n",
    "level2Keys = list(level2.keys())\n",
    "level2Keys\n",
    "\n",
    "print('---Level 3 / generic:Series')\n",
    "level3 = level2['generic:Series']\n",
    "len(level3)\n",
    "\n",
    "level3[2]\n"
   ]
  },
  {
   "cell_type": "markdown",
   "metadata": {},
   "source": [
    "### Collect the concept scheme information in a dictionary"
   ]
  },
  {
   "cell_type": "code",
   "execution_count": null,
   "metadata": {},
   "outputs": [],
   "source": [
    "records = []\n",
    "\n",
    "for r in level3:\n",
    "\n",
    "    observations = r['generic:Obs']\n",
    "  \n",
    "\n",
    "    if isinstance(observations, list):\n",
    "        for o in observations:\n",
    "            record = {}\n",
    "\n",
    "            seriesKey = r['generic:SeriesKey']\n",
    "\n",
    "            for k in seriesKey['generic:Value']:\n",
    "                record[k['@concept']] = k['@value']\n",
    "                \n",
    "            record['year'] = o['generic:Time']\n",
    "            record['value'] = o['generic:ObsValue']['@value']\n",
    "            for a in o['generic:Attributes']['generic:Value']:\n",
    "                record[a['@concept']] = a['@value']\n",
    "            \n",
    "            records.append(record)\n",
    "    else:\n",
    "        record = {}\n",
    "\n",
    "        seriesKey = r['generic:SeriesKey']\n",
    "\n",
    "        for k in seriesKey['generic:Value']:\n",
    "            record[k['@concept']] = k['@value']\n",
    "\n",
    "        record['year'] = observations['generic:Time']\n",
    "        record['value'] =observations['generic:ObsValue']['@value']\n",
    "        for a in observations['generic:Attributes']['generic:Value']:\n",
    "            record[a['@concept']] = a['@value']\n",
    "            \n",
    "        records.append(record)\n",
    "        \n",
    "records[0:10]\n",
    "\n",
    "\n",
    "        \n",
    "    "
   ]
  },
  {
   "cell_type": "code",
   "execution_count": null,
   "metadata": {},
   "outputs": [],
   "source": []
  },
  {
   "cell_type": "code",
   "execution_count": null,
   "metadata": {},
   "outputs": [],
   "source": [
    "records = []\n",
    "\n",
    "for r in level3:\n",
    "    record = {}\n",
    "\n",
    "    seriesKey = r['generic:SeriesKey']\n",
    "    dataFlow['id'] = df['@id']\n",
    "    dataFlow['urn'] = df['@urn']\n",
    "    dataFlow['version'] = df['@version']\n",
    "    dataFlow['isFinal'] = df['@isFinal']\n",
    "    \n",
    "    dataFlow['nameEN'] = None\n",
    "    dataFlow['nameES'] = None\n",
    "    dataFlow['nameFR'] = None\n",
    "\n",
    "    dataFlowName = df['str:Name']\n",
    "\n",
    "    if isinstance(dataFlowName, list):\n",
    "        for x in dataFlowName:\n",
    "            if x['@xml:lang'] == 'en':\n",
    "                dataFlow['nameEN'] = x['#text']\n",
    "            if x['@xml:lang'] == 'es':\n",
    "                dataFlow['nameES'] = x['#text']\n",
    "            if x['@xml:lang'] == 'fr':\n",
    "                dataFlow['nameFR'] = x['#text']\n",
    "    else:\n",
    "        if dataFlowName['@xml:lang'] == 'en':\n",
    "            dataFlow['nameEN'] = dataFlowName['#text']\n",
    "        if dataFlowName['@xml:lang'] == 'es':\n",
    "            dataFlow['nameES'] = dataFlowName['#text']\n",
    "        if dataFlowName['@xml:lang'] == 'fr':\n",
    "            dataFlow['nameFR'] = dataFlowName['#text']\n",
    "            \n",
    "    \n",
    "    \n",
    "    dataFlow['descriptionEN'] = None\n",
    "    dataFlow['descriptionES'] = None\n",
    "    dataFlow['descriptionFR'] = None\n",
    "            \n",
    "    if 'str:Description' in df.keys():\n",
    "        dataFlowDescription = df['str:Description']\n",
    "\n",
    "        if isinstance(dataFlowDescription, list):\n",
    "            for x in dataFlowDescription:\n",
    "                if x['@xml:lang'] == 'en':\n",
    "                    dataFlow['descriptionEN'] = x['#text']\n",
    "                if x['@xml:lang'] == 'es':\n",
    "                    dataFlow['descriptionES'] = x['#text']\n",
    "                if x['@xml:lang'] == 'fr':\n",
    "                    dataFlow['descriptionFR'] = x['#text']\n",
    "        else:\n",
    "            if dataFlowDescription['@xml:lang'] == 'en':\n",
    "                dataFlow['descriptionEN'] = dataFlowDescription['#text']\n",
    "            if dataFlowDescription['@xml:lang'] == 'es':\n",
    "                dataFlow['descriptionES'] = dataFlowDescription['#text']\n",
    "            if dataFlowDescription['@xml:lang'] == 'fr':\n",
    "                dataFlow['descriptionFR'] = dataFlowDescription['#text']\n",
    "   \n",
    "    \n",
    "    keyFamilyRef = df['str:KeyFamilyRef'] \n",
    "    \n",
    "    dataFlow['keyFamilyID'] = keyFamilyRef['str:KeyFamilyID']\n",
    "    dataFlow['keyFamilyAgencyID'] = keyFamilyRef['str:KeyFamilyAgencyID']\n",
    "    \n",
    "    \n",
    "    dataFlows.append(dataFlow)\n",
    "    \n",
    "dataFlows\n",
    "    "
   ]
  },
  {
   "cell_type": "code",
   "execution_count": null,
   "metadata": {},
   "outputs": [],
   "source": []
  }
 ],
 "metadata": {
  "kernelspec": {
   "display_name": "Python 3",
   "language": "python",
   "name": "python3"
  },
  "language_info": {
   "codemirror_mode": {
    "name": "ipython",
    "version": 3
   },
   "file_extension": ".py",
   "mimetype": "text/x-python",
   "name": "python",
   "nbconvert_exporter": "python",
   "pygments_lexer": "ipython3",
   "version": "3.6.8"
  }
 },
 "nbformat": 4,
 "nbformat_minor": 2
}
