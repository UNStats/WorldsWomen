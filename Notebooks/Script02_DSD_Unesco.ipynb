{
 "cells": [
  {
   "cell_type": "markdown",
   "metadata": {},
   "source": [
    "# Data from UNESCO\n",
    "\n",
    "Download csvs from ILO's SDMX API (ILOSTAT SDMX Gateway). "
   ]
  },
  {
   "cell_type": "markdown",
   "metadata": {},
   "source": [
    "### Load required libraries"
   ]
  },
  {
   "cell_type": "code",
   "execution_count": 1,
   "metadata": {},
   "outputs": [],
   "source": [
    "import json\n",
    "import requests \n",
    "import os\n",
    "from bs4 import BeautifulSoup\n",
    "import re\n",
    "import pandas as pd"
   ]
  },
  {
   "cell_type": "markdown",
   "metadata": {},
   "source": [
    "### Create folder for data"
   ]
  },
  {
   "cell_type": "code",
   "execution_count": 2,
   "metadata": {},
   "outputs": [],
   "source": [
    "#os.mkdir('..\\\\data')"
   ]
  },
  {
   "cell_type": "markdown",
   "metadata": {},
   "source": [
    "### Use email (old indicators) and dictionary to create new indicators"
   ]
  },
  {
   "cell_type": "code",
   "execution_count": 4,
   "metadata": {},
   "outputs": [
    {
     "data": {
      "text/html": [
       "<div>\n",
       "<style scoped>\n",
       "    .dataframe tbody tr th:only-of-type {\n",
       "        vertical-align: middle;\n",
       "    }\n",
       "\n",
       "    .dataframe tbody tr th {\n",
       "        vertical-align: top;\n",
       "    }\n",
       "\n",
       "    .dataframe thead th {\n",
       "        text-align: right;\n",
       "    }\n",
       "</style>\n",
       "<table border=\"1\" class=\"dataframe\">\n",
       "  <thead>\n",
       "    <tr style=\"text-align: right;\">\n",
       "      <th></th>\n",
       "      <th>GSMI</th>\n",
       "      <th>Indicator</th>\n",
       "      <th>Disaggregation</th>\n",
       "      <th>Old_Code</th>\n",
       "      <th>New_Code</th>\n",
       "    </tr>\n",
       "  </thead>\n",
       "  <tbody>\n",
       "    <tr>\n",
       "      <th>0</th>\n",
       "      <td>20</td>\n",
       "      <td>20. Youth literacy rate of persons (15-24 year...</td>\n",
       "      <td>Both_sexes</td>\n",
       "      <td>LR.Ag15t24</td>\n",
       "      <td>UNESCO,EDU_NON_FINANCE,3.0/LR.PT._Z._Z._T.Y15T...</td>\n",
       "    </tr>\n",
       "    <tr>\n",
       "      <th>1</th>\n",
       "      <td>20</td>\n",
       "      <td>20. Youth literacy rate of persons (15-24 year...</td>\n",
       "      <td>Female</td>\n",
       "      <td>LR.Ag15t24.F</td>\n",
       "      <td>UNESCO,EDU_NON_FINANCE,3.0/LR.PT._Z._Z.F.Y15T2...</td>\n",
       "    </tr>\n",
       "    <tr>\n",
       "      <th>2</th>\n",
       "      <td>20</td>\n",
       "      <td>20. Youth literacy rate of persons (15-24 year...</td>\n",
       "      <td>Male</td>\n",
       "      <td>LR.Ag15t24.M</td>\n",
       "      <td>UNESCO,EDU_NON_FINANCE,3.0/LR.PT._Z._Z.M.Y15T2...</td>\n",
       "    </tr>\n",
       "    <tr>\n",
       "      <th>3</th>\n",
       "      <td>20</td>\n",
       "      <td>20. Youth literacy rate of persons (15-24 year...</td>\n",
       "      <td>GPI</td>\n",
       "      <td>LR.Ag15t24.gpi</td>\n",
       "      <td>UNESCO,EDU_NON_FINANCE,3.0/LR.GPI._Z._Z._T.Y15...</td>\n",
       "    </tr>\n",
       "    <tr>\n",
       "      <th>4</th>\n",
       "      <td>21</td>\n",
       "      <td>21. Adjusted net enrolment rate in primary edu...</td>\n",
       "      <td>Both_sexes</td>\n",
       "      <td>NERA.1.cp</td>\n",
       "      <td>UNESCO,EDU_NON_FINANCE,3.0/NERA.PT.L1._T._T.SC...</td>\n",
       "    </tr>\n",
       "    <tr>\n",
       "      <th>5</th>\n",
       "      <td>21</td>\n",
       "      <td>21. Adjusted net enrolment rate in primary edu...</td>\n",
       "      <td>Female</td>\n",
       "      <td>NERA.1.F.cp</td>\n",
       "      <td>UNESCO,EDU_NON_FINANCE,3.0/NERA.PT.L1._T.F.SCH...</td>\n",
       "    </tr>\n",
       "    <tr>\n",
       "      <th>6</th>\n",
       "      <td>21</td>\n",
       "      <td>21. Adjusted net enrolment rate in primary edu...</td>\n",
       "      <td>Male</td>\n",
       "      <td>NERA.1.M.cp</td>\n",
       "      <td>UNESCO,EDU_NON_FINANCE,3.0/NERA.PT.L1._T.M.SCH...</td>\n",
       "    </tr>\n",
       "    <tr>\n",
       "      <th>7</th>\n",
       "      <td>21</td>\n",
       "      <td>21. Adjusted net enrolment rate in primary edu...</td>\n",
       "      <td>GPI</td>\n",
       "      <td>NERA.1.gpi</td>\n",
       "      <td>UNESCO,EDU_NON_FINANCE,3.0/NERA.GPI.L1._T._T.S...</td>\n",
       "    </tr>\n",
       "    <tr>\n",
       "      <th>8</th>\n",
       "      <td>22</td>\n",
       "      <td>22.Gross enrolment ratio in secondary educatio...</td>\n",
       "      <td>Both_sexes</td>\n",
       "      <td>GER.2t3</td>\n",
       "      <td>UNESCO,EDU_NON_FINANCE,3.0/GER.PT.L2_3._T._T.S...</td>\n",
       "    </tr>\n",
       "    <tr>\n",
       "      <th>9</th>\n",
       "      <td>22</td>\n",
       "      <td>22.Gross enrolment ratio in secondary educatio...</td>\n",
       "      <td>Female</td>\n",
       "      <td>GER.2t3.F</td>\n",
       "      <td>UNESCO,EDU_NON_FINANCE,3.0/GER.PT.L2_3._T.F.SC...</td>\n",
       "    </tr>\n",
       "    <tr>\n",
       "      <th>10</th>\n",
       "      <td>22</td>\n",
       "      <td>22.Gross enrolment ratio in secondary educatio...</td>\n",
       "      <td>Male</td>\n",
       "      <td>GER.2t3.M</td>\n",
       "      <td>UNESCO,EDU_NON_FINANCE,3.0/GER.PT.L2_3._T.M.SC...</td>\n",
       "    </tr>\n",
       "    <tr>\n",
       "      <th>11</th>\n",
       "      <td>23</td>\n",
       "      <td>23. Gross enrolment ratio in tertiary educatio...</td>\n",
       "      <td>Both_sexes</td>\n",
       "      <td>GER.5t8</td>\n",
       "      <td>UNESCO,EDU_NON_FINANCE,3.0/GER.PT.L5T8._T._T.S...</td>\n",
       "    </tr>\n",
       "    <tr>\n",
       "      <th>12</th>\n",
       "      <td>23</td>\n",
       "      <td>23. Gross enrolment ratio in tertiary educatio...</td>\n",
       "      <td>Female</td>\n",
       "      <td>GER.5t8.F</td>\n",
       "      <td>UNESCO,EDU_NON_FINANCE,3.0/GER.PT.L5T8._T.F.SC...</td>\n",
       "    </tr>\n",
       "    <tr>\n",
       "      <th>13</th>\n",
       "      <td>23</td>\n",
       "      <td>23. Gross enrolment ratio in tertiary educatio...</td>\n",
       "      <td>Male</td>\n",
       "      <td>GER.5t8.M</td>\n",
       "      <td>UNESCO,EDU_NON_FINANCE,3.0/GER.PT.L5T8._T.M.SC...</td>\n",
       "    </tr>\n",
       "    <tr>\n",
       "      <th>14</th>\n",
       "      <td>24a</td>\n",
       "      <td>24a. Gender parity index of the gross enrolmen...</td>\n",
       "      <td>GPI</td>\n",
       "      <td>GER.1.gpi</td>\n",
       "      <td>UNESCO,EDU_NON_FINANCE,3.0/GER.GPI.L1._T._T.SC...</td>\n",
       "    </tr>\n",
       "    <tr>\n",
       "      <th>15</th>\n",
       "      <td>24b</td>\n",
       "      <td>24b. Gender parity index of the gross enrolmen...</td>\n",
       "      <td>GPI</td>\n",
       "      <td>GER.2t3.gpi</td>\n",
       "      <td>UNESCO,EDU_NON_FINANCE,3.0/GER.GPI.L2_3._T._T....</td>\n",
       "    </tr>\n",
       "    <tr>\n",
       "      <th>16</th>\n",
       "      <td>24c</td>\n",
       "      <td>24c. Gender parity index of the gross enrolmen...</td>\n",
       "      <td>GPI</td>\n",
       "      <td>GER.5t8.gpi</td>\n",
       "      <td>UNESCO,EDU_NON_FINANCE,3.0/GER.GPI.L5T8._T._T....</td>\n",
       "    </tr>\n",
       "    <tr>\n",
       "      <th>17</th>\n",
       "      <td>25</td>\n",
       "      <td>25.Share of female science, technology , engin...</td>\n",
       "      <td>Female</td>\n",
       "      <td>FGP.5T8.F500600700</td>\n",
       "      <td>UNESCO,EDU_NON_FINANCE,3.0/FGP.PT.L5T8._T.F._T...</td>\n",
       "    </tr>\n",
       "    <tr>\n",
       "      <th>18</th>\n",
       "      <td>26</td>\n",
       "      <td>26.Proportion of females among tertiary educat...</td>\n",
       "      <td>GPI</td>\n",
       "      <td>FTP.5t8</td>\n",
       "      <td>UNESCO,EDU_NON_FINANCE,3.0/FTP.PT.L5T8._T.F._T...</td>\n",
       "    </tr>\n",
       "    <tr>\n",
       "      <th>19</th>\n",
       "      <td>27</td>\n",
       "      <td>27. Adjusted net intake rate to the first grad...</td>\n",
       "      <td>Both_sexes</td>\n",
       "      <td>NIRA.1.cp</td>\n",
       "      <td>UNESCO,EDU_NON_FINANCE,3.0/NIRA.PT.L1._T._T.TH...</td>\n",
       "    </tr>\n",
       "    <tr>\n",
       "      <th>20</th>\n",
       "      <td>27</td>\n",
       "      <td>27. Adjusted net intake rate to the first grad...</td>\n",
       "      <td>Female</td>\n",
       "      <td>NIRA.1.F.cp</td>\n",
       "      <td>UNESCO,EDU_NON_FINANCE,3.0/NIRA.PT.L1._T.F.TH_...</td>\n",
       "    </tr>\n",
       "    <tr>\n",
       "      <th>21</th>\n",
       "      <td>27</td>\n",
       "      <td>27. Adjusted net intake rate to the first grad...</td>\n",
       "      <td>Male</td>\n",
       "      <td>NIRA.1.M.cp</td>\n",
       "      <td>UNESCO,EDU_NON_FINANCE,3.0/NIRA.PT.L1._T.M.TH_...</td>\n",
       "    </tr>\n",
       "    <tr>\n",
       "      <th>22</th>\n",
       "      <td>27</td>\n",
       "      <td>27. Adjusted net intake rate to the first grad...</td>\n",
       "      <td>GPI</td>\n",
       "      <td>NIRA.1.gpi</td>\n",
       "      <td>UNESCO,EDU_NON_FINANCE,3.0/NIRA.GPI.L1._T._T.T...</td>\n",
       "    </tr>\n",
       "    <tr>\n",
       "      <th>23</th>\n",
       "      <td>28</td>\n",
       "      <td>28. Primary education completion rate (proxy),...</td>\n",
       "      <td>Both_sexes</td>\n",
       "      <td>AIR.1.Glast</td>\n",
       "      <td>UNESCO,EDU_NON_FINANCE,3.0/AIR.PT.L1._T._T._T....</td>\n",
       "    </tr>\n",
       "    <tr>\n",
       "      <th>24</th>\n",
       "      <td>28</td>\n",
       "      <td>28. Primary education completion rate (proxy),...</td>\n",
       "      <td>Female</td>\n",
       "      <td>AIR.1.Glast.F</td>\n",
       "      <td>UNESCO,EDU_NON_FINANCE,3.0/AIR.PT.L1._T.F._T.G...</td>\n",
       "    </tr>\n",
       "    <tr>\n",
       "      <th>25</th>\n",
       "      <td>28</td>\n",
       "      <td>28. Primary education completion rate (proxy),...</td>\n",
       "      <td>Male</td>\n",
       "      <td>AIR.1.Glast.M</td>\n",
       "      <td>UNESCO,EDU_NON_FINANCE,3.0/AIR.PT.L1._T.M._T.G...</td>\n",
       "    </tr>\n",
       "    <tr>\n",
       "      <th>26</th>\n",
       "      <td>28</td>\n",
       "      <td>28. Primary education completion rate (proxy),...</td>\n",
       "      <td>GPI</td>\n",
       "      <td>AIR.1.Glast.gpi</td>\n",
       "      <td>UNESCO,EDU_NON_FINANCE,3.0/AIR.GPI.L1._T._T._T...</td>\n",
       "    </tr>\n",
       "    <tr>\n",
       "      <th>27</th>\n",
       "      <td>29</td>\n",
       "      <td>29. Gross graduation ratio from lower secondar...</td>\n",
       "      <td>Both_sexes</td>\n",
       "      <td>GGR.2</td>\n",
       "      <td>UNESCO,EDU_NON_FINANCE,3.0/GGR.PT.L2._T._T._T....</td>\n",
       "    </tr>\n",
       "    <tr>\n",
       "      <th>28</th>\n",
       "      <td>29</td>\n",
       "      <td>29. Gross graduation ratio from lower secondar...</td>\n",
       "      <td>Female</td>\n",
       "      <td>GGR.2.F</td>\n",
       "      <td>UNESCO,EDU_NON_FINANCE,3.0/GGR.PT.L2._T.F._T.G...</td>\n",
       "    </tr>\n",
       "    <tr>\n",
       "      <th>29</th>\n",
       "      <td>29</td>\n",
       "      <td>29. Gross graduation ratio from lower secondar...</td>\n",
       "      <td>Male</td>\n",
       "      <td>GGR.2.M</td>\n",
       "      <td>UNESCO,EDU_NON_FINANCE,3.0/GGR.PT.L2._T.M._T.G...</td>\n",
       "    </tr>\n",
       "    <tr>\n",
       "      <th>30</th>\n",
       "      <td>29</td>\n",
       "      <td>29. Gross graduation ratio from lower secondar...</td>\n",
       "      <td>GPI</td>\n",
       "      <td>GGR.2.gpi</td>\n",
       "      <td>UNESCO,EDU_NON_FINANCE,3.0/GGR.GPI.L2._T._T._T...</td>\n",
       "    </tr>\n",
       "    <tr>\n",
       "      <th>31</th>\n",
       "      <td>30</td>\n",
       "      <td>30. Effective transition rate from primary to ...</td>\n",
       "      <td>Both_sexes</td>\n",
       "      <td>TRANRA.2.GPV.CP</td>\n",
       "      <td>UNESCO,EDU_NON_FINANCE,3.0/TRANRA.PT.L2.C4._T....</td>\n",
       "    </tr>\n",
       "    <tr>\n",
       "      <th>32</th>\n",
       "      <td>30</td>\n",
       "      <td>30. Effective transition rate from primary to ...</td>\n",
       "      <td>Female</td>\n",
       "      <td>TRANRA.2.GPV.F.CP</td>\n",
       "      <td>UNESCO,EDU_NON_FINANCE,3.0/TRANRA.PT.L2.C4.F._...</td>\n",
       "    </tr>\n",
       "    <tr>\n",
       "      <th>33</th>\n",
       "      <td>30</td>\n",
       "      <td>30. Effective transition rate from primary to ...</td>\n",
       "      <td>Male</td>\n",
       "      <td>TRANRA.2.GPV.M.CP</td>\n",
       "      <td>UNESCO,EDU_NON_FINANCE,3.0/TRANRA.PT.L2.C4.M._...</td>\n",
       "    </tr>\n",
       "    <tr>\n",
       "      <th>34</th>\n",
       "      <td>30</td>\n",
       "      <td>30. Effective transition rate from primary to ...</td>\n",
       "      <td>GPI</td>\n",
       "      <td>TRANRA.2.GPV.GPI</td>\n",
       "      <td>UNESCO,EDU_NON_FINANCE,3.0/TRANRA.GPI.L2.C4._T...</td>\n",
       "    </tr>\n",
       "    <tr>\n",
       "      <th>35</th>\n",
       "      <td>31a</td>\n",
       "      <td>31a. Cumulative Educational attainment (minimu...</td>\n",
       "      <td>Both_sexes</td>\n",
       "      <td>EA.1t8.AG25t99</td>\n",
       "      <td>UNESCO,EDU_NON_FINANCE,3.0/EA.PT._Z._Z._T.Y_GE...</td>\n",
       "    </tr>\n",
       "    <tr>\n",
       "      <th>36</th>\n",
       "      <td>31a</td>\n",
       "      <td>31a. Cumulative Educational attainment (minimu...</td>\n",
       "      <td>Female</td>\n",
       "      <td>EA.1t8.AG25t99.F</td>\n",
       "      <td>UNESCO,EDU_NON_FINANCE,3.0/EA.PT._Z._Z.F.Y_GE2...</td>\n",
       "    </tr>\n",
       "    <tr>\n",
       "      <th>37</th>\n",
       "      <td>31a</td>\n",
       "      <td>31a. Cumulative Educational attainment (minimu...</td>\n",
       "      <td>Male</td>\n",
       "      <td>EA.1t8.AG25t99.M</td>\n",
       "      <td>UNESCO,EDU_NON_FINANCE,3.0/EA.PT._Z._Z.M.Y_GE2...</td>\n",
       "    </tr>\n",
       "    <tr>\n",
       "      <th>38</th>\n",
       "      <td>31a</td>\n",
       "      <td>31a. Cumulative Educational attainment (minimu...</td>\n",
       "      <td>GPI</td>\n",
       "      <td>EA.1t8.AG25t99.gpi</td>\n",
       "      <td>UNESCO,EDU_NON_FINANCE,3.0/EA.GPI._Z._Z._T.Y_G...</td>\n",
       "    </tr>\n",
       "    <tr>\n",
       "      <th>39</th>\n",
       "      <td>31b</td>\n",
       "      <td>31b. Cumulative Educational attainment (minimu...</td>\n",
       "      <td>Both_sexes</td>\n",
       "      <td>EA.2t8.AG25t99</td>\n",
       "      <td>UNESCO,EDU_NON_FINANCE,3.0/EA.PT._Z._Z._T.Y_GE...</td>\n",
       "    </tr>\n",
       "    <tr>\n",
       "      <th>40</th>\n",
       "      <td>31b</td>\n",
       "      <td>31b. Cumulative Educational attainment (minimu...</td>\n",
       "      <td>Female</td>\n",
       "      <td>EA.2t8.AG25t99.F</td>\n",
       "      <td>UNESCO,EDU_NON_FINANCE,3.0/EA.PT._Z._Z.F.Y_GE2...</td>\n",
       "    </tr>\n",
       "    <tr>\n",
       "      <th>41</th>\n",
       "      <td>31b</td>\n",
       "      <td>31b. Cumulative Educational attainment (minimu...</td>\n",
       "      <td>Male</td>\n",
       "      <td>EA.2t8.AG25t99.M</td>\n",
       "      <td>UNESCO,EDU_NON_FINANCE,3.0/EA.PT._Z._Z.M.Y_GE2...</td>\n",
       "    </tr>\n",
       "    <tr>\n",
       "      <th>42</th>\n",
       "      <td>31b</td>\n",
       "      <td>31b. Cumulative Educational attainment (minimu...</td>\n",
       "      <td>GPI</td>\n",
       "      <td>EA.2t8.AG25t99.gpi</td>\n",
       "      <td>UNESCO,EDU_NON_FINANCE,3.0/EA.GPI._Z._Z._T.Y_G...</td>\n",
       "    </tr>\n",
       "    <tr>\n",
       "      <th>43</th>\n",
       "      <td>31c</td>\n",
       "      <td>31c. Cumulative Educational attainment (minimu...</td>\n",
       "      <td>Both_sexes</td>\n",
       "      <td>EA.3t8.AG25t99</td>\n",
       "      <td>UNESCO,EDU_NON_FINANCE,3.0/EA.PT._Z._Z._T.Y_GE...</td>\n",
       "    </tr>\n",
       "    <tr>\n",
       "      <th>44</th>\n",
       "      <td>31c</td>\n",
       "      <td>31c. Cumulative Educational attainment (minimu...</td>\n",
       "      <td>Female</td>\n",
       "      <td>EA.3t8.AG25t99.F</td>\n",
       "      <td>UNESCO,EDU_NON_FINANCE,3.0/EA.PT._Z._Z.F.Y_GE2...</td>\n",
       "    </tr>\n",
       "    <tr>\n",
       "      <th>45</th>\n",
       "      <td>31c</td>\n",
       "      <td>31c. Cumulative Educational attainment (minimu...</td>\n",
       "      <td>Male</td>\n",
       "      <td>EA.3t8.AG25t99.M</td>\n",
       "      <td>UNESCO,EDU_NON_FINANCE,3.0/EA.PT._Z._Z.M.Y_GE2...</td>\n",
       "    </tr>\n",
       "    <tr>\n",
       "      <th>46</th>\n",
       "      <td>31c</td>\n",
       "      <td>31c. Cumulative Educational attainment (minimu...</td>\n",
       "      <td>GPI</td>\n",
       "      <td>EA.3t8.AG25t99.gpi</td>\n",
       "      <td>UNESCO,EDU_NON_FINANCE,3.0/EA.GPI._Z._Z._T.Y_G...</td>\n",
       "    </tr>\n",
       "    <tr>\n",
       "      <th>47</th>\n",
       "      <td>31d</td>\n",
       "      <td>31d. Cumulative Educational attainment (minimu...</td>\n",
       "      <td>Both_sexes</td>\n",
       "      <td>EA.4t8.AG25t99</td>\n",
       "      <td>UNESCO,EDU_NON_FINANCE,3.0/EA.PT._Z._Z._T.Y_GE...</td>\n",
       "    </tr>\n",
       "    <tr>\n",
       "      <th>48</th>\n",
       "      <td>31d</td>\n",
       "      <td>31d. Cumulative Educational attainment (minimu...</td>\n",
       "      <td>Female</td>\n",
       "      <td>EA.4t8.AG25t99.F</td>\n",
       "      <td>UNESCO,EDU_NON_FINANCE,3.0/EA.PT._Z._Z.F.Y_GE2...</td>\n",
       "    </tr>\n",
       "    <tr>\n",
       "      <th>49</th>\n",
       "      <td>31d</td>\n",
       "      <td>31d. Cumulative Educational attainment (minimu...</td>\n",
       "      <td>Male</td>\n",
       "      <td>EA.4t8.AG25t99.M</td>\n",
       "      <td>UNESCO,EDU_NON_FINANCE,3.0/EA.PT._Z._Z.M.Y_GE2...</td>\n",
       "    </tr>\n",
       "    <tr>\n",
       "      <th>50</th>\n",
       "      <td>31d</td>\n",
       "      <td>31d. Cumulative Educational attainment (minimu...</td>\n",
       "      <td>GPI</td>\n",
       "      <td>EA.4t8.AG25t99.gpi</td>\n",
       "      <td>UNESCO,EDU_NON_FINANCE,3.0/EA.GPI._Z._Z._T.Y_G...</td>\n",
       "    </tr>\n",
       "    <tr>\n",
       "      <th>51</th>\n",
       "      <td>31e</td>\n",
       "      <td>31e. Cumulative Educational attainment (minimu...</td>\n",
       "      <td>Both_sexes</td>\n",
       "      <td>EA.5t8.AG25t99</td>\n",
       "      <td>UNESCO,EDU_NON_FINANCE,3.0/EA.PT._Z._Z._T.Y_GE...</td>\n",
       "    </tr>\n",
       "    <tr>\n",
       "      <th>52</th>\n",
       "      <td>31e</td>\n",
       "      <td>31e. Cumulative Educational attainment (minimu...</td>\n",
       "      <td>Female</td>\n",
       "      <td>EA.5t8.AG25t99.F</td>\n",
       "      <td>UNESCO,EDU_NON_FINANCE,3.0/EA.PT._Z._Z.F.Y_GE2...</td>\n",
       "    </tr>\n",
       "    <tr>\n",
       "      <th>53</th>\n",
       "      <td>31e</td>\n",
       "      <td>31e. Cumulative Educational attainment (minimu...</td>\n",
       "      <td>Male</td>\n",
       "      <td>EA.5t8.AG25t99.M</td>\n",
       "      <td>UNESCO,EDU_NON_FINANCE,3.0/EA.PT._Z._Z.M.Y_GE2...</td>\n",
       "    </tr>\n",
       "    <tr>\n",
       "      <th>54</th>\n",
       "      <td>31e</td>\n",
       "      <td>31e. Cumulative Educational attainment (minimu...</td>\n",
       "      <td>GPI</td>\n",
       "      <td>EA.5t8.AG25t99.gpi</td>\n",
       "      <td>UNESCO,EDU_NON_FINANCE,3.0/EA.GPI._Z._Z._T.Y_G...</td>\n",
       "    </tr>\n",
       "  </tbody>\n",
       "</table>\n",
       "</div>"
      ],
      "text/plain": [
       "   GSMI                                          Indicator Disaggregation  \\\n",
       "0    20  20. Youth literacy rate of persons (15-24 year...     Both_sexes   \n",
       "1    20  20. Youth literacy rate of persons (15-24 year...         Female   \n",
       "2    20  20. Youth literacy rate of persons (15-24 year...           Male   \n",
       "3    20  20. Youth literacy rate of persons (15-24 year...            GPI   \n",
       "4    21  21. Adjusted net enrolment rate in primary edu...     Both_sexes   \n",
       "5    21  21. Adjusted net enrolment rate in primary edu...         Female   \n",
       "6    21  21. Adjusted net enrolment rate in primary edu...           Male   \n",
       "7    21  21. Adjusted net enrolment rate in primary edu...            GPI   \n",
       "8    22  22.Gross enrolment ratio in secondary educatio...     Both_sexes   \n",
       "9    22  22.Gross enrolment ratio in secondary educatio...         Female   \n",
       "10   22  22.Gross enrolment ratio in secondary educatio...           Male   \n",
       "11   23  23. Gross enrolment ratio in tertiary educatio...     Both_sexes   \n",
       "12   23  23. Gross enrolment ratio in tertiary educatio...         Female   \n",
       "13   23  23. Gross enrolment ratio in tertiary educatio...           Male   \n",
       "14  24a  24a. Gender parity index of the gross enrolmen...            GPI   \n",
       "15  24b  24b. Gender parity index of the gross enrolmen...            GPI   \n",
       "16  24c  24c. Gender parity index of the gross enrolmen...            GPI   \n",
       "17   25  25.Share of female science, technology , engin...         Female   \n",
       "18   26  26.Proportion of females among tertiary educat...            GPI   \n",
       "19   27  27. Adjusted net intake rate to the first grad...     Both_sexes   \n",
       "20   27  27. Adjusted net intake rate to the first grad...         Female   \n",
       "21   27  27. Adjusted net intake rate to the first grad...           Male   \n",
       "22   27  27. Adjusted net intake rate to the first grad...            GPI   \n",
       "23   28  28. Primary education completion rate (proxy),...     Both_sexes   \n",
       "24   28  28. Primary education completion rate (proxy),...         Female   \n",
       "25   28  28. Primary education completion rate (proxy),...           Male   \n",
       "26   28  28. Primary education completion rate (proxy),...            GPI   \n",
       "27   29  29. Gross graduation ratio from lower secondar...     Both_sexes   \n",
       "28   29  29. Gross graduation ratio from lower secondar...         Female   \n",
       "29   29  29. Gross graduation ratio from lower secondar...           Male   \n",
       "30   29  29. Gross graduation ratio from lower secondar...            GPI   \n",
       "31   30  30. Effective transition rate from primary to ...     Both_sexes   \n",
       "32   30  30. Effective transition rate from primary to ...         Female   \n",
       "33   30  30. Effective transition rate from primary to ...           Male   \n",
       "34   30  30. Effective transition rate from primary to ...            GPI   \n",
       "35  31a  31a. Cumulative Educational attainment (minimu...     Both_sexes   \n",
       "36  31a  31a. Cumulative Educational attainment (minimu...         Female   \n",
       "37  31a  31a. Cumulative Educational attainment (minimu...           Male   \n",
       "38  31a  31a. Cumulative Educational attainment (minimu...            GPI   \n",
       "39  31b  31b. Cumulative Educational attainment (minimu...     Both_sexes   \n",
       "40  31b  31b. Cumulative Educational attainment (minimu...         Female   \n",
       "41  31b  31b. Cumulative Educational attainment (minimu...           Male   \n",
       "42  31b  31b. Cumulative Educational attainment (minimu...            GPI   \n",
       "43  31c  31c. Cumulative Educational attainment (minimu...     Both_sexes   \n",
       "44  31c  31c. Cumulative Educational attainment (minimu...         Female   \n",
       "45  31c  31c. Cumulative Educational attainment (minimu...           Male   \n",
       "46  31c  31c. Cumulative Educational attainment (minimu...            GPI   \n",
       "47  31d  31d. Cumulative Educational attainment (minimu...     Both_sexes   \n",
       "48  31d  31d. Cumulative Educational attainment (minimu...         Female   \n",
       "49  31d  31d. Cumulative Educational attainment (minimu...           Male   \n",
       "50  31d  31d. Cumulative Educational attainment (minimu...            GPI   \n",
       "51  31e  31e. Cumulative Educational attainment (minimu...     Both_sexes   \n",
       "52  31e  31e. Cumulative Educational attainment (minimu...         Female   \n",
       "53  31e  31e. Cumulative Educational attainment (minimu...           Male   \n",
       "54  31e  31e. Cumulative Educational attainment (minimu...            GPI   \n",
       "\n",
       "              Old_Code                                           New_Code  \n",
       "0           LR.Ag15t24  UNESCO,EDU_NON_FINANCE,3.0/LR.PT._Z._Z._T.Y15T...  \n",
       "1         LR.Ag15t24.F  UNESCO,EDU_NON_FINANCE,3.0/LR.PT._Z._Z.F.Y15T2...  \n",
       "2         LR.Ag15t24.M  UNESCO,EDU_NON_FINANCE,3.0/LR.PT._Z._Z.M.Y15T2...  \n",
       "3       LR.Ag15t24.gpi  UNESCO,EDU_NON_FINANCE,3.0/LR.GPI._Z._Z._T.Y15...  \n",
       "4            NERA.1.cp  UNESCO,EDU_NON_FINANCE,3.0/NERA.PT.L1._T._T.SC...  \n",
       "5          NERA.1.F.cp  UNESCO,EDU_NON_FINANCE,3.0/NERA.PT.L1._T.F.SCH...  \n",
       "6          NERA.1.M.cp  UNESCO,EDU_NON_FINANCE,3.0/NERA.PT.L1._T.M.SCH...  \n",
       "7           NERA.1.gpi  UNESCO,EDU_NON_FINANCE,3.0/NERA.GPI.L1._T._T.S...  \n",
       "8              GER.2t3  UNESCO,EDU_NON_FINANCE,3.0/GER.PT.L2_3._T._T.S...  \n",
       "9            GER.2t3.F  UNESCO,EDU_NON_FINANCE,3.0/GER.PT.L2_3._T.F.SC...  \n",
       "10           GER.2t3.M  UNESCO,EDU_NON_FINANCE,3.0/GER.PT.L2_3._T.M.SC...  \n",
       "11             GER.5t8  UNESCO,EDU_NON_FINANCE,3.0/GER.PT.L5T8._T._T.S...  \n",
       "12           GER.5t8.F  UNESCO,EDU_NON_FINANCE,3.0/GER.PT.L5T8._T.F.SC...  \n",
       "13           GER.5t8.M  UNESCO,EDU_NON_FINANCE,3.0/GER.PT.L5T8._T.M.SC...  \n",
       "14           GER.1.gpi  UNESCO,EDU_NON_FINANCE,3.0/GER.GPI.L1._T._T.SC...  \n",
       "15         GER.2t3.gpi  UNESCO,EDU_NON_FINANCE,3.0/GER.GPI.L2_3._T._T....  \n",
       "16         GER.5t8.gpi  UNESCO,EDU_NON_FINANCE,3.0/GER.GPI.L5T8._T._T....  \n",
       "17  FGP.5T8.F500600700  UNESCO,EDU_NON_FINANCE,3.0/FGP.PT.L5T8._T.F._T...  \n",
       "18             FTP.5t8  UNESCO,EDU_NON_FINANCE,3.0/FTP.PT.L5T8._T.F._T...  \n",
       "19           NIRA.1.cp  UNESCO,EDU_NON_FINANCE,3.0/NIRA.PT.L1._T._T.TH...  \n",
       "20         NIRA.1.F.cp  UNESCO,EDU_NON_FINANCE,3.0/NIRA.PT.L1._T.F.TH_...  \n",
       "21         NIRA.1.M.cp  UNESCO,EDU_NON_FINANCE,3.0/NIRA.PT.L1._T.M.TH_...  \n",
       "22          NIRA.1.gpi  UNESCO,EDU_NON_FINANCE,3.0/NIRA.GPI.L1._T._T.T...  \n",
       "23         AIR.1.Glast  UNESCO,EDU_NON_FINANCE,3.0/AIR.PT.L1._T._T._T....  \n",
       "24       AIR.1.Glast.F  UNESCO,EDU_NON_FINANCE,3.0/AIR.PT.L1._T.F._T.G...  \n",
       "25       AIR.1.Glast.M  UNESCO,EDU_NON_FINANCE,3.0/AIR.PT.L1._T.M._T.G...  \n",
       "26     AIR.1.Glast.gpi  UNESCO,EDU_NON_FINANCE,3.0/AIR.GPI.L1._T._T._T...  \n",
       "27               GGR.2  UNESCO,EDU_NON_FINANCE,3.0/GGR.PT.L2._T._T._T....  \n",
       "28             GGR.2.F  UNESCO,EDU_NON_FINANCE,3.0/GGR.PT.L2._T.F._T.G...  \n",
       "29             GGR.2.M  UNESCO,EDU_NON_FINANCE,3.0/GGR.PT.L2._T.M._T.G...  \n",
       "30           GGR.2.gpi  UNESCO,EDU_NON_FINANCE,3.0/GGR.GPI.L2._T._T._T...  \n",
       "31     TRANRA.2.GPV.CP  UNESCO,EDU_NON_FINANCE,3.0/TRANRA.PT.L2.C4._T....  \n",
       "32   TRANRA.2.GPV.F.CP  UNESCO,EDU_NON_FINANCE,3.0/TRANRA.PT.L2.C4.F._...  \n",
       "33   TRANRA.2.GPV.M.CP  UNESCO,EDU_NON_FINANCE,3.0/TRANRA.PT.L2.C4.M._...  \n",
       "34    TRANRA.2.GPV.GPI  UNESCO,EDU_NON_FINANCE,3.0/TRANRA.GPI.L2.C4._T...  \n",
       "35      EA.1t8.AG25t99  UNESCO,EDU_NON_FINANCE,3.0/EA.PT._Z._Z._T.Y_GE...  \n",
       "36    EA.1t8.AG25t99.F  UNESCO,EDU_NON_FINANCE,3.0/EA.PT._Z._Z.F.Y_GE2...  \n",
       "37    EA.1t8.AG25t99.M  UNESCO,EDU_NON_FINANCE,3.0/EA.PT._Z._Z.M.Y_GE2...  \n",
       "38  EA.1t8.AG25t99.gpi  UNESCO,EDU_NON_FINANCE,3.0/EA.GPI._Z._Z._T.Y_G...  \n",
       "39      EA.2t8.AG25t99  UNESCO,EDU_NON_FINANCE,3.0/EA.PT._Z._Z._T.Y_GE...  \n",
       "40    EA.2t8.AG25t99.F  UNESCO,EDU_NON_FINANCE,3.0/EA.PT._Z._Z.F.Y_GE2...  \n",
       "41    EA.2t8.AG25t99.M  UNESCO,EDU_NON_FINANCE,3.0/EA.PT._Z._Z.M.Y_GE2...  \n",
       "42  EA.2t8.AG25t99.gpi  UNESCO,EDU_NON_FINANCE,3.0/EA.GPI._Z._Z._T.Y_G...  \n",
       "43      EA.3t8.AG25t99  UNESCO,EDU_NON_FINANCE,3.0/EA.PT._Z._Z._T.Y_GE...  \n",
       "44    EA.3t8.AG25t99.F  UNESCO,EDU_NON_FINANCE,3.0/EA.PT._Z._Z.F.Y_GE2...  \n",
       "45    EA.3t8.AG25t99.M  UNESCO,EDU_NON_FINANCE,3.0/EA.PT._Z._Z.M.Y_GE2...  \n",
       "46  EA.3t8.AG25t99.gpi  UNESCO,EDU_NON_FINANCE,3.0/EA.GPI._Z._Z._T.Y_G...  \n",
       "47      EA.4t8.AG25t99  UNESCO,EDU_NON_FINANCE,3.0/EA.PT._Z._Z._T.Y_GE...  \n",
       "48    EA.4t8.AG25t99.F  UNESCO,EDU_NON_FINANCE,3.0/EA.PT._Z._Z.F.Y_GE2...  \n",
       "49    EA.4t8.AG25t99.M  UNESCO,EDU_NON_FINANCE,3.0/EA.PT._Z._Z.M.Y_GE2...  \n",
       "50  EA.4t8.AG25t99.gpi  UNESCO,EDU_NON_FINANCE,3.0/EA.GPI._Z._Z._T.Y_G...  \n",
       "51      EA.5t8.AG25t99  UNESCO,EDU_NON_FINANCE,3.0/EA.PT._Z._Z._T.Y_GE...  \n",
       "52    EA.5t8.AG25t99.F  UNESCO,EDU_NON_FINANCE,3.0/EA.PT._Z._Z.F.Y_GE2...  \n",
       "53    EA.5t8.AG25t99.M  UNESCO,EDU_NON_FINANCE,3.0/EA.PT._Z._Z.M.Y_GE2...  \n",
       "54  EA.5t8.AG25t99.gpi  UNESCO,EDU_NON_FINANCE,3.0/EA.GPI._Z._Z._T.Y_G...  "
      ]
     },
     "execution_count": 4,
     "metadata": {},
     "output_type": "execute_result"
    }
   ],
   "source": [
    "df = pd.read_excel('..\\\\data\\\\UNESCO_UIS_indicators\\\\uis-data-dictionary-education-statistics.xlsx',\n",
    "                   sheet_name = 'Students and Teachers')\n",
    "idctr = pd.read_csv('..\\\\data\\\\UNESCO_UIS_indicators\\\\email.csv')\n",
    "idctr.Old_Code = [i.replace('_','.') for i in idctr.Old_Code]\n",
    "New_list = []\n",
    "for i in idctr.Old_Code:\n",
    "    a = 'UNESCO,EDU_NON_FINANCE,3.0/'\n",
    "    for s in df[df[\"Indicator ID\"].str.lower() == i.lower()].iloc[0,6:-2]:\n",
    "        a = a  + str(s) +'.'\n",
    "    New_list.append(a)\n",
    "idctr['New_Code'] = New_list\n",
    "idctr\n"
   ]
  },
  {
   "cell_type": "markdown",
   "metadata": {},
   "source": [
    "### Interactive shell"
   ]
  },
  {
   "cell_type": "code",
   "execution_count": 5,
   "metadata": {},
   "outputs": [],
   "source": [
    "# https://volderette.de/jupyter-notebook-tip-multiple-outputs/\n",
    "from IPython.core.interactiveshell import InteractiveShell\n",
    "InteractiveShell.ast_node_interactivity = \"all\""
   ]
  },
  {
   "cell_type": "code",
   "execution_count": 6,
   "metadata": {},
   "outputs": [],
   "source": [
    "############### put your api key here ####################\n",
    "key = 'eacdf60587ba47a092eaf020b4bd42f5'\n",
    "\n",
    "\n",
    "\n",
    "headers ={'Ocp-Apim-Subscription-key': key}"
   ]
  },
  {
   "cell_type": "markdown",
   "metadata": {},
   "source": [
    "### find countryCode through parsing CL_codelist"
   ]
  },
  {
   "cell_type": "code",
   "execution_count": 7,
   "metadata": {},
   "outputs": [
    {
     "data": {
      "text/plain": [
       "374"
      ]
     },
     "execution_count": 7,
     "metadata": {},
     "output_type": "execute_result"
    }
   ],
   "source": [
    "url = 'https://api.uis.unesco.org/sdmx/codelist/UNESCO/CL_AREA/latest?format=sdmx-compact-2.1' #contain 3-\n",
    "# creating HTTPS response object from given url \n",
    "resp = requests.get(url,headers = headers) \n",
    "\n",
    "soup = BeautifulSoup(resp.content)\n",
    "\n",
    "longlist = soup.find_all('str:code')\n",
    "\n",
    "countryCodes = [l for l in [l['id'] for l in longlist]]\n",
    "\n",
    "len(countryCodes) #234"
   ]
  },
  {
   "cell_type": "code",
   "execution_count": 8,
   "metadata": {},
   "outputs": [
    {
     "data": {
      "text/plain": [
       "374"
      ]
     },
     "execution_count": 8,
     "metadata": {},
     "output_type": "execute_result"
    }
   ],
   "source": [
    "len(countryCodes) "
   ]
  },
  {
   "cell_type": "markdown",
   "metadata": {},
   "source": [
    "### Get data from API endpoint and save as xml file on disk"
   ]
  },
  {
   "cell_type": "code",
   "execution_count": 9,
   "metadata": {},
   "outputs": [],
   "source": [
    "def buildUrl(indicatorCode):\n",
    "    baseURL = 'https://api.uis.unesco.org/sdmx/data/'\n",
    "    url = baseURL +  indicatorCode + '?startPeriod=2000&endPeriod=2018&format=csv&locale=en'  # \n",
    "    return url"
   ]
  },
  {
   "cell_type": "code",
   "execution_count": 10,
   "metadata": {},
   "outputs": [],
   "source": [
    "def getcsv (url, file):\n",
    "    # creating HTTP response object from given url \n",
    "    resp = requests.get(url, headers = headers) \n",
    "    file_loc = '..\\\\data\\\\UNESCO_UIS_indicators\\\\' + file\n",
    "    # saving the xml message into an xml file \n",
    "    with open(file_loc, 'wb') as f: \n",
    "        f.write(resp.content) \n",
    "    display('finished downloading ' + file)\n",
    "        "
   ]
  },
  {
   "cell_type": "code",
   "execution_count": 11,
   "metadata": {},
   "outputs": [
    {
     "data": {
      "text/plain": [
       "'finished downloading 20. Youth literacy rate of persons (15-24 years), by sex Both_sexes.csv'"
      ]
     },
     "metadata": {},
     "output_type": "display_data"
    },
    {
     "data": {
      "text/plain": [
       "'finished downloading 20. Youth literacy rate of persons (15-24 years), by sex Female.csv'"
      ]
     },
     "metadata": {},
     "output_type": "display_data"
    },
    {
     "data": {
      "text/plain": [
       "'finished downloading 20. Youth literacy rate of persons (15-24 years), by sex Male.csv'"
      ]
     },
     "metadata": {},
     "output_type": "display_data"
    },
    {
     "data": {
      "text/plain": [
       "'finished downloading 20. Youth literacy rate of persons (15-24 years), by sex GPI.csv'"
      ]
     },
     "metadata": {},
     "output_type": "display_data"
    },
    {
     "data": {
      "text/plain": [
       "'finished downloading 21. Adjusted net enrolment rate in primary education by sex Both_sexes.csv'"
      ]
     },
     "metadata": {},
     "output_type": "display_data"
    },
    {
     "data": {
      "text/plain": [
       "'finished downloading 21. Adjusted net enrolment rate in primary education by sex Female.csv'"
      ]
     },
     "metadata": {},
     "output_type": "display_data"
    },
    {
     "data": {
      "text/plain": [
       "'finished downloading 21. Adjusted net enrolment rate in primary education by sex Male.csv'"
      ]
     },
     "metadata": {},
     "output_type": "display_data"
    },
    {
     "data": {
      "text/plain": [
       "'finished downloading 21. Adjusted net enrolment rate in primary education by sex GPI.csv'"
      ]
     },
     "metadata": {},
     "output_type": "display_data"
    },
    {
     "data": {
      "text/plain": [
       "'finished downloading 22.Gross enrolment ratio in secondary education, by sex Both_sexes.csv'"
      ]
     },
     "metadata": {},
     "output_type": "display_data"
    },
    {
     "data": {
      "text/plain": [
       "'finished downloading 22.Gross enrolment ratio in secondary education, by sex Female.csv'"
      ]
     },
     "metadata": {},
     "output_type": "display_data"
    },
    {
     "data": {
      "text/plain": [
       "'finished downloading 22.Gross enrolment ratio in secondary education, by sex Male.csv'"
      ]
     },
     "metadata": {},
     "output_type": "display_data"
    },
    {
     "data": {
      "text/plain": [
       "'finished downloading 23. Gross enrolment ratio in tertiary education, by sex Both_sexes.csv'"
      ]
     },
     "metadata": {},
     "output_type": "display_data"
    },
    {
     "data": {
      "text/plain": [
       "'finished downloading 23. Gross enrolment ratio in tertiary education, by sex Female.csv'"
      ]
     },
     "metadata": {},
     "output_type": "display_data"
    },
    {
     "data": {
      "text/plain": [
       "'finished downloading 23. Gross enrolment ratio in tertiary education, by sex Male.csv'"
      ]
     },
     "metadata": {},
     "output_type": "display_data"
    },
    {
     "data": {
      "text/plain": [
       "'finished downloading 24a. Gender parity index of the gross enrolment ratio in primary education GPI.csv'"
      ]
     },
     "metadata": {},
     "output_type": "display_data"
    },
    {
     "data": {
      "text/plain": [
       "'finished downloading 24b. Gender parity index of the gross enrolment ratio in secondary education GPI.csv'"
      ]
     },
     "metadata": {},
     "output_type": "display_data"
    },
    {
     "data": {
      "text/plain": [
       "'finished downloading 24c. Gender parity index of the gross enrolment ratio in tertiary education GPI.csv'"
      ]
     },
     "metadata": {},
     "output_type": "display_data"
    },
    {
     "data": {
      "text/plain": [
       "'finished downloading 25.Share of female science, technology , engineering and mathematics graduates at tertiary level (old science, engineering, manufacturing and construction) Female.csv'"
      ]
     },
     "metadata": {},
     "output_type": "display_data"
    },
    {
     "data": {
      "text/plain": [
       "'finished downloading 26.Proportion of females among tertiary education teachers or professors GPI.csv'"
      ]
     },
     "metadata": {},
     "output_type": "display_data"
    },
    {
     "data": {
      "text/plain": [
       "'finished downloading 27. Adjusted net intake rate to the first grade of primary education, by sex Both_sexes.csv'"
      ]
     },
     "metadata": {},
     "output_type": "display_data"
    },
    {
     "data": {
      "text/plain": [
       "'finished downloading 27. Adjusted net intake rate to the first grade of primary education, by sex Female.csv'"
      ]
     },
     "metadata": {},
     "output_type": "display_data"
    },
    {
     "data": {
      "text/plain": [
       "'finished downloading 27. Adjusted net intake rate to the first grade of primary education, by sex Male.csv'"
      ]
     },
     "metadata": {},
     "output_type": "display_data"
    },
    {
     "data": {
      "text/plain": [
       "'finished downloading 27. Adjusted net intake rate to the first grade of primary education, by sex GPI.csv'"
      ]
     },
     "metadata": {},
     "output_type": "display_data"
    },
    {
     "data": {
      "text/plain": [
       "'finished downloading 28. Primary education completion rate (proxy), by sex Both_sexes.csv'"
      ]
     },
     "metadata": {},
     "output_type": "display_data"
    },
    {
     "data": {
      "text/plain": [
       "'finished downloading 28. Primary education completion rate (proxy), by sex Female.csv'"
      ]
     },
     "metadata": {},
     "output_type": "display_data"
    },
    {
     "data": {
      "text/plain": [
       "'finished downloading 28. Primary education completion rate (proxy), by sex Male.csv'"
      ]
     },
     "metadata": {},
     "output_type": "display_data"
    },
    {
     "data": {
      "text/plain": [
       "'finished downloading 28. Primary education completion rate (proxy), by sex GPI.csv'"
      ]
     },
     "metadata": {},
     "output_type": "display_data"
    },
    {
     "data": {
      "text/plain": [
       "'finished downloading 29. Gross graduation ratio from lower secondary education, by sex Both_sexes.csv'"
      ]
     },
     "metadata": {},
     "output_type": "display_data"
    },
    {
     "data": {
      "text/plain": [
       "'finished downloading 29. Gross graduation ratio from lower secondary education, by sex Female.csv'"
      ]
     },
     "metadata": {},
     "output_type": "display_data"
    },
    {
     "data": {
      "text/plain": [
       "'finished downloading 29. Gross graduation ratio from lower secondary education, by sex Male.csv'"
      ]
     },
     "metadata": {},
     "output_type": "display_data"
    },
    {
     "data": {
      "text/plain": [
       "'finished downloading 29. Gross graduation ratio from lower secondary education, by sex GPI.csv'"
      ]
     },
     "metadata": {},
     "output_type": "display_data"
    },
    {
     "data": {
      "text/plain": [
       "'finished downloading 30. Effective transition rate from primary to lower secondary education (general programmes), by sex Both_sexes.csv'"
      ]
     },
     "metadata": {},
     "output_type": "display_data"
    },
    {
     "data": {
      "text/plain": [
       "'finished downloading 30. Effective transition rate from primary to lower secondary education (general programmes), by sex Female.csv'"
      ]
     },
     "metadata": {},
     "output_type": "display_data"
    },
    {
     "data": {
      "text/plain": [
       "'finished downloading 30. Effective transition rate from primary to lower secondary education (general programmes), by sex Male.csv'"
      ]
     },
     "metadata": {},
     "output_type": "display_data"
    },
    {
     "data": {
      "text/plain": [
       "'finished downloading 30. Effective transition rate from primary to lower secondary education (general programmes), by sex GPI.csv'"
      ]
     },
     "metadata": {},
     "output_type": "display_data"
    },
    {
     "data": {
      "text/plain": [
       "'finished downloading 31a. Cumulative Educational attainment (minimum primary) of the population aged 25 and older, by sex Both_sexes.csv'"
      ]
     },
     "metadata": {},
     "output_type": "display_data"
    },
    {
     "data": {
      "text/plain": [
       "'finished downloading 31a. Cumulative Educational attainment (minimum primary) of the population aged 25 and older, by sex Female.csv'"
      ]
     },
     "metadata": {},
     "output_type": "display_data"
    },
    {
     "data": {
      "text/plain": [
       "'finished downloading 31a. Cumulative Educational attainment (minimum primary) of the population aged 25 and older, by sex Male.csv'"
      ]
     },
     "metadata": {},
     "output_type": "display_data"
    },
    {
     "data": {
      "text/plain": [
       "'finished downloading 31a. Cumulative Educational attainment (minimum primary) of the population aged 25 and older, by sex GPI.csv'"
      ]
     },
     "metadata": {},
     "output_type": "display_data"
    },
    {
     "data": {
      "text/plain": [
       "'finished downloading 31b. Cumulative Educational attainment (minimum lower secondary) of the population aged 25 and older, by sex Both_sexes.csv'"
      ]
     },
     "metadata": {},
     "output_type": "display_data"
    },
    {
     "data": {
      "text/plain": [
       "'finished downloading 31b. Cumulative Educational attainment (minimum lower secondary) of the population aged 25 and older, by sex Female.csv'"
      ]
     },
     "metadata": {},
     "output_type": "display_data"
    },
    {
     "data": {
      "text/plain": [
       "'finished downloading 31b. Cumulative Educational attainment (minimum lower secondary) of the population aged 25 and older, by sex Male.csv'"
      ]
     },
     "metadata": {},
     "output_type": "display_data"
    },
    {
     "data": {
      "text/plain": [
       "'finished downloading 31b. Cumulative Educational attainment (minimum lower secondary) of the population aged 25 and older, by sex GPI.csv'"
      ]
     },
     "metadata": {},
     "output_type": "display_data"
    },
    {
     "data": {
      "text/plain": [
       "'finished downloading 31c. Cumulative Educational attainment (minimum upper secondary) of the population aged 25 and older, by sex Both_sexes.csv'"
      ]
     },
     "metadata": {},
     "output_type": "display_data"
    },
    {
     "data": {
      "text/plain": [
       "'finished downloading 31c. Cumulative Educational attainment (minimum upper secondary) of the population aged 25 and older, by sex Female.csv'"
      ]
     },
     "metadata": {},
     "output_type": "display_data"
    },
    {
     "data": {
      "text/plain": [
       "'finished downloading 31c. Cumulative Educational attainment (minimum upper secondary) of the population aged 25 and older, by sex Male.csv'"
      ]
     },
     "metadata": {},
     "output_type": "display_data"
    },
    {
     "data": {
      "text/plain": [
       "'finished downloading 31c. Cumulative Educational attainment (minimum upper secondary) of the population aged 25 and older, by sex GPI.csv'"
      ]
     },
     "metadata": {},
     "output_type": "display_data"
    },
    {
     "data": {
      "text/plain": [
       "'finished downloading 31d. Cumulative Educational attainment (minimum post-secondary) of the population aged 25 and older, by sex Both_sexes.csv'"
      ]
     },
     "metadata": {},
     "output_type": "display_data"
    },
    {
     "data": {
      "text/plain": [
       "'finished downloading 31d. Cumulative Educational attainment (minimum post-secondary) of the population aged 25 and older, by sex Female.csv'"
      ]
     },
     "metadata": {},
     "output_type": "display_data"
    },
    {
     "data": {
      "text/plain": [
       "'finished downloading 31d. Cumulative Educational attainment (minimum post-secondary) of the population aged 25 and older, by sex Male.csv'"
      ]
     },
     "metadata": {},
     "output_type": "display_data"
    },
    {
     "data": {
      "text/plain": [
       "'finished downloading 31d. Cumulative Educational attainment (minimum post-secondary) of the population aged 25 and older, by sex GPI.csv'"
      ]
     },
     "metadata": {},
     "output_type": "display_data"
    },
    {
     "data": {
      "text/plain": [
       "'finished downloading 31e. Cumulative Educational attainment (minimum tertiary) of the population aged 25 and older, by sex Both_sexes.csv'"
      ]
     },
     "metadata": {},
     "output_type": "display_data"
    },
    {
     "data": {
      "text/plain": [
       "'finished downloading 31e. Cumulative Educational attainment (minimum tertiary) of the population aged 25 and older, by sex Female.csv'"
      ]
     },
     "metadata": {},
     "output_type": "display_data"
    },
    {
     "data": {
      "text/plain": [
       "'finished downloading 31e. Cumulative Educational attainment (minimum tertiary) of the population aged 25 and older, by sex Male.csv'"
      ]
     },
     "metadata": {},
     "output_type": "display_data"
    },
    {
     "data": {
      "text/plain": [
       "'finished downloading 31e. Cumulative Educational attainment (minimum tertiary) of the population aged 25 and older, by sex GPI.csv'"
      ]
     },
     "metadata": {},
     "output_type": "display_data"
    }
   ],
   "source": [
    "\n",
    "for i in range(55):\n",
    "    url = buildUrl(idctr.New_Code[i])\n",
    "\n",
    "    file = idctr.Indicator[i] + ' ' + idctr.Disaggregation[i] + '.csv'\n",
    "\n",
    "    getcsv(url,file)"
   ]
  },
  {
   "cell_type": "raw",
   "metadata": {},
   "source": [
    "idctr.shape"
   ]
  }
 ],
 "metadata": {
  "kernelspec": {
   "display_name": "Python 3",
   "language": "python",
   "name": "python3"
  },
  "language_info": {
   "codemirror_mode": {
    "name": "ipython",
    "version": 3
   },
   "file_extension": ".py",
   "mimetype": "text/x-python",
   "name": "python",
   "nbconvert_exporter": "python",
   "pygments_lexer": "ipython3",
   "version": "3.6.8"
  }
 },
 "nbformat": 4,
 "nbformat_minor": 2
}
