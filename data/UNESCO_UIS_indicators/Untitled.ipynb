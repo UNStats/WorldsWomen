{
 "cells": [
  {
   "cell_type": "markdown",
   "metadata": {},
   "source": [
    "# Minimum set of gender indicators"
   ]
  },
  {
   "cell_type": "markdown",
   "metadata": {},
   "source": [
    "Steps:\n",
    "1. Read minumum set of gender indicators as slices of gender datasets\n",
    "2. Read DSD for gender datasets pulled from Global SDG Database\n",
    "3. Read DSD for gender datasets pulled form UNESCO API\n",
    "4. Read DSD for gender datasets pulled from ILO API\n",
    "5. Generate Common Gender DSD\n",
    "6. Pull datasets from Global SDG Database\n",
    "7. Pull datasets from UNESCO API\n",
    "8. Pull datasets from ILO API\n"
   ]
  },
  {
   "cell_type": "code",
   "execution_count": null,
   "metadata": {},
   "outputs": [],
   "source": []
  }
 ],
 "metadata": {
  "kernelspec": {
   "display_name": "Python 3",
   "language": "python",
   "name": "python3"
  },
  "language_info": {
   "codemirror_mode": {
    "name": "ipython",
    "version": 3
   },
   "file_extension": ".py",
   "mimetype": "text/x-python",
   "name": "python",
   "nbconvert_exporter": "python",
   "pygments_lexer": "ipython3",
   "version": "3.6.8"
  }
 },
 "nbformat": 4,
 "nbformat_minor": 2
}
